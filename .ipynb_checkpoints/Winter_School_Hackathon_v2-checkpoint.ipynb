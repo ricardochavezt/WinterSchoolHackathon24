{
 "cells": [
  {
   "cell_type": "code",
   "execution_count": 196,
   "id": "e0509e02-b2bc-4e9a-b5ec-83a787709b83",
   "metadata": {},
   "outputs": [],
   "source": [
    "import pandas as pd\n",
    "import numpy as np\n",
    "import matplotlib.pyplot as plt\n",
    "import seaborn as sns\n",
    "\n",
    "from sklearn.model_selection import train_test_split\n",
    "from sklearn.model_selection import cross_val_score\n",
    "from xgboost import XGBClassifier, plot_importance"
   ]
  },
  {
   "cell_type": "code",
   "execution_count": 126,
   "id": "4e643bbd-c362-4e78-9b3b-354464c00ce8",
   "metadata": {},
   "outputs": [
    {
     "data": {
      "text/html": [
       "<div>\n",
       "<style scoped>\n",
       "    .dataframe tbody tr th:only-of-type {\n",
       "        vertical-align: middle;\n",
       "    }\n",
       "\n",
       "    .dataframe tbody tr th {\n",
       "        vertical-align: top;\n",
       "    }\n",
       "\n",
       "    .dataframe thead th {\n",
       "        text-align: right;\n",
       "    }\n",
       "</style>\n",
       "<table border=\"1\" class=\"dataframe\">\n",
       "  <thead>\n",
       "    <tr style=\"text-align: right;\">\n",
       "      <th></th>\n",
       "      <th>subject</th>\n",
       "      <th>lap</th>\n",
       "      <th>start_time</th>\n",
       "      <th>straight</th>\n",
       "      <th>roundabout_entry</th>\n",
       "      <th>roundabout_exit</th>\n",
       "      <th>zebra_crossing</th>\n",
       "      <th>left_turn</th>\n",
       "      <th>u_turn</th>\n",
       "      <th>bypass_dummy</th>\n",
       "      <th>...</th>\n",
       "      <th>LowerAlphaFrontal</th>\n",
       "      <th>LowerAlphaParietal</th>\n",
       "      <th>UpperAlphaFrontal</th>\n",
       "      <th>UpperAlphaParietal</th>\n",
       "      <th>BetaFrontal</th>\n",
       "      <th>BetaParietal</th>\n",
       "      <th>LowerBetaFrontal</th>\n",
       "      <th>LowerBetaParietal</th>\n",
       "      <th>UpperBetaFrontal</th>\n",
       "      <th>UpperBetaParietal</th>\n",
       "    </tr>\n",
       "  </thead>\n",
       "  <tbody>\n",
       "    <tr>\n",
       "      <th>0</th>\n",
       "      <td>0AC2A4</td>\n",
       "      <td>1</td>\n",
       "      <td>7</td>\n",
       "      <td>1</td>\n",
       "      <td>1</td>\n",
       "      <td>0</td>\n",
       "      <td>0</td>\n",
       "      <td>1</td>\n",
       "      <td>0</td>\n",
       "      <td>0</td>\n",
       "      <td>...</td>\n",
       "      <td>0.13222</td>\n",
       "      <td>0.08812</td>\n",
       "      <td>0.13469</td>\n",
       "      <td>0.08590</td>\n",
       "      <td>0.05499</td>\n",
       "      <td>0.04078</td>\n",
       "      <td>0.08419</td>\n",
       "      <td>0.06275</td>\n",
       "      <td>0.03722</td>\n",
       "      <td>0.02711</td>\n",
       "    </tr>\n",
       "    <tr>\n",
       "      <th>1</th>\n",
       "      <td>0AC2A4</td>\n",
       "      <td>1</td>\n",
       "      <td>27</td>\n",
       "      <td>1</td>\n",
       "      <td>0</td>\n",
       "      <td>1</td>\n",
       "      <td>0</td>\n",
       "      <td>1</td>\n",
       "      <td>0</td>\n",
       "      <td>0</td>\n",
       "      <td>...</td>\n",
       "      <td>0.13639</td>\n",
       "      <td>0.08118</td>\n",
       "      <td>0.12483</td>\n",
       "      <td>0.07588</td>\n",
       "      <td>0.04060</td>\n",
       "      <td>0.02869</td>\n",
       "      <td>0.05951</td>\n",
       "      <td>0.04759</td>\n",
       "      <td>0.02963</td>\n",
       "      <td>0.01753</td>\n",
       "    </tr>\n",
       "    <tr>\n",
       "      <th>2</th>\n",
       "      <td>0AC2A4</td>\n",
       "      <td>1</td>\n",
       "      <td>33</td>\n",
       "      <td>1</td>\n",
       "      <td>0</td>\n",
       "      <td>0</td>\n",
       "      <td>1</td>\n",
       "      <td>1</td>\n",
       "      <td>0</td>\n",
       "      <td>0</td>\n",
       "      <td>...</td>\n",
       "      <td>0.19671</td>\n",
       "      <td>0.11480</td>\n",
       "      <td>0.10121</td>\n",
       "      <td>0.09079</td>\n",
       "      <td>0.04339</td>\n",
       "      <td>0.02727</td>\n",
       "      <td>0.06250</td>\n",
       "      <td>0.04305</td>\n",
       "      <td>0.03296</td>\n",
       "      <td>0.01751</td>\n",
       "    </tr>\n",
       "    <tr>\n",
       "      <th>3</th>\n",
       "      <td>0AC2A4</td>\n",
       "      <td>1</td>\n",
       "      <td>43</td>\n",
       "      <td>1</td>\n",
       "      <td>1</td>\n",
       "      <td>0</td>\n",
       "      <td>0</td>\n",
       "      <td>0</td>\n",
       "      <td>0</td>\n",
       "      <td>0</td>\n",
       "      <td>...</td>\n",
       "      <td>0.20826</td>\n",
       "      <td>0.12873</td>\n",
       "      <td>0.11832</td>\n",
       "      <td>0.11087</td>\n",
       "      <td>0.04872</td>\n",
       "      <td>0.02917</td>\n",
       "      <td>0.06894</td>\n",
       "      <td>0.04766</td>\n",
       "      <td>0.03627</td>\n",
       "      <td>0.01744</td>\n",
       "    </tr>\n",
       "    <tr>\n",
       "      <th>4</th>\n",
       "      <td>0AC2A4</td>\n",
       "      <td>1</td>\n",
       "      <td>58</td>\n",
       "      <td>1</td>\n",
       "      <td>1</td>\n",
       "      <td>0</td>\n",
       "      <td>0</td>\n",
       "      <td>0</td>\n",
       "      <td>0</td>\n",
       "      <td>0</td>\n",
       "      <td>...</td>\n",
       "      <td>0.21193</td>\n",
       "      <td>0.14454</td>\n",
       "      <td>0.13428</td>\n",
       "      <td>0.13604</td>\n",
       "      <td>0.04173</td>\n",
       "      <td>0.02743</td>\n",
       "      <td>0.05937</td>\n",
       "      <td>0.04344</td>\n",
       "      <td>0.03132</td>\n",
       "      <td>0.01762</td>\n",
       "    </tr>\n",
       "  </tbody>\n",
       "</table>\n",
       "<p>5 rows × 88 columns</p>\n",
       "</div>"
      ],
      "text/plain": [
       "  subject  lap  start_time  straight  roundabout_entry  roundabout_exit  \\\n",
       "0  0AC2A4    1           7         1                 1                0   \n",
       "1  0AC2A4    1          27         1                 0                1   \n",
       "2  0AC2A4    1          33         1                 0                0   \n",
       "3  0AC2A4    1          43         1                 1                0   \n",
       "4  0AC2A4    1          58         1                 1                0   \n",
       "\n",
       "   zebra_crossing  left_turn  u_turn  bypass_dummy  ...  LowerAlphaFrontal  \\\n",
       "0               0          1       0             0  ...            0.13222   \n",
       "1               0          1       0             0  ...            0.13639   \n",
       "2               1          1       0             0  ...            0.19671   \n",
       "3               0          0       0             0  ...            0.20826   \n",
       "4               0          0       0             0  ...            0.21193   \n",
       "\n",
       "   LowerAlphaParietal  UpperAlphaFrontal  UpperAlphaParietal  BetaFrontal  \\\n",
       "0             0.08812            0.13469             0.08590      0.05499   \n",
       "1             0.08118            0.12483             0.07588      0.04060   \n",
       "2             0.11480            0.10121             0.09079      0.04339   \n",
       "3             0.12873            0.11832             0.11087      0.04872   \n",
       "4             0.14454            0.13428             0.13604      0.04173   \n",
       "\n",
       "   BetaParietal  LowerBetaFrontal  LowerBetaParietal  UpperBetaFrontal  \\\n",
       "0       0.04078           0.08419            0.06275           0.03722   \n",
       "1       0.02869           0.05951            0.04759           0.02963   \n",
       "2       0.02727           0.06250            0.04305           0.03296   \n",
       "3       0.02917           0.06894            0.04766           0.03627   \n",
       "4       0.02743           0.05937            0.04344           0.03132   \n",
       "\n",
       "   UpperBetaParietal  \n",
       "0            0.02711  \n",
       "1            0.01753  \n",
       "2            0.01751  \n",
       "3            0.01744  \n",
       "4            0.01762  \n",
       "\n",
       "[5 rows x 88 columns]"
      ]
     },
     "execution_count": 126,
     "metadata": {},
     "output_type": "execute_result"
    }
   ],
   "source": [
    "real_data = pd.read_excel(\"Feature_Track.xlsx\", index_col=0)\n",
    "real_data.head()"
   ]
  },
  {
   "cell_type": "code",
   "execution_count": 127,
   "id": "dc809d74-7e4e-41de-9643-28a345de644f",
   "metadata": {},
   "outputs": [
    {
     "data": {
      "text/plain": [
       "(1056, 88)"
      ]
     },
     "execution_count": 127,
     "metadata": {},
     "output_type": "execute_result"
    }
   ],
   "source": [
    "real_data.shape"
   ]
  },
  {
   "cell_type": "code",
   "execution_count": 128,
   "id": "6f671bec-877c-4308-9346-2c1acf5c55b2",
   "metadata": {},
   "outputs": [
    {
     "name": "stdout",
     "output_type": "stream",
     "text": [
      "88\n"
     ]
    },
    {
     "data": {
      "text/plain": [
       "<Axes: >"
      ]
     },
     "execution_count": 128,
     "metadata": {},
     "output_type": "execute_result"
    },
    {
     "data": {
      "image/png": "[encoded data removed]",
      "text/plain": [
       "<Figure size 640x480 with 1 Axes>"
      ]
     },
     "metadata": {},
     "output_type": "display_data"
    }
   ],
   "source": [
    "null_cols = real_data.isnull().sum()\n",
    "print(len(null_cols))\n",
    "null_cols.plot()"
   ]
  },
  {
   "cell_type": "code",
   "execution_count": 129,
   "id": "ad2551b9-b3c8-4e2a-a1f3-062a2180a843",
   "metadata": {},
   "outputs": [
    {
     "data": {
      "image/png": "[encoded data removed]",
      "text/plain": [
       "<Figure size 640x480 with 1 Axes>"
      ]
     },
     "metadata": {},
     "output_type": "display_data"
    }
   ],
   "source": [
    "plt.plot(null_cols)\n",
    "plt.show()"
   ]
  },
  {
   "cell_type": "code",
   "execution_count": 130,
   "id": "fcb1522e-5d4a-4ae3-9ecb-47a8f41550d5",
   "metadata": {},
   "outputs": [
    {
     "data": {
      "text/html": [
       "<div>\n",
       "<style scoped>\n",
       "    .dataframe tbody tr th:only-of-type {\n",
       "        vertical-align: middle;\n",
       "    }\n",
       "\n",
       "    .dataframe tbody tr th {\n",
       "        vertical-align: top;\n",
       "    }\n",
       "\n",
       "    .dataframe thead th {\n",
       "        text-align: right;\n",
       "    }\n",
       "</style>\n",
       "<table border=\"1\" class=\"dataframe\">\n",
       "  <thead>\n",
       "    <tr style=\"text-align: right;\">\n",
       "      <th></th>\n",
       "      <th>subject</th>\n",
       "      <th>lap</th>\n",
       "      <th>start_time</th>\n",
       "      <th>straight</th>\n",
       "      <th>roundabout_entry</th>\n",
       "      <th>roundabout_exit</th>\n",
       "      <th>zebra_crossing</th>\n",
       "      <th>left_turn</th>\n",
       "      <th>u_turn</th>\n",
       "      <th>bypass_dummy</th>\n",
       "      <th>...</th>\n",
       "      <th>LowerAlphaFrontal</th>\n",
       "      <th>LowerAlphaParietal</th>\n",
       "      <th>UpperAlphaFrontal</th>\n",
       "      <th>UpperAlphaParietal</th>\n",
       "      <th>BetaFrontal</th>\n",
       "      <th>BetaParietal</th>\n",
       "      <th>LowerBetaFrontal</th>\n",
       "      <th>LowerBetaParietal</th>\n",
       "      <th>UpperBetaFrontal</th>\n",
       "      <th>UpperBetaParietal</th>\n",
       "    </tr>\n",
       "  </thead>\n",
       "  <tbody>\n",
       "    <tr>\n",
       "      <th>0</th>\n",
       "      <td>0AC2A4</td>\n",
       "      <td>1</td>\n",
       "      <td>13</td>\n",
       "      <td>1</td>\n",
       "      <td>0</td>\n",
       "      <td>0</td>\n",
       "      <td>1</td>\n",
       "      <td>0</td>\n",
       "      <td>0</td>\n",
       "      <td>0</td>\n",
       "      <td>...</td>\n",
       "      <td>0.12420</td>\n",
       "      <td>0.07737</td>\n",
       "      <td>0.12307</td>\n",
       "      <td>0.07681</td>\n",
       "      <td>0.05046</td>\n",
       "      <td>0.03492</td>\n",
       "      <td>0.07430</td>\n",
       "      <td>0.05289</td>\n",
       "      <td>0.03606</td>\n",
       "      <td>0.02393</td>\n",
       "    </tr>\n",
       "    <tr>\n",
       "      <th>1</th>\n",
       "      <td>0AC2A4</td>\n",
       "      <td>1</td>\n",
       "      <td>32</td>\n",
       "      <td>0</td>\n",
       "      <td>1</td>\n",
       "      <td>0</td>\n",
       "      <td>1</td>\n",
       "      <td>0</td>\n",
       "      <td>0</td>\n",
       "      <td>0</td>\n",
       "      <td>...</td>\n",
       "      <td>0.20402</td>\n",
       "      <td>0.10296</td>\n",
       "      <td>0.14606</td>\n",
       "      <td>0.10325</td>\n",
       "      <td>0.03636</td>\n",
       "      <td>0.02433</td>\n",
       "      <td>0.05822</td>\n",
       "      <td>0.04136</td>\n",
       "      <td>0.02535</td>\n",
       "      <td>0.01391</td>\n",
       "    </tr>\n",
       "    <tr>\n",
       "      <th>2</th>\n",
       "      <td>0AC2A4</td>\n",
       "      <td>1</td>\n",
       "      <td>36</td>\n",
       "      <td>0</td>\n",
       "      <td>0</td>\n",
       "      <td>1</td>\n",
       "      <td>1</td>\n",
       "      <td>0</td>\n",
       "      <td>0</td>\n",
       "      <td>0</td>\n",
       "      <td>...</td>\n",
       "      <td>0.20329</td>\n",
       "      <td>0.12355</td>\n",
       "      <td>0.09483</td>\n",
       "      <td>0.08173</td>\n",
       "      <td>0.04524</td>\n",
       "      <td>0.02847</td>\n",
       "      <td>0.06055</td>\n",
       "      <td>0.04321</td>\n",
       "      <td>0.03586</td>\n",
       "      <td>0.01923</td>\n",
       "    </tr>\n",
       "    <tr>\n",
       "      <th>3</th>\n",
       "      <td>0AC2A4</td>\n",
       "      <td>1</td>\n",
       "      <td>42</td>\n",
       "      <td>1</td>\n",
       "      <td>0</td>\n",
       "      <td>0</td>\n",
       "      <td>0</td>\n",
       "      <td>0</td>\n",
       "      <td>0</td>\n",
       "      <td>0</td>\n",
       "      <td>...</td>\n",
       "      <td>0.20325</td>\n",
       "      <td>0.12153</td>\n",
       "      <td>0.11255</td>\n",
       "      <td>0.10920</td>\n",
       "      <td>0.04928</td>\n",
       "      <td>0.02923</td>\n",
       "      <td>0.07192</td>\n",
       "      <td>0.04653</td>\n",
       "      <td>0.03536</td>\n",
       "      <td>0.01832</td>\n",
       "    </tr>\n",
       "    <tr>\n",
       "      <th>4</th>\n",
       "      <td>0AC2A4</td>\n",
       "      <td>1</td>\n",
       "      <td>52</td>\n",
       "      <td>1</td>\n",
       "      <td>0</td>\n",
       "      <td>0</td>\n",
       "      <td>0</td>\n",
       "      <td>0</td>\n",
       "      <td>1</td>\n",
       "      <td>0</td>\n",
       "      <td>...</td>\n",
       "      <td>0.19645</td>\n",
       "      <td>0.13454</td>\n",
       "      <td>0.13270</td>\n",
       "      <td>0.13759</td>\n",
       "      <td>0.04501</td>\n",
       "      <td>0.02943</td>\n",
       "      <td>0.06175</td>\n",
       "      <td>0.04715</td>\n",
       "      <td>0.03511</td>\n",
       "      <td>0.01838</td>\n",
       "    </tr>\n",
       "  </tbody>\n",
       "</table>\n",
       "<p>5 rows × 88 columns</p>\n",
       "</div>"
      ],
      "text/plain": [
       "  subject  lap  start_time  straight  roundabout_entry  roundabout_exit  \\\n",
       "0  0AC2A4    1          13         1                 0                0   \n",
       "1  0AC2A4    1          32         0                 1                0   \n",
       "2  0AC2A4    1          36         0                 0                1   \n",
       "3  0AC2A4    1          42         1                 0                0   \n",
       "4  0AC2A4    1          52         1                 0                0   \n",
       "\n",
       "   zebra_crossing  left_turn  u_turn  bypass_dummy  ...  LowerAlphaFrontal  \\\n",
       "0               1          0       0             0  ...            0.12420   \n",
       "1               1          0       0             0  ...            0.20402   \n",
       "2               1          0       0             0  ...            0.20329   \n",
       "3               0          0       0             0  ...            0.20325   \n",
       "4               0          0       1             0  ...            0.19645   \n",
       "\n",
       "   LowerAlphaParietal  UpperAlphaFrontal  UpperAlphaParietal  BetaFrontal  \\\n",
       "0             0.07737            0.12307             0.07681      0.05046   \n",
       "1             0.10296            0.14606             0.10325      0.03636   \n",
       "2             0.12355            0.09483             0.08173      0.04524   \n",
       "3             0.12153            0.11255             0.10920      0.04928   \n",
       "4             0.13454            0.13270             0.13759      0.04501   \n",
       "\n",
       "   BetaParietal  LowerBetaFrontal  LowerBetaParietal  UpperBetaFrontal  \\\n",
       "0       0.03492           0.07430            0.05289           0.03606   \n",
       "1       0.02433           0.05822            0.04136           0.02535   \n",
       "2       0.02847           0.06055            0.04321           0.03586   \n",
       "3       0.02923           0.07192            0.04653           0.03536   \n",
       "4       0.02943           0.06175            0.04715           0.03511   \n",
       "\n",
       "   UpperBetaParietal  \n",
       "0            0.02393  \n",
       "1            0.01391  \n",
       "2            0.01923  \n",
       "3            0.01832  \n",
       "4            0.01838  \n",
       "\n",
       "[5 rows x 88 columns]"
      ]
     },
     "execution_count": 130,
     "metadata": {},
     "output_type": "execute_result"
    }
   ],
   "source": [
    "sim_data = pd.read_excel(\"Feature_Simulation.xlsx\", index_col=0)\n",
    "sim_data.head()"
   ]
  },
  {
   "cell_type": "code",
   "execution_count": 131,
   "id": "bc56cf54-b1b1-4a08-bd79-19bf366fc2d0",
   "metadata": {},
   "outputs": [
    {
     "data": {
      "text/plain": [
       "(1287, 88)"
      ]
     },
     "execution_count": 131,
     "metadata": {},
     "output_type": "execute_result"
    }
   ],
   "source": [
    "sim_data.shape"
   ]
  },
  {
   "cell_type": "code",
   "execution_count": 132,
   "id": "cec09327-9580-4780-af24-99e3614fb913",
   "metadata": {},
   "outputs": [
    {
     "data": {
      "text/plain": [
       "Index(['max_speed', 'avg_speed', 'std_speed', 'yaw', 'yaw_rate', 'roll',\n",
       "       'roll_rate', 'pitch', 'pitch_rate', 'lat_acce', 'long_acce',\n",
       "       'vert_acce', 'avg_acce_pedal_pos', 'std_acce_pedal_pos',\n",
       "       'avg_steer_angle', 'std_steer_angle', 'hr', 'hrv_lf', 'hrv_hf',\n",
       "       'hrv_lfhf_ratio', 'gsr_tonic', 'gsr_phasic', 'gsr_peaks', 'EBRmean',\n",
       "       'BDmean', 'ThetaFrontal', 'ThetaParietal', 'AlphaFrontal',\n",
       "       'AlphaParietal', 'LowerAlphaFrontal', 'LowerAlphaParietal',\n",
       "       'UpperAlphaFrontal', 'UpperAlphaParietal', 'BetaFrontal',\n",
       "       'BetaParietal', 'LowerBetaFrontal', 'LowerBetaParietal',\n",
       "       'UpperBetaFrontal', 'UpperBetaParietal'],\n",
       "      dtype='object')"
      ]
     },
     "execution_count": 132,
     "metadata": {},
     "output_type": "execute_result"
    }
   ],
   "source": [
    "numerical_features = real_data.select_dtypes(include=['float64']).columns\n",
    "numerical_features"
   ]
  },
  {
   "cell_type": "code",
   "execution_count": 133,
   "id": "6b206cf5-6e96-48b0-83f8-3f02c55304c9",
   "metadata": {},
   "outputs": [
    {
     "data": {
      "text/plain": [
       "Index(['subject', 'lap', 'start_time', 'straight', 'roundabout_entry',\n",
       "       'roundabout_exit', 'zebra_crossing', 'left_turn', 'u_turn',\n",
       "       'bypass_dummy', 'car', 'pedestrian', 'traffic_light', 'narrow_road',\n",
       "       'dummy', 'bend', 'habituation', 'traffic', 'hurry', 'frustration',\n",
       "       'surprise', 'risk_outcome', 'risk_source_env', 'risk_source_other_usr',\n",
       "       'risk_source_driver', 'risk_source_crash', 'risk_evaluation',\n",
       "       'violation_no', 'violation_roadside_invasion', 'violation_give_the_way',\n",
       "       'violation_road_signs', 'violation_heavy_braking',\n",
       "       'violation_roadside_exit', 'violation_slowdown', 'emotion_na',\n",
       "       'emotion_neutral', 'emotion_surprise', 'emotion_anger',\n",
       "       'emotion_boredom', 'emotion_fear', 'emotion_fun', 'gaze_na',\n",
       "       'gaze_complete_expl', 'gaze_partial_expl', 'gaze_poor_expl',\n",
       "       'distraction_na', 'distraction_no', 'distraction_reduced_attention',\n",
       "       'distraction_speaking'],\n",
       "      dtype='object')"
      ]
     },
     "execution_count": 133,
     "metadata": {},
     "output_type": "execute_result"
    }
   ],
   "source": [
    "categorical_features = real_data.select_dtypes(exclude=['float64']).columns\n",
    "categorical_features"
   ]
  },
  {
   "cell_type": "code",
   "execution_count": 134,
   "id": "b9c072cf-b217-4522-9be6-e8b74be65f75",
   "metadata": {},
   "outputs": [
    {
     "data": {
      "text/plain": [
       "{dtype('int64'), dtype('float64'), dtype('O')}"
      ]
     },
     "execution_count": 134,
     "metadata": {},
     "output_type": "execute_result"
    }
   ],
   "source": [
    "set(sim_data.dtypes)"
   ]
  },
  {
   "cell_type": "code",
   "execution_count": 135,
   "id": "06f87308-b960-4859-8842-b72f7c05f7d0",
   "metadata": {},
   "outputs": [],
   "source": [
    "categorical_featurers = []\n",
    "binary_features =  [] "
   ]
  },
  {
   "cell_type": "code",
   "execution_count": 136,
   "id": "bb682218-9e25-4c65-9c62-19423d53580b",
   "metadata": {},
   "outputs": [
    {
     "data": {
      "text/plain": [
       "array([2, 1], dtype=int64)"
      ]
     },
     "execution_count": 136,
     "metadata": {},
     "output_type": "execute_result"
    }
   ],
   "source": [
    "real_data.frustration.unique()"
   ]
  },
  {
   "cell_type": "markdown",
   "id": "f36ab18f-ac4c-4081-9299-46ebca17215b",
   "metadata": {},
   "source": [
    "### Todo:\n",
    "- Separate the categorical features from the numerical features\n",
    "- Deal with missing values"
   ]
  },
  {
   "cell_type": "code",
   "execution_count": 137,
   "id": "a3a29aaf-2540-4a0e-8176-8c5b9a44315e",
   "metadata": {},
   "outputs": [
    {
     "name": "stdout",
     "output_type": "stream",
     "text": [
      "subject 0\n",
      "lap 0\n",
      "start_time 0\n",
      "straight 0\n",
      "roundabout_entry 0\n",
      "roundabout_exit 0\n",
      "zebra_crossing 0\n",
      "left_turn 0\n",
      "u_turn 0\n",
      "bypass_dummy 0\n",
      "car 0\n",
      "pedestrian 0\n",
      "traffic_light 0\n",
      "narrow_road 0\n",
      "dummy 0\n",
      "bend 0\n",
      "habituation 0\n",
      "traffic 0\n",
      "hurry 0\n",
      "frustration 0\n",
      "surprise 0\n",
      "risk_outcome 0\n",
      "risk_source_env 0\n",
      "risk_source_other_usr 0\n",
      "risk_source_driver 0\n",
      "risk_source_crash 0\n",
      "risk_evaluation 0\n",
      "violation_no 0\n",
      "violation_roadside_invasion 0\n",
      "violation_give_the_way 0\n",
      "violation_road_signs 0\n",
      "violation_heavy_braking 0\n",
      "violation_roadside_exit 0\n",
      "violation_slowdown 0\n",
      "emotion_na 0\n",
      "emotion_neutral 0\n",
      "emotion_surprise 0\n",
      "emotion_anger 0\n",
      "emotion_boredom 0\n",
      "emotion_fear 0\n",
      "emotion_fun 0\n",
      "gaze_na 0\n",
      "gaze_complete_expl 0\n",
      "gaze_partial_expl 0\n",
      "gaze_poor_expl 0\n",
      "distraction_na 0\n",
      "distraction_no 0\n",
      "distraction_reduced_attention 0\n",
      "distraction_speaking 0\n",
      "max_speed 44\n",
      "avg_speed 44\n",
      "std_speed 44\n",
      "yaw 0\n",
      "yaw_rate 0\n",
      "roll 0\n",
      "roll_rate 0\n",
      "pitch 0\n",
      "pitch_rate 0\n",
      "lat_acce 0\n",
      "long_acce 0\n",
      "vert_acce 0\n",
      "avg_acce_pedal_pos 0\n",
      "std_acce_pedal_pos 0\n",
      "avg_steer_angle 0\n",
      "std_steer_angle 0\n",
      "hr 345\n",
      "hrv_lf 345\n",
      "hrv_hf 345\n",
      "hrv_lfhf_ratio 345\n",
      "gsr_tonic 240\n",
      "gsr_phasic 240\n",
      "gsr_peaks 240\n",
      "EBRmean 339\n",
      "BDmean 341\n",
      "ThetaFrontal 247\n",
      "ThetaParietal 247\n",
      "AlphaFrontal 247\n",
      "AlphaParietal 247\n",
      "LowerAlphaFrontal 247\n",
      "LowerAlphaParietal 247\n",
      "UpperAlphaFrontal 247\n",
      "UpperAlphaParietal 247\n",
      "BetaFrontal 247\n",
      "BetaParietal 247\n",
      "LowerBetaFrontal 247\n",
      "LowerBetaParietal 247\n",
      "UpperBetaFrontal 247\n",
      "UpperBetaParietal 247\n"
     ]
    }
   ],
   "source": [
    "for col in real_data.columns:\n",
    "    print(col, real_data[col].isnull().sum())"
   ]
  },
  {
   "cell_type": "code",
   "execution_count": 138,
   "id": "2dde2f78-6057-4509-9371-76f42ebad294",
   "metadata": {},
   "outputs": [],
   "source": [
    "def fill_null_vals(dataset, groupby_col=\"subject\") -> pd.DataFrame:\n",
    "    for column in dataset.columns:\n",
    "        # Skip the column used for grouping\n",
    "        if column == groupby_col:\n",
    "            continue\n",
    "        # Apply group-specific mean for each column with missing values\n",
    "        dataset[column] = dataset.groupby(groupby_col)[column].transform(lambda x: x.fillna(x.mean()))\n",
    "    return dataset"
   ]
  },
  {
   "cell_type": "code",
   "execution_count": 139,
   "id": "121945af-765b-4324-bc36-5ab09c02ba43",
   "metadata": {},
   "outputs": [],
   "source": [
    "real_data_nulls_filled = fill_null_vals(real_data, \"subject\")"
   ]
  },
  {
   "cell_type": "code",
   "execution_count": 140,
   "id": "a242dd90-fa09-44e9-b9c7-4bd8c069ed8e",
   "metadata": {},
   "outputs": [
    {
     "name": "stdout",
     "output_type": "stream",
     "text": [
      "subject 0\n",
      "lap 0\n",
      "start_time 0\n",
      "straight 0\n",
      "roundabout_entry 0\n",
      "roundabout_exit 0\n",
      "zebra_crossing 0\n",
      "left_turn 0\n",
      "u_turn 0\n",
      "bypass_dummy 0\n",
      "car 0\n",
      "pedestrian 0\n",
      "traffic_light 0\n",
      "narrow_road 0\n",
      "dummy 0\n",
      "bend 0\n",
      "habituation 0\n",
      "traffic 0\n",
      "hurry 0\n",
      "frustration 0\n",
      "surprise 0\n",
      "risk_outcome 0\n",
      "risk_source_env 0\n",
      "risk_source_other_usr 0\n",
      "risk_source_driver 0\n",
      "risk_source_crash 0\n",
      "risk_evaluation 0\n",
      "violation_no 0\n",
      "violation_roadside_invasion 0\n",
      "violation_give_the_way 0\n",
      "violation_road_signs 0\n",
      "violation_heavy_braking 0\n",
      "violation_roadside_exit 0\n",
      "violation_slowdown 0\n",
      "emotion_na 0\n",
      "emotion_neutral 0\n",
      "emotion_surprise 0\n",
      "emotion_anger 0\n",
      "emotion_boredom 0\n",
      "emotion_fear 0\n",
      "emotion_fun 0\n",
      "gaze_na 0\n",
      "gaze_complete_expl 0\n",
      "gaze_partial_expl 0\n",
      "gaze_poor_expl 0\n",
      "distraction_na 0\n",
      "distraction_no 0\n",
      "distraction_reduced_attention 0\n",
      "distraction_speaking 0\n",
      "max_speed 0\n",
      "avg_speed 0\n",
      "std_speed 0\n",
      "yaw 0\n",
      "yaw_rate 0\n",
      "roll 0\n",
      "roll_rate 0\n",
      "pitch 0\n",
      "pitch_rate 0\n",
      "lat_acce 0\n",
      "long_acce 0\n",
      "vert_acce 0\n",
      "avg_acce_pedal_pos 0\n",
      "std_acce_pedal_pos 0\n",
      "avg_steer_angle 0\n",
      "std_steer_angle 0\n",
      "hr 77\n",
      "hrv_lf 77\n",
      "hrv_hf 77\n",
      "hrv_lfhf_ratio 77\n",
      "gsr_tonic 77\n",
      "gsr_phasic 77\n",
      "gsr_peaks 77\n",
      "EBRmean 77\n",
      "BDmean 77\n",
      "ThetaFrontal 77\n",
      "ThetaParietal 77\n",
      "AlphaFrontal 77\n",
      "AlphaParietal 77\n",
      "LowerAlphaFrontal 77\n",
      "LowerAlphaParietal 77\n",
      "UpperAlphaFrontal 77\n",
      "UpperAlphaParietal 77\n",
      "BetaFrontal 77\n",
      "BetaParietal 77\n",
      "LowerBetaFrontal 77\n",
      "LowerBetaParietal 77\n",
      "UpperBetaFrontal 77\n",
      "UpperBetaParietal 77\n"
     ]
    }
   ],
   "source": [
    "for col in real_data_nulls_filled.columns:\n",
    "    print(col, real_data[col].isnull().sum())"
   ]
  },
  {
   "cell_type": "code",
   "execution_count": 141,
   "id": "e68c213d-cacc-4da6-8b67-a7d6447bcea1",
   "metadata": {},
   "outputs": [
    {
     "name": "stdout",
     "output_type": "stream",
     "text": [
      "subject 0\n",
      "lap 0\n",
      "start_time 0\n",
      "straight 0\n",
      "roundabout_entry 0\n",
      "roundabout_exit 0\n",
      "zebra_crossing 0\n",
      "left_turn 0\n",
      "u_turn 0\n",
      "bypass_dummy 0\n",
      "car 0\n",
      "pedestrian 0\n",
      "traffic_light 0\n",
      "narrow_road 0\n",
      "dummy 0\n",
      "bend 0\n",
      "habituation 0\n",
      "traffic 0\n",
      "hurry 0\n",
      "frustration 0\n",
      "surprise 0\n",
      "risk_outcome 0\n",
      "risk_source_env 0\n",
      "risk_source_other_usr 0\n",
      "risk_source_driver 0\n",
      "risk_source_crash 0\n",
      "risk_evaluation 0\n",
      "violation_no 0\n",
      "violation_roadside_invasion 0\n",
      "violation_give_the_way 0\n",
      "violation_road_signs 0\n",
      "violation_heavy_braking 0\n",
      "violation_roadside_exit 0\n",
      "violation_slowdown 0\n",
      "emotion_na 0\n",
      "emotion_neutral 0\n",
      "emotion_surprise 0\n",
      "emotion_anger 0\n",
      "emotion_boredom 0\n",
      "emotion_fear 0\n",
      "emotion_fun 0\n",
      "gaze_na 0\n",
      "gaze_complete_expl 0\n",
      "gaze_partial_expl 0\n",
      "gaze_poor_expl 0\n",
      "distraction_na 0\n",
      "distraction_no 0\n",
      "distraction_reduced_attention 0\n",
      "distraction_speaking 0\n",
      "max_speed 0\n",
      "avg_speed 0\n",
      "std_speed 0\n",
      "yaw 0\n",
      "yaw_rate 0\n",
      "roll 0\n",
      "roll_rate 0\n",
      "pitch 0\n",
      "pitch_rate 0\n",
      "lat_acce 0\n",
      "long_acce 0\n",
      "vert_acce 0\n",
      "avg_acce_pedal_pos 0\n",
      "std_acce_pedal_pos 0\n",
      "avg_steer_angle 0\n",
      "std_steer_angle 0\n",
      "hr 0\n",
      "hrv_lf 0\n",
      "hrv_hf 0\n",
      "hrv_lfhf_ratio 0\n",
      "gsr_tonic 0\n",
      "gsr_phasic 0\n",
      "gsr_peaks 0\n",
      "EBRmean 0\n",
      "BDmean 0\n",
      "ThetaFrontal 0\n",
      "ThetaParietal 0\n",
      "AlphaFrontal 0\n",
      "AlphaParietal 0\n",
      "LowerAlphaFrontal 0\n",
      "LowerAlphaParietal 0\n",
      "UpperAlphaFrontal 0\n",
      "UpperAlphaParietal 0\n",
      "BetaFrontal 0\n",
      "BetaParietal 0\n",
      "LowerBetaFrontal 0\n",
      "LowerBetaParietal 0\n",
      "UpperBetaFrontal 0\n",
      "UpperBetaParietal 0\n"
     ]
    }
   ],
   "source": [
    "sim_data_nulls_filled = fill_null_vals(sim_data)\n",
    "\n",
    "for col in sim_data_nulls_filled.columns:\n",
    "    print(col, sim_data_nulls_filled[col].isnull().sum())"
   ]
  },
  {
   "cell_type": "code",
   "execution_count": 142,
   "id": "c7cdae0d-d617-4600-b85b-3de69ea05a0c",
   "metadata": {},
   "outputs": [
    {
     "data": {
      "text/plain": [
       "subject\n",
       "0AC2A4    55\n",
       "13790E    55\n",
       "144282    66\n",
       "2268A5    77\n",
       "492488    77\n",
       "6B11F5    66\n",
       "8924EA    77\n",
       "92710E    55\n",
       "B410A4    66\n",
       "B570F8    77\n",
       "C1CE6B    77\n",
       "D4F190    44\n",
       "DCF930    55\n",
       "ED731A    77\n",
       "EDEB96    66\n",
       "F9D528    66\n",
       "dtype: int64"
      ]
     },
     "execution_count": 142,
     "metadata": {},
     "output_type": "execute_result"
    }
   ],
   "source": [
    "group_by_subject = real_data.groupby('subject')\n",
    "group_by_subject.size()"
   ]
  },
  {
   "cell_type": "code",
   "execution_count": 143,
   "id": "9530de86-d16e-4db2-b6a8-454cb38d15d6",
   "metadata": {},
   "outputs": [
    {
     "data": {
      "text/plain": [
       "array(['0AC2A4', '13790E', '144282', '2268A5', '6B11F5', '92710E',\n",
       "       'B410A4', 'B570F8', 'C1CE6B', 'D4F190', 'DCF930', 'ED731A',\n",
       "       'EDEB96', 'F9D528', '492488', '8924EA'], dtype=object)"
      ]
     },
     "execution_count": 143,
     "metadata": {},
     "output_type": "execute_result"
    }
   ],
   "source": [
    "real_data.subject.unique()"
   ]
  },
  {
   "cell_type": "code",
   "execution_count": 144,
   "id": "f7197549-ab3f-42d1-89b2-39b9223e0092",
   "metadata": {},
   "outputs": [
    {
     "name": "stdout",
     "output_type": "stream",
     "text": [
      "Groups with null values: ['B570F8']\n"
     ]
    }
   ],
   "source": [
    "group_has_null = real_data_nulls_filled.groupby('subject').apply(lambda x: x.isnull().any(axis=1).any())\n",
    "# Display groups that have null values\n",
    "groups_with_nulls = group_has_null[group_has_null].index.tolist()\n",
    "print(\"Groups with null values:\", groups_with_nulls)"
   ]
  },
  {
   "cell_type": "code",
   "execution_count": 145,
   "id": "8886ec1f-5dea-43df-ad9d-f2b52cffd71c",
   "metadata": {},
   "outputs": [
    {
     "data": {
      "text/plain": [
       "(979, 88)"
      ]
     },
     "execution_count": 145,
     "metadata": {},
     "output_type": "execute_result"
    }
   ],
   "source": [
    "# drop all rows with null values\n",
    "real_data_nulls_filled = real_data_nulls_filled.dropna()\n",
    "real_data_nulls_filled.shape"
   ]
  },
  {
   "cell_type": "code",
   "execution_count": 146,
   "id": "2723592f-b631-4e03-a565-825f70246712",
   "metadata": {},
   "outputs": [
    {
     "data": {
      "text/plain": [
       "(1287, 88)"
      ]
     },
     "execution_count": 146,
     "metadata": {},
     "output_type": "execute_result"
    }
   ],
   "source": [
    "# drop all rows with null values\n",
    "sim_data_nulls_filled = sim_data_nulls_filled.dropna()\n",
    "sim_data_nulls_filled.shape"
   ]
  },
  {
   "cell_type": "code",
   "execution_count": 147,
   "id": "be7dd36a-7e75-4d7f-813a-5e87eb3ee13f",
   "metadata": {},
   "outputs": [
    {
     "data": {
      "text/html": [
       "<div>\n",
       "<style scoped>\n",
       "    .dataframe tbody tr th:only-of-type {\n",
       "        vertical-align: middle;\n",
       "    }\n",
       "\n",
       "    .dataframe tbody tr th {\n",
       "        vertical-align: top;\n",
       "    }\n",
       "\n",
       "    .dataframe thead th {\n",
       "        text-align: right;\n",
       "    }\n",
       "</style>\n",
       "<table border=\"1\" class=\"dataframe\">\n",
       "  <thead>\n",
       "    <tr style=\"text-align: right;\">\n",
       "      <th></th>\n",
       "      <th>subject</th>\n",
       "      <th>lap</th>\n",
       "      <th>start_time</th>\n",
       "      <th>straight</th>\n",
       "      <th>roundabout_entry</th>\n",
       "      <th>roundabout_exit</th>\n",
       "      <th>zebra_crossing</th>\n",
       "      <th>left_turn</th>\n",
       "      <th>u_turn</th>\n",
       "      <th>bypass_dummy</th>\n",
       "      <th>...</th>\n",
       "      <th>LowerAlphaFrontal</th>\n",
       "      <th>LowerAlphaParietal</th>\n",
       "      <th>UpperAlphaFrontal</th>\n",
       "      <th>UpperAlphaParietal</th>\n",
       "      <th>BetaFrontal</th>\n",
       "      <th>BetaParietal</th>\n",
       "      <th>LowerBetaFrontal</th>\n",
       "      <th>LowerBetaParietal</th>\n",
       "      <th>UpperBetaFrontal</th>\n",
       "      <th>UpperBetaParietal</th>\n",
       "    </tr>\n",
       "  </thead>\n",
       "  <tbody>\n",
       "    <tr>\n",
       "      <th>440</th>\n",
       "      <td>B570F8</td>\n",
       "      <td>1</td>\n",
       "      <td>13</td>\n",
       "      <td>1</td>\n",
       "      <td>0</td>\n",
       "      <td>0</td>\n",
       "      <td>1</td>\n",
       "      <td>0</td>\n",
       "      <td>0</td>\n",
       "      <td>0</td>\n",
       "      <td>...</td>\n",
       "      <td>NaN</td>\n",
       "      <td>NaN</td>\n",
       "      <td>NaN</td>\n",
       "      <td>NaN</td>\n",
       "      <td>NaN</td>\n",
       "      <td>NaN</td>\n",
       "      <td>NaN</td>\n",
       "      <td>NaN</td>\n",
       "      <td>NaN</td>\n",
       "      <td>NaN</td>\n",
       "    </tr>\n",
       "    <tr>\n",
       "      <th>441</th>\n",
       "      <td>B570F8</td>\n",
       "      <td>1</td>\n",
       "      <td>30</td>\n",
       "      <td>0</td>\n",
       "      <td>1</td>\n",
       "      <td>0</td>\n",
       "      <td>1</td>\n",
       "      <td>0</td>\n",
       "      <td>0</td>\n",
       "      <td>0</td>\n",
       "      <td>...</td>\n",
       "      <td>NaN</td>\n",
       "      <td>NaN</td>\n",
       "      <td>NaN</td>\n",
       "      <td>NaN</td>\n",
       "      <td>NaN</td>\n",
       "      <td>NaN</td>\n",
       "      <td>NaN</td>\n",
       "      <td>NaN</td>\n",
       "      <td>NaN</td>\n",
       "      <td>NaN</td>\n",
       "    </tr>\n",
       "    <tr>\n",
       "      <th>442</th>\n",
       "      <td>B570F8</td>\n",
       "      <td>1</td>\n",
       "      <td>38</td>\n",
       "      <td>0</td>\n",
       "      <td>0</td>\n",
       "      <td>1</td>\n",
       "      <td>1</td>\n",
       "      <td>0</td>\n",
       "      <td>0</td>\n",
       "      <td>0</td>\n",
       "      <td>...</td>\n",
       "      <td>NaN</td>\n",
       "      <td>NaN</td>\n",
       "      <td>NaN</td>\n",
       "      <td>NaN</td>\n",
       "      <td>NaN</td>\n",
       "      <td>NaN</td>\n",
       "      <td>NaN</td>\n",
       "      <td>NaN</td>\n",
       "      <td>NaN</td>\n",
       "      <td>NaN</td>\n",
       "    </tr>\n",
       "    <tr>\n",
       "      <th>443</th>\n",
       "      <td>B570F8</td>\n",
       "      <td>1</td>\n",
       "      <td>43</td>\n",
       "      <td>1</td>\n",
       "      <td>0</td>\n",
       "      <td>0</td>\n",
       "      <td>0</td>\n",
       "      <td>0</td>\n",
       "      <td>0</td>\n",
       "      <td>0</td>\n",
       "      <td>...</td>\n",
       "      <td>NaN</td>\n",
       "      <td>NaN</td>\n",
       "      <td>NaN</td>\n",
       "      <td>NaN</td>\n",
       "      <td>NaN</td>\n",
       "      <td>NaN</td>\n",
       "      <td>NaN</td>\n",
       "      <td>NaN</td>\n",
       "      <td>NaN</td>\n",
       "      <td>NaN</td>\n",
       "    </tr>\n",
       "    <tr>\n",
       "      <th>444</th>\n",
       "      <td>B570F8</td>\n",
       "      <td>1</td>\n",
       "      <td>60</td>\n",
       "      <td>1</td>\n",
       "      <td>0</td>\n",
       "      <td>0</td>\n",
       "      <td>0</td>\n",
       "      <td>0</td>\n",
       "      <td>1</td>\n",
       "      <td>0</td>\n",
       "      <td>...</td>\n",
       "      <td>NaN</td>\n",
       "      <td>NaN</td>\n",
       "      <td>NaN</td>\n",
       "      <td>NaN</td>\n",
       "      <td>NaN</td>\n",
       "      <td>NaN</td>\n",
       "      <td>NaN</td>\n",
       "      <td>NaN</td>\n",
       "      <td>NaN</td>\n",
       "      <td>NaN</td>\n",
       "    </tr>\n",
       "    <tr>\n",
       "      <th>...</th>\n",
       "      <td>...</td>\n",
       "      <td>...</td>\n",
       "      <td>...</td>\n",
       "      <td>...</td>\n",
       "      <td>...</td>\n",
       "      <td>...</td>\n",
       "      <td>...</td>\n",
       "      <td>...</td>\n",
       "      <td>...</td>\n",
       "      <td>...</td>\n",
       "      <td>...</td>\n",
       "      <td>...</td>\n",
       "      <td>...</td>\n",
       "      <td>...</td>\n",
       "      <td>...</td>\n",
       "      <td>...</td>\n",
       "      <td>...</td>\n",
       "      <td>...</td>\n",
       "      <td>...</td>\n",
       "      <td>...</td>\n",
       "      <td>...</td>\n",
       "    </tr>\n",
       "    <tr>\n",
       "      <th>512</th>\n",
       "      <td>B570F8</td>\n",
       "      <td>7</td>\n",
       "      <td>109</td>\n",
       "      <td>0</td>\n",
       "      <td>1</td>\n",
       "      <td>0</td>\n",
       "      <td>1</td>\n",
       "      <td>0</td>\n",
       "      <td>0</td>\n",
       "      <td>0</td>\n",
       "      <td>...</td>\n",
       "      <td>NaN</td>\n",
       "      <td>NaN</td>\n",
       "      <td>NaN</td>\n",
       "      <td>NaN</td>\n",
       "      <td>NaN</td>\n",
       "      <td>NaN</td>\n",
       "      <td>NaN</td>\n",
       "      <td>NaN</td>\n",
       "      <td>NaN</td>\n",
       "      <td>NaN</td>\n",
       "    </tr>\n",
       "    <tr>\n",
       "      <th>513</th>\n",
       "      <td>B570F8</td>\n",
       "      <td>7</td>\n",
       "      <td>118</td>\n",
       "      <td>0</td>\n",
       "      <td>0</td>\n",
       "      <td>1</td>\n",
       "      <td>1</td>\n",
       "      <td>0</td>\n",
       "      <td>0</td>\n",
       "      <td>0</td>\n",
       "      <td>...</td>\n",
       "      <td>NaN</td>\n",
       "      <td>NaN</td>\n",
       "      <td>NaN</td>\n",
       "      <td>NaN</td>\n",
       "      <td>NaN</td>\n",
       "      <td>NaN</td>\n",
       "      <td>NaN</td>\n",
       "      <td>NaN</td>\n",
       "      <td>NaN</td>\n",
       "      <td>NaN</td>\n",
       "    </tr>\n",
       "    <tr>\n",
       "      <th>514</th>\n",
       "      <td>B570F8</td>\n",
       "      <td>7</td>\n",
       "      <td>120</td>\n",
       "      <td>0</td>\n",
       "      <td>0</td>\n",
       "      <td>0</td>\n",
       "      <td>0</td>\n",
       "      <td>1</td>\n",
       "      <td>0</td>\n",
       "      <td>0</td>\n",
       "      <td>...</td>\n",
       "      <td>NaN</td>\n",
       "      <td>NaN</td>\n",
       "      <td>NaN</td>\n",
       "      <td>NaN</td>\n",
       "      <td>NaN</td>\n",
       "      <td>NaN</td>\n",
       "      <td>NaN</td>\n",
       "      <td>NaN</td>\n",
       "      <td>NaN</td>\n",
       "      <td>NaN</td>\n",
       "    </tr>\n",
       "    <tr>\n",
       "      <th>515</th>\n",
       "      <td>B570F8</td>\n",
       "      <td>7</td>\n",
       "      <td>136</td>\n",
       "      <td>1</td>\n",
       "      <td>0</td>\n",
       "      <td>0</td>\n",
       "      <td>1</td>\n",
       "      <td>0</td>\n",
       "      <td>0</td>\n",
       "      <td>0</td>\n",
       "      <td>...</td>\n",
       "      <td>NaN</td>\n",
       "      <td>NaN</td>\n",
       "      <td>NaN</td>\n",
       "      <td>NaN</td>\n",
       "      <td>NaN</td>\n",
       "      <td>NaN</td>\n",
       "      <td>NaN</td>\n",
       "      <td>NaN</td>\n",
       "      <td>NaN</td>\n",
       "      <td>NaN</td>\n",
       "    </tr>\n",
       "    <tr>\n",
       "      <th>516</th>\n",
       "      <td>B570F8</td>\n",
       "      <td>7</td>\n",
       "      <td>144</td>\n",
       "      <td>0</td>\n",
       "      <td>0</td>\n",
       "      <td>0</td>\n",
       "      <td>0</td>\n",
       "      <td>0</td>\n",
       "      <td>0</td>\n",
       "      <td>0</td>\n",
       "      <td>...</td>\n",
       "      <td>NaN</td>\n",
       "      <td>NaN</td>\n",
       "      <td>NaN</td>\n",
       "      <td>NaN</td>\n",
       "      <td>NaN</td>\n",
       "      <td>NaN</td>\n",
       "      <td>NaN</td>\n",
       "      <td>NaN</td>\n",
       "      <td>NaN</td>\n",
       "      <td>NaN</td>\n",
       "    </tr>\n",
       "  </tbody>\n",
       "</table>\n",
       "<p>77 rows × 88 columns</p>\n",
       "</div>"
      ],
      "text/plain": [
       "    subject  lap  start_time  straight  roundabout_entry  roundabout_exit  \\\n",
       "440  B570F8    1          13         1                 0                0   \n",
       "441  B570F8    1          30         0                 1                0   \n",
       "442  B570F8    1          38         0                 0                1   \n",
       "443  B570F8    1          43         1                 0                0   \n",
       "444  B570F8    1          60         1                 0                0   \n",
       "..      ...  ...         ...       ...               ...              ...   \n",
       "512  B570F8    7         109         0                 1                0   \n",
       "513  B570F8    7         118         0                 0                1   \n",
       "514  B570F8    7         120         0                 0                0   \n",
       "515  B570F8    7         136         1                 0                0   \n",
       "516  B570F8    7         144         0                 0                0   \n",
       "\n",
       "     zebra_crossing  left_turn  u_turn  bypass_dummy  ...  LowerAlphaFrontal  \\\n",
       "440               1          0       0             0  ...                NaN   \n",
       "441               1          0       0             0  ...                NaN   \n",
       "442               1          0       0             0  ...                NaN   \n",
       "443               0          0       0             0  ...                NaN   \n",
       "444               0          0       1             0  ...                NaN   \n",
       "..              ...        ...     ...           ...  ...                ...   \n",
       "512               1          0       0             0  ...                NaN   \n",
       "513               1          0       0             0  ...                NaN   \n",
       "514               0          1       0             0  ...                NaN   \n",
       "515               1          0       0             0  ...                NaN   \n",
       "516               0          0       0             0  ...                NaN   \n",
       "\n",
       "     LowerAlphaParietal  UpperAlphaFrontal  UpperAlphaParietal  BetaFrontal  \\\n",
       "440                 NaN                NaN                 NaN          NaN   \n",
       "441                 NaN                NaN                 NaN          NaN   \n",
       "442                 NaN                NaN                 NaN          NaN   \n",
       "443                 NaN                NaN                 NaN          NaN   \n",
       "444                 NaN                NaN                 NaN          NaN   \n",
       "..                  ...                ...                 ...          ...   \n",
       "512                 NaN                NaN                 NaN          NaN   \n",
       "513                 NaN                NaN                 NaN          NaN   \n",
       "514                 NaN                NaN                 NaN          NaN   \n",
       "515                 NaN                NaN                 NaN          NaN   \n",
       "516                 NaN                NaN                 NaN          NaN   \n",
       "\n",
       "     BetaParietal  LowerBetaFrontal  LowerBetaParietal  UpperBetaFrontal  \\\n",
       "440           NaN               NaN                NaN               NaN   \n",
       "441           NaN               NaN                NaN               NaN   \n",
       "442           NaN               NaN                NaN               NaN   \n",
       "443           NaN               NaN                NaN               NaN   \n",
       "444           NaN               NaN                NaN               NaN   \n",
       "..            ...               ...                ...               ...   \n",
       "512           NaN               NaN                NaN               NaN   \n",
       "513           NaN               NaN                NaN               NaN   \n",
       "514           NaN               NaN                NaN               NaN   \n",
       "515           NaN               NaN                NaN               NaN   \n",
       "516           NaN               NaN                NaN               NaN   \n",
       "\n",
       "     UpperBetaParietal  \n",
       "440                NaN  \n",
       "441                NaN  \n",
       "442                NaN  \n",
       "443                NaN  \n",
       "444                NaN  \n",
       "..                 ...  \n",
       "512                NaN  \n",
       "513                NaN  \n",
       "514                NaN  \n",
       "515                NaN  \n",
       "516                NaN  \n",
       "\n",
       "[77 rows x 88 columns]"
      ]
     },
     "execution_count": 147,
     "metadata": {},
     "output_type": "execute_result"
    }
   ],
   "source": [
    "filtered_rows = real_data[real_data[\"subject\"] == \"B570F8\"]\n",
    "filtered_rows"
   ]
  },
  {
   "cell_type": "code",
   "execution_count": 148,
   "id": "f4a9b3f1-8169-462c-9f05-b2be049f7c2b",
   "metadata": {},
   "outputs": [
    {
     "data": {
      "text/plain": [
       "(1287, 88)"
      ]
     },
     "execution_count": 148,
     "metadata": {},
     "output_type": "execute_result"
    }
   ],
   "source": [
    "sim_data.shape"
   ]
  },
  {
   "cell_type": "code",
   "execution_count": 149,
   "id": "e5c9258c-bf8f-4b8b-94dd-e6e4e6fda632",
   "metadata": {},
   "outputs": [
    {
     "name": "stdout",
     "output_type": "stream",
     "text": [
      "Groups with null values: []\n"
     ]
    }
   ],
   "source": [
    "group_has_null = sim_data_nulls_filled.groupby('subject').apply(lambda x: x.isnull().any(axis=1).any())\n",
    "# Display groups that have null values\n",
    "groups_with_nulls = group_has_null[group_has_null].index.tolist()\n",
    "print(\"Groups with null values:\", groups_with_nulls)"
   ]
  },
  {
   "cell_type": "code",
   "execution_count": null,
   "id": "215f6b3a-863a-4f6e-afa7-9fe69369d3b3",
   "metadata": {},
   "outputs": [],
   "source": []
  },
  {
   "cell_type": "code",
   "execution_count": 150,
   "id": "9a3489e7-1146-4837-9727-4a9ce68ccb09",
   "metadata": {},
   "outputs": [],
   "source": [
    "# Features to train model on\n",
    "selected_cols = [\n",
    "    'lap',\n",
    "    'start_time',\n",
    "    'straight',\n",
    "    'roundabout_entry',\n",
    "    'roundabout_exit',\n",
    "    'zebra_crossing',\n",
    "    'left_turn',\n",
    "    'u_turn',\n",
    "    'bypass_dummy',\n",
    "    'car',\n",
    "    'pedestrian',\n",
    "    'traffic_light',\n",
    "    'narrow_road',\n",
    "    'dummy',\n",
    "    'bend',\n",
    "    'habituation',\n",
    "    'traffic',\n",
    "    'hurry',\n",
    "    'frustration',\n",
    "    'surprise',\n",
    "    'risk_outcome',\n",
    "    'risk_source_env',\n",
    "    'risk_source_other_usr',\n",
    "    'risk_source_driver',\n",
    "    'risk_source_crash',\n",
    "    'violation_roadside_invasion',\n",
    "    'violation_give_the_way',\n",
    "    'violation_road_signs',\n",
    "    'violation_heavy_braking',\n",
    "    'violation_roadside_exit',\n",
    "    'violation_slowdown',\n",
    "    'emotion_na',\n",
    "    'emotion_neutral',\n",
    "    'emotion_surprise',\n",
    "    'emotion_anger',\n",
    "    'emotion_boredom',\n",
    "    'emotion_fear',\n",
    "    'gaze_na',\n",
    "    'gaze_complete_expl',\n",
    "    'gaze_partial_expl',\n",
    "    'gaze_poor_expl',\n",
    "    'distraction_na',\n",
    "    'distraction_no',\n",
    "    'distraction_reduced_attention',\n",
    "    'max_speed',\n",
    "    'avg_speed',\n",
    "    'std_speed',\n",
    "    'yaw',\n",
    "    'yaw_rate',\n",
    "    'roll',\n",
    "    'roll_rate',\n",
    "    'pitch',\n",
    "    'pitch_rate',\n",
    "    'long_acce',\n",
    "    'vert_acce',\n",
    "    'avg_acce_pedal_pos',\n",
    "    'std_acce_pedal_pos',\n",
    "    'std_steer_angle',\n",
    "    'hr',\n",
    "    'hrv_lf',\n",
    "    'hrv_hf',\n",
    "    'hrv_lfhf_ratio',\n",
    "    'gsr_tonic',\n",
    "    'gsr_phasic',\n",
    "    'EBRmean',\n",
    "    'BDmean',\n",
    "    'ThetaFrontal',\n",
    "    'ThetaParietal',\n",
    "    'AlphaFrontal',\n",
    "    'AlphaParietal',\n",
    "    'BetaFrontal',\n",
    "    'BetaParietal',\n",
    "]"
   ]
  },
  {
   "cell_type": "code",
   "execution_count": 151,
   "id": "9468e9c0-ffa7-4b5e-90a8-874a3af2f806",
   "metadata": {},
   "outputs": [],
   "source": [
    "#real_data_nulls_filled.drop(['subject'], axis=1, inplace=True)"
   ]
  },
  {
   "cell_type": "code",
   "execution_count": 152,
   "id": "14f45013-abe7-4e18-84c9-93a2b056ecdd",
   "metadata": {},
   "outputs": [
    {
     "ename": "ValueError",
     "evalue": "could not convert string to float: '0AC2A4'",
     "output_type": "error",
     "traceback": [
      "\u001b[1;31m---------------------------------------------------------------------------\u001b[0m",
      "\u001b[1;31mValueError\u001b[0m                                Traceback (most recent call last)",
      "Cell \u001b[1;32mIn[152], line 2\u001b[0m\n\u001b[0;32m      1\u001b[0m \u001b[38;5;66;03m# Calculate the correlation matrix\u001b[39;00m\n\u001b[1;32m----> 2\u001b[0m corr_matrix \u001b[38;5;241m=\u001b[39m \u001b[43mreal_data_nulls_filled\u001b[49m\u001b[38;5;241;43m.\u001b[39;49m\u001b[43mcorr\u001b[49m\u001b[43m(\u001b[49m\u001b[43m)\u001b[49m\n\u001b[0;32m      4\u001b[0m \u001b[38;5;66;03m# Initialize a list to store pairs of highly correlated features\u001b[39;00m\n\u001b[0;32m      5\u001b[0m highly_correlated_features \u001b[38;5;241m=\u001b[39m []\n",
      "File \u001b[1;32m~\\AppData\\Roaming\\Python\\Python38\\site-packages\\pandas\\core\\frame.py:10054\u001b[0m, in \u001b[0;36mDataFrame.corr\u001b[1;34m(self, method, min_periods, numeric_only)\u001b[0m\n\u001b[0;32m  10052\u001b[0m cols \u001b[38;5;241m=\u001b[39m data\u001b[38;5;241m.\u001b[39mcolumns\n\u001b[0;32m  10053\u001b[0m idx \u001b[38;5;241m=\u001b[39m cols\u001b[38;5;241m.\u001b[39mcopy()\n\u001b[1;32m> 10054\u001b[0m mat \u001b[38;5;241m=\u001b[39m \u001b[43mdata\u001b[49m\u001b[38;5;241;43m.\u001b[39;49m\u001b[43mto_numpy\u001b[49m\u001b[43m(\u001b[49m\u001b[43mdtype\u001b[49m\u001b[38;5;241;43m=\u001b[39;49m\u001b[38;5;28;43mfloat\u001b[39;49m\u001b[43m,\u001b[49m\u001b[43m \u001b[49m\u001b[43mna_value\u001b[49m\u001b[38;5;241;43m=\u001b[39;49m\u001b[43mnp\u001b[49m\u001b[38;5;241;43m.\u001b[39;49m\u001b[43mnan\u001b[49m\u001b[43m,\u001b[49m\u001b[43m \u001b[49m\u001b[43mcopy\u001b[49m\u001b[38;5;241;43m=\u001b[39;49m\u001b[38;5;28;43;01mFalse\u001b[39;49;00m\u001b[43m)\u001b[49m\n\u001b[0;32m  10056\u001b[0m \u001b[38;5;28;01mif\u001b[39;00m method \u001b[38;5;241m==\u001b[39m \u001b[38;5;124m\"\u001b[39m\u001b[38;5;124mpearson\u001b[39m\u001b[38;5;124m\"\u001b[39m:\n\u001b[0;32m  10057\u001b[0m     correl \u001b[38;5;241m=\u001b[39m libalgos\u001b[38;5;241m.\u001b[39mnancorr(mat, minp\u001b[38;5;241m=\u001b[39mmin_periods)\n",
      "File \u001b[1;32m~\\AppData\\Roaming\\Python\\Python38\\site-packages\\pandas\\core\\frame.py:1838\u001b[0m, in \u001b[0;36mDataFrame.to_numpy\u001b[1;34m(self, dtype, copy, na_value)\u001b[0m\n\u001b[0;32m   1836\u001b[0m \u001b[38;5;28;01mif\u001b[39;00m dtype \u001b[38;5;129;01mis\u001b[39;00m \u001b[38;5;129;01mnot\u001b[39;00m \u001b[38;5;28;01mNone\u001b[39;00m:\n\u001b[0;32m   1837\u001b[0m     dtype \u001b[38;5;241m=\u001b[39m np\u001b[38;5;241m.\u001b[39mdtype(dtype)\n\u001b[1;32m-> 1838\u001b[0m result \u001b[38;5;241m=\u001b[39m \u001b[38;5;28;43mself\u001b[39;49m\u001b[38;5;241;43m.\u001b[39;49m\u001b[43m_mgr\u001b[49m\u001b[38;5;241;43m.\u001b[39;49m\u001b[43mas_array\u001b[49m\u001b[43m(\u001b[49m\u001b[43mdtype\u001b[49m\u001b[38;5;241;43m=\u001b[39;49m\u001b[43mdtype\u001b[49m\u001b[43m,\u001b[49m\u001b[43m \u001b[49m\u001b[43mcopy\u001b[49m\u001b[38;5;241;43m=\u001b[39;49m\u001b[43mcopy\u001b[49m\u001b[43m,\u001b[49m\u001b[43m \u001b[49m\u001b[43mna_value\u001b[49m\u001b[38;5;241;43m=\u001b[39;49m\u001b[43mna_value\u001b[49m\u001b[43m)\u001b[49m\n\u001b[0;32m   1839\u001b[0m \u001b[38;5;28;01mif\u001b[39;00m result\u001b[38;5;241m.\u001b[39mdtype \u001b[38;5;129;01mis\u001b[39;00m \u001b[38;5;129;01mnot\u001b[39;00m dtype:\n\u001b[0;32m   1840\u001b[0m     result \u001b[38;5;241m=\u001b[39m np\u001b[38;5;241m.\u001b[39marray(result, dtype\u001b[38;5;241m=\u001b[39mdtype, copy\u001b[38;5;241m=\u001b[39m\u001b[38;5;28;01mFalse\u001b[39;00m)\n",
      "File \u001b[1;32m~\\AppData\\Roaming\\Python\\Python38\\site-packages\\pandas\\core\\internals\\managers.py:1732\u001b[0m, in \u001b[0;36mBlockManager.as_array\u001b[1;34m(self, dtype, copy, na_value)\u001b[0m\n\u001b[0;32m   1730\u001b[0m         arr\u001b[38;5;241m.\u001b[39mflags\u001b[38;5;241m.\u001b[39mwriteable \u001b[38;5;241m=\u001b[39m \u001b[38;5;28;01mFalse\u001b[39;00m\n\u001b[0;32m   1731\u001b[0m \u001b[38;5;28;01melse\u001b[39;00m:\n\u001b[1;32m-> 1732\u001b[0m     arr \u001b[38;5;241m=\u001b[39m \u001b[38;5;28;43mself\u001b[39;49m\u001b[38;5;241;43m.\u001b[39;49m\u001b[43m_interleave\u001b[49m\u001b[43m(\u001b[49m\u001b[43mdtype\u001b[49m\u001b[38;5;241;43m=\u001b[39;49m\u001b[43mdtype\u001b[49m\u001b[43m,\u001b[49m\u001b[43m \u001b[49m\u001b[43mna_value\u001b[49m\u001b[38;5;241;43m=\u001b[39;49m\u001b[43mna_value\u001b[49m\u001b[43m)\u001b[49m\n\u001b[0;32m   1733\u001b[0m     \u001b[38;5;66;03m# The underlying data was copied within _interleave, so no need\u001b[39;00m\n\u001b[0;32m   1734\u001b[0m     \u001b[38;5;66;03m# to further copy if copy=True or setting na_value\u001b[39;00m\n\u001b[0;32m   1736\u001b[0m \u001b[38;5;28;01mif\u001b[39;00m na_value \u001b[38;5;129;01mis\u001b[39;00m \u001b[38;5;129;01mnot\u001b[39;00m lib\u001b[38;5;241m.\u001b[39mno_default:\n",
      "File \u001b[1;32m~\\AppData\\Roaming\\Python\\Python38\\site-packages\\pandas\\core\\internals\\managers.py:1794\u001b[0m, in \u001b[0;36mBlockManager._interleave\u001b[1;34m(self, dtype, na_value)\u001b[0m\n\u001b[0;32m   1792\u001b[0m     \u001b[38;5;28;01melse\u001b[39;00m:\n\u001b[0;32m   1793\u001b[0m         arr \u001b[38;5;241m=\u001b[39m blk\u001b[38;5;241m.\u001b[39mget_values(dtype)\n\u001b[1;32m-> 1794\u001b[0m     result[rl\u001b[38;5;241m.\u001b[39mindexer] \u001b[38;5;241m=\u001b[39m arr\n\u001b[0;32m   1795\u001b[0m     itemmask[rl\u001b[38;5;241m.\u001b[39mindexer] \u001b[38;5;241m=\u001b[39m \u001b[38;5;241m1\u001b[39m\n\u001b[0;32m   1797\u001b[0m \u001b[38;5;28;01mif\u001b[39;00m \u001b[38;5;129;01mnot\u001b[39;00m itemmask\u001b[38;5;241m.\u001b[39mall():\n",
      "\u001b[1;31mValueError\u001b[0m: could not convert string to float: '0AC2A4'"
     ]
    }
   ],
   "source": [
    "# Calculate the correlation matrix\n",
    "corr_matrix = real_data_nulls_filled.corr()\n",
    "\n",
    "# Initialize a list to store pairs of highly correlated features\n",
    "highly_correlated_features = []\n",
    "\n",
    "# Iterate over the correlation matrix\n",
    "for i in range(len(corr_matrix.columns)):\n",
    "    for j in range(i+1, len(corr_matrix.columns)): # Avoid repeating pairs and self-correlation\n",
    "        if np.abs(corr_matrix.iloc[i, j]) >= 0.9:\n",
    "            # If absolute correlation is 0.8 or more, add the pair to the list\n",
    "            highly_correlated_features.append((corr_matrix.columns[i], corr_matrix.columns[j]))"
   ]
  },
  {
   "cell_type": "code",
   "execution_count": null,
   "id": "abd99f46-c576-48f8-b6a6-f8d145c54e00",
   "metadata": {},
   "outputs": [],
   "source": [
    "highly_correlated_features"
   ]
  },
  {
   "cell_type": "code",
   "execution_count": 214,
   "id": "66be785d-38c1-4bc1-9459-8d6590374058",
   "metadata": {},
   "outputs": [
    {
     "data": {
      "text/plain": [
       "(979, 72)"
      ]
     },
     "execution_count": 214,
     "metadata": {},
     "output_type": "execute_result"
    }
   ],
   "source": [
    "r_data = real_data_nulls_filled[selected_cols]\n",
    "r_data.shape"
   ]
  },
  {
   "cell_type": "code",
   "execution_count": 215,
   "id": "2c359147-90c4-441d-8c01-189f59dad767",
   "metadata": {},
   "outputs": [],
   "source": [
    "X = r_data.drop(['frustration'], axis=1)\n",
    "y = r_data['frustration']"
   ]
  },
  {
   "cell_type": "code",
   "execution_count": 216,
   "id": "8ec987ee-e13a-4868-a44d-1b160fd113e8",
   "metadata": {},
   "outputs": [],
   "source": [
    "target = y.map({1: 1, 2: 0})"
   ]
  },
  {
   "cell_type": "code",
   "execution_count": 217,
   "id": "f71f0240-6a39-4076-97e2-41eb0b948ec5",
   "metadata": {},
   "outputs": [],
   "source": [
    "X_train, X_test, y_train, y_test = train_test_split(X, target, stratify=target, test_size=0.2, random_state=42)"
   ]
  },
  {
   "cell_type": "code",
   "execution_count": 218,
   "id": "5278012b-9ab5-452c-a1f0-dd445f4ff8e7",
   "metadata": {},
   "outputs": [],
   "source": [
    "xgb_clf = XGBClassifier(eval_metric='logloss')"
   ]
  },
  {
   "cell_type": "code",
   "execution_count": 219,
   "id": "6dab57db-eaf0-4c37-89bb-bebd8b1ad659",
   "metadata": {},
   "outputs": [],
   "source": [
    "# Perform 5-fold cross-validation\n",
    "cv_scores = cross_val_score(xgb_clf, X_train, y_train, cv=5)"
   ]
  },
  {
   "cell_type": "code",
   "execution_count": 220,
   "id": "526ef4d5-3358-4295-9555-a443aeaf9a9b",
   "metadata": {},
   "outputs": [
    {
     "data": {
      "text/html": [
       "<style>#sk-container-id-5 {color: black;}#sk-container-id-5 pre{padding: 0;}#sk-container-id-5 div.sk-toggleable {background-color: white;}#sk-container-id-5 label.sk-toggleable__label {cursor: pointer;display: block;width: 100%;margin-bottom: 0;padding: 0.3em;box-sizing: border-box;text-align: center;}#sk-container-id-5 label.sk-toggleable__label-arrow:before {content: \"▸\";float: left;margin-right: 0.25em;color: #696969;}#sk-container-id-5 label.sk-toggleable__label-arrow:hover:before {color: black;}#sk-container-id-5 div.sk-estimator:hover label.sk-toggleable__label-arrow:before {color: black;}#sk-container-id-5 div.sk-toggleable__content {max-height: 0;max-width: 0;overflow: hidden;text-align: left;background-color: #f0f8ff;}#sk-container-id-5 div.sk-toggleable__content pre {margin: 0.2em;color: black;border-radius: 0.25em;background-color: #f0f8ff;}#sk-container-id-5 input.sk-toggleable__control:checked~div.sk-toggleable__content {max-height: 200px;max-width: 100%;overflow: auto;}#sk-container-id-5 input.sk-toggleable__control:checked~label.sk-toggleable__label-arrow:before {content: \"▾\";}#sk-container-id-5 div.sk-estimator input.sk-toggleable__control:checked~label.sk-toggleable__label {background-color: #d4ebff;}#sk-container-id-5 div.sk-label input.sk-toggleable__control:checked~label.sk-toggleable__label {background-color: #d4ebff;}#sk-container-id-5 input.sk-hidden--visually {border: 0;clip: rect(1px 1px 1px 1px);clip: rect(1px, 1px, 1px, 1px);height: 1px;margin: -1px;overflow: hidden;padding: 0;position: absolute;width: 1px;}#sk-container-id-5 div.sk-estimator {font-family: monospace;background-color: #f0f8ff;border: 1px dotted black;border-radius: 0.25em;box-sizing: border-box;margin-bottom: 0.5em;}#sk-container-id-5 div.sk-estimator:hover {background-color: #d4ebff;}#sk-container-id-5 div.sk-parallel-item::after {content: \"\";width: 100%;border-bottom: 1px solid gray;flex-grow: 1;}#sk-container-id-5 div.sk-label:hover label.sk-toggleable__label {background-color: #d4ebff;}#sk-container-id-5 div.sk-serial::before {content: \"\";position: absolute;border-left: 1px solid gray;box-sizing: border-box;top: 0;bottom: 0;left: 50%;z-index: 0;}#sk-container-id-5 div.sk-serial {display: flex;flex-direction: column;align-items: center;background-color: white;padding-right: 0.2em;padding-left: 0.2em;position: relative;}#sk-container-id-5 div.sk-item {position: relative;z-index: 1;}#sk-container-id-5 div.sk-parallel {display: flex;align-items: stretch;justify-content: center;background-color: white;position: relative;}#sk-container-id-5 div.sk-item::before, #sk-container-id-5 div.sk-parallel-item::before {content: \"\";position: absolute;border-left: 1px solid gray;box-sizing: border-box;top: 0;bottom: 0;left: 50%;z-index: -1;}#sk-container-id-5 div.sk-parallel-item {display: flex;flex-direction: column;z-index: 1;position: relative;background-color: white;}#sk-container-id-5 div.sk-parallel-item:first-child::after {align-self: flex-end;width: 50%;}#sk-container-id-5 div.sk-parallel-item:last-child::after {align-self: flex-start;width: 50%;}#sk-container-id-5 div.sk-parallel-item:only-child::after {width: 0;}#sk-container-id-5 div.sk-dashed-wrapped {border: 1px dashed gray;margin: 0 0.4em 0.5em 0.4em;box-sizing: border-box;padding-bottom: 0.4em;background-color: white;}#sk-container-id-5 div.sk-label label {font-family: monospace;font-weight: bold;display: inline-block;line-height: 1.2em;}#sk-container-id-5 div.sk-label-container {text-align: center;}#sk-container-id-5 div.sk-container {/* jupyter's `normalize.less` sets `[hidden] { display: none; }` but bootstrap.min.css set `[hidden] { display: none !important; }` so we also need the `!important` here to be able to override the default hidden behavior on the sphinx rendered scikit-learn.org. See: https://github.com/scikit-learn/scikit-learn/issues/21755 */display: inline-block !important;position: relative;}#sk-container-id-5 div.sk-text-repr-fallback {display: none;}</style><div id=\"sk-container-id-5\" class=\"sk-top-container\"><div class=\"sk-text-repr-fallback\"><pre>XGBClassifier(base_score=None, booster=None, callbacks=None,\n",
       "              colsample_bylevel=None, colsample_bynode=None,\n",
       "              colsample_bytree=None, early_stopping_rounds=None,\n",
       "              enable_categorical=False, eval_metric=&#x27;logloss&#x27;,\n",
       "              feature_types=None, gamma=None, gpu_id=None, grow_policy=None,\n",
       "              importance_type=None, interaction_constraints=None,\n",
       "              learning_rate=None, max_bin=None, max_cat_threshold=None,\n",
       "              max_cat_to_onehot=None, max_delta_step=None, max_depth=None,\n",
       "              max_leaves=None, min_child_weight=None, missing=nan,\n",
       "              monotone_constraints=None, n_estimators=100, n_jobs=None,\n",
       "              num_parallel_tree=None, predictor=None, random_state=None, ...)</pre><b>In a Jupyter environment, please rerun this cell to show the HTML representation or trust the notebook. <br />On GitHub, the HTML representation is unable to render, please try loading this page with nbviewer.org.</b></div><div class=\"sk-container\" hidden><div class=\"sk-item\"><div class=\"sk-estimator sk-toggleable\"><input class=\"sk-toggleable__control sk-hidden--visually\" id=\"sk-estimator-id-5\" type=\"checkbox\" checked><label for=\"sk-estimator-id-5\" class=\"sk-toggleable__label sk-toggleable__label-arrow\">XGBClassifier</label><div class=\"sk-toggleable__content\"><pre>XGBClassifier(base_score=None, booster=None, callbacks=None,\n",
       "              colsample_bylevel=None, colsample_bynode=None,\n",
       "              colsample_bytree=None, early_stopping_rounds=None,\n",
       "              enable_categorical=False, eval_metric=&#x27;logloss&#x27;,\n",
       "              feature_types=None, gamma=None, gpu_id=None, grow_policy=None,\n",
       "              importance_type=None, interaction_constraints=None,\n",
       "              learning_rate=None, max_bin=None, max_cat_threshold=None,\n",
       "              max_cat_to_onehot=None, max_delta_step=None, max_depth=None,\n",
       "              max_leaves=None, min_child_weight=None, missing=nan,\n",
       "              monotone_constraints=None, n_estimators=100, n_jobs=None,\n",
       "              num_parallel_tree=None, predictor=None, random_state=None, ...)</pre></div></div></div></div></div>"
      ],
      "text/plain": [
       "XGBClassifier(base_score=None, booster=None, callbacks=None,\n",
       "              colsample_bylevel=None, colsample_bynode=None,\n",
       "              colsample_bytree=None, early_stopping_rounds=None,\n",
       "              enable_categorical=False, eval_metric='logloss',\n",
       "              feature_types=None, gamma=None, gpu_id=None, grow_policy=None,\n",
       "              importance_type=None, interaction_constraints=None,\n",
       "              learning_rate=None, max_bin=None, max_cat_threshold=None,\n",
       "              max_cat_to_onehot=None, max_delta_step=None, max_depth=None,\n",
       "              max_leaves=None, min_child_weight=None, missing=nan,\n",
       "              monotone_constraints=None, n_estimators=100, n_jobs=None,\n",
       "              num_parallel_tree=None, predictor=None, random_state=None, ...)"
      ]
     },
     "execution_count": 220,
     "metadata": {},
     "output_type": "execute_result"
    }
   ],
   "source": [
    "xgb_clf.fit(X_train, y_train)"
   ]
  },
  {
   "cell_type": "code",
   "execution_count": 221,
   "id": "7611b7aa-a846-4c6f-97c4-02cc00428213",
   "metadata": {},
   "outputs": [
    {
     "name": "stdout",
     "output_type": "stream",
     "text": [
      "Accuracy scores for each fold:\n",
      "[1.         1.         1.         1.         0.98717949]\n"
     ]
    }
   ],
   "source": [
    "# Print the accuracy for each fold\n",
    "print(\"Accuracy scores for each fold:\")\n",
    "print(cv_scores)"
   ]
  },
  {
   "cell_type": "code",
   "execution_count": 222,
   "id": "c890b603-78b6-4b50-95cd-0c8b37735375",
   "metadata": {},
   "outputs": [
    {
     "data": {
      "text/plain": [
       "array([3.3239183e-01, 4.2856233e-03, 1.1930243e-01, 0.0000000e+00,\n",
       "       0.0000000e+00, 1.6044603e-03, 0.0000000e+00, 0.0000000e+00,\n",
       "       0.0000000e+00, 0.0000000e+00, 0.0000000e+00, 6.6356674e-02,\n",
       "       0.0000000e+00, 0.0000000e+00, 0.0000000e+00, 0.0000000e+00,\n",
       "       1.6005216e-02, 4.1431412e-01, 0.0000000e+00, 1.1281465e-02,\n",
       "       0.0000000e+00, 0.0000000e+00, 0.0000000e+00, 0.0000000e+00,\n",
       "       0.0000000e+00, 0.0000000e+00, 0.0000000e+00, 0.0000000e+00,\n",
       "       0.0000000e+00, 0.0000000e+00, 0.0000000e+00, 0.0000000e+00,\n",
       "       0.0000000e+00, 0.0000000e+00, 0.0000000e+00, 0.0000000e+00,\n",
       "       0.0000000e+00, 0.0000000e+00, 0.0000000e+00, 0.0000000e+00,\n",
       "       0.0000000e+00, 0.0000000e+00, 0.0000000e+00, 2.4167530e-03,\n",
       "       8.2310019e-03, 0.0000000e+00, 3.8077959e-04, 0.0000000e+00,\n",
       "       0.0000000e+00, 2.3840404e-04, 9.6794713e-04, 0.0000000e+00,\n",
       "       3.6160037e-04, 0.0000000e+00, 2.4641613e-03, 6.9378372e-03,\n",
       "       2.6982459e-03, 4.7740391e-03, 0.0000000e+00, 0.0000000e+00,\n",
       "       0.0000000e+00, 2.0544808e-03, 0.0000000e+00, 0.0000000e+00,\n",
       "       0.0000000e+00, 0.0000000e+00, 0.0000000e+00, 2.4508886e-04,\n",
       "       0.0000000e+00, 9.0043031e-04, 1.7873202e-03], dtype=float32)"
      ]
     },
     "execution_count": 222,
     "metadata": {},
     "output_type": "execute_result"
    }
   ],
   "source": [
    "feature_importances = xgb_clf.feature_importances_\n",
    "feature_importances"
   ]
  },
  {
   "cell_type": "code",
   "execution_count": 223,
   "id": "a01e6a3e-f71e-4c6b-9d61-eddf93a42a27",
   "metadata": {},
   "outputs": [
    {
     "data": {
      "text/plain": [
       "<Figure size 1000x500 with 0 Axes>"
      ]
     },
     "metadata": {},
     "output_type": "display_data"
    },
    {
     "data": {
      "image/png": "[encoded data removed]",
      "text/plain": [
       "<Figure size 640x480 with 1 Axes>"
      ]
     },
     "metadata": {},
     "output_type": "display_data"
    }
   ],
   "source": [
    "# Plot feature importances\n",
    "plt.figure(figsize=(10, 5))\n",
    "plot_importance(xgb_clf, importance_type='weight', title='Feature Importance')\n",
    "plt.show()"
   ]
  },
  {
   "cell_type": "code",
   "execution_count": null,
   "id": "e333d9f9-9f98-4b77-aed9-1e293bd25049",
   "metadata": {},
   "outputs": [],
   "source": []
  },
  {
   "cell_type": "code",
   "execution_count": 157,
   "id": "1d9a5a96-9e7f-415a-873f-9846ffa5b786",
   "metadata": {},
   "outputs": [],
   "source": [
    "preds = xgb_clf.predict(X_test)"
   ]
  },
  {
   "cell_type": "code",
   "execution_count": 158,
   "id": "a0e5c61d-0cfb-4125-ab55-f9e6cc089a30",
   "metadata": {},
   "outputs": [],
   "source": [
    "from sklearn.metrics import classification_report, confusion_matrix, accuracy_score, balanced_accuracy_score\n",
    "from sklearn.linear_model import (\n",
    "    LogisticRegression,\n",
    "    SGDClassifier,\n",
    ")\n",
    "from sklearn.tree import  DecisionTreeClassifier\n",
    "from sklearn.neighbors import KNeighborsClassifier\n",
    "from sklearn.naive_bayes import (\n",
    "    BernoulliNB,\n",
    "    GaussianNB\n",
    ")\n",
    "from sklearn.ensemble import (\n",
    "    BaggingClassifier,\n",
    "    GradientBoostingClassifier,\n",
    "    RandomForestClassifier,\n",
    ")\n",
    "from sklearn.naive_bayes import (\n",
    "    GaussianNB,\n",
    "    MultinomialNB\n",
    ")\n",
    "from sklearn.neighbors import KNeighborsClassifier\n",
    "from sklearn.neural_network import MLPClassifier\n",
    "from sklearn.svm import SVC\n",
    "from sklearn.tree import DecisionTreeClassifier\n",
    "from sklearn.svm import LinearSVC\n",
    "from sklearn.discriminant_analysis import QuadraticDiscriminantAnalysis\n",
    "from sklearn.ensemble import AdaBoostClassifier, RandomForestClassifier\n",
    "from sklearn.gaussian_process import GaussianProcessClassifier\n",
    "from sklearn.gaussian_process.kernels import RBF\n"
   ]
  },
  {
   "cell_type": "code",
   "execution_count": 159,
   "id": "82164aa6-215f-4a86-bac8-7f681b6cd12f",
   "metadata": {},
   "outputs": [
    {
     "name": "stdout",
     "output_type": "stream",
     "text": [
      "              precision    recall  f1-score   support\n",
      "\n",
      "           0       1.00      1.00      1.00       163\n",
      "           1       1.00      1.00      1.00        33\n",
      "\n",
      "    accuracy                           1.00       196\n",
      "   macro avg       1.00      1.00      1.00       196\n",
      "weighted avg       1.00      1.00      1.00       196\n",
      "\n"
     ]
    }
   ],
   "source": [
    "print(classification_report(y_test, preds))"
   ]
  },
  {
   "cell_type": "code",
   "execution_count": 160,
   "id": "f2875fc6-b4ea-48be-9020-a6b372c9dae3",
   "metadata": {},
   "outputs": [
    {
     "name": "stdout",
     "output_type": "stream",
     "text": [
      "1.0\n"
     ]
    }
   ],
   "source": [
    "balanced_acc = balanced_accuracy_score(y_test, preds)\n",
    "print(balanced_acc)"
   ]
  },
  {
   "cell_type": "code",
   "execution_count": 161,
   "id": "58e1b1e6-6463-4dc3-9431-3f5b930facca",
   "metadata": {},
   "outputs": [
    {
     "data": {
      "text/plain": [
       "array([[163,   0],\n",
       "       [  0,  33]], dtype=int64)"
      ]
     },
     "execution_count": 161,
     "metadata": {},
     "output_type": "execute_result"
    }
   ],
   "source": [
    "confusion_matrix(y_test, preds)"
   ]
  },
  {
   "cell_type": "code",
   "execution_count": 179,
   "id": "49de0366-e5b9-452d-a826-c0b3ad6cc946",
   "metadata": {},
   "outputs": [],
   "source": [
    "models = {\n",
    "    'LogisticRegression':LogisticRegression(),\n",
    "    'BaggingClassifier': BaggingClassifier(),\n",
    "    'DecisionTreeClassifier': DecisionTreeClassifier(),\n",
    "    'LinearSVC':LinearSVC(),\n",
    "    'SGDClassifier':SGDClassifier(),\n",
    "    'KNeighborsClassifier':KNeighborsClassifier(),\n",
    "    'RandomForestClassifier':RandomForestClassifier(),\n",
    "    'GradientBoostingClassifier':GradientBoostingClassifier(),\n",
    "    \"SVC\":SVC(),\n",
    "    \"GaussianProcessClassifier\": GaussianProcessClassifier(),\n",
    "    \"MLPClassifier\": MLPClassifier(),\n",
    "    \"AdaBoostClassifier\": AdaBoostClassifier(),\n",
    "    \"GaussianNB\":GaussianNB(),\n",
    "    \"QuadraticDiscriminantAnalysis\":QuadraticDiscriminantAnalysis(),\n",
    "    \"XGBOOST\": XGBClassifier()\n",
    "}"
   ]
  },
  {
   "cell_type": "code",
   "execution_count": 180,
   "id": "a9010981-3922-4ec1-819a-8b0c7094022d",
   "metadata": {},
   "outputs": [],
   "source": [
    "performance = pd.DataFrame(columns=[\"Train Accuracy\",\"Test Accuracy\"], index=list(models.keys()))"
   ]
  },
  {
   "cell_type": "code",
   "execution_count": 181,
   "id": "cb6aa342-0cde-4205-b003-143eed1deed2",
   "metadata": {},
   "outputs": [
    {
     "name": "stderr",
     "output_type": "stream",
     "text": [
      "C:\\Users\\abdul\\AppData\\Roaming\\Python\\Python38\\site-packages\\sklearn\\linear_model\\_logistic.py:460: ConvergenceWarning: lbfgs failed to converge (status=1):\n",
      "STOP: TOTAL NO. of ITERATIONS REACHED LIMIT.\n",
      "\n",
      "Increase the number of iterations (max_iter) or scale the data as shown in:\n",
      "    https://scikit-learn.org/stable/modules/preprocessing.html\n",
      "Please also refer to the documentation for alternative solver options:\n",
      "    https://scikit-learn.org/stable/modules/linear_model.html#logistic-regression\n",
      "  n_iter_i = _check_optimize_result(\n",
      "C:\\Users\\abdul\\AppData\\Roaming\\Python\\Python38\\site-packages\\sklearn\\svm\\_classes.py:32: FutureWarning: The default value of `dual` will change from `True` to `'auto'` in 1.5. Set the value of `dual` explicitly to suppress the warning.\n",
      "  warnings.warn(\n",
      "C:\\Users\\abdul\\AppData\\Roaming\\Python\\Python38\\site-packages\\sklearn\\svm\\_base.py:1250: ConvergenceWarning: Liblinear failed to converge, increase the number of iterations.\n",
      "  warnings.warn(\n",
      "C:\\Users\\abdul\\AppData\\Roaming\\Python\\Python38\\site-packages\\sklearn\\neural_network\\_multilayer_perceptron.py:691: ConvergenceWarning: Stochastic Optimizer: Maximum iterations (200) reached and the optimization hasn't converged yet.\n",
      "  warnings.warn(\n",
      "C:\\Users\\abdul\\AppData\\Roaming\\Python\\Python38\\site-packages\\sklearn\\discriminant_analysis.py:935: UserWarning: Variables are collinear\n",
      "  warnings.warn(\"Variables are collinear\")\n"
     ]
    }
   ],
   "source": [
    "for name, model in models.items():\n",
    "    # Train the model\n",
    "    model.fit(X_train, y_train)\n",
    "\n",
    "    # Make predictions on the test set\n",
    "    y_train_pred = model.predict(X_train)\n",
    "    y_test_pred = model.predict(X_test)\n",
    "\n",
    "    # Calculate evaluation metrics\n",
    "    test_accuracy = accuracy_score(y_test, y_test_pred)\n",
    "    train_accuracy = accuracy_score(y_train, y_train_pred)\n",
    "\n",
    "    #Save Test and Training Accuracies\n",
    "    performance.loc[name, :] = [train_accuracy,test_accuracy]"
   ]
  },
  {
   "cell_type": "code",
   "execution_count": 182,
   "id": "22257112-eb39-41cd-91e5-2c15d1e0621b",
   "metadata": {},
   "outputs": [
    {
     "data": {
      "text/html": [
       "<div>\n",
       "<style scoped>\n",
       "    .dataframe tbody tr th:only-of-type {\n",
       "        vertical-align: middle;\n",
       "    }\n",
       "\n",
       "    .dataframe tbody tr th {\n",
       "        vertical-align: top;\n",
       "    }\n",
       "\n",
       "    .dataframe thead th {\n",
       "        text-align: right;\n",
       "    }\n",
       "</style>\n",
       "<table border=\"1\" class=\"dataframe\">\n",
       "  <thead>\n",
       "    <tr style=\"text-align: right;\">\n",
       "      <th></th>\n",
       "      <th>Train Accuracy</th>\n",
       "      <th>Test Accuracy</th>\n",
       "    </tr>\n",
       "  </thead>\n",
       "  <tbody>\n",
       "    <tr>\n",
       "      <th>DecisionTreeClassifier</th>\n",
       "      <td>1.0</td>\n",
       "      <td>1.0</td>\n",
       "    </tr>\n",
       "    <tr>\n",
       "      <th>GradientBoostingClassifier</th>\n",
       "      <td>1.0</td>\n",
       "      <td>1.0</td>\n",
       "    </tr>\n",
       "    <tr>\n",
       "      <th>AdaBoostClassifier</th>\n",
       "      <td>1.0</td>\n",
       "      <td>1.0</td>\n",
       "    </tr>\n",
       "    <tr>\n",
       "      <th>XGBOOST</th>\n",
       "      <td>1.0</td>\n",
       "      <td>1.0</td>\n",
       "    </tr>\n",
       "    <tr>\n",
       "      <th>BaggingClassifier</th>\n",
       "      <td>0.997446</td>\n",
       "      <td>0.994898</td>\n",
       "    </tr>\n",
       "    <tr>\n",
       "      <th>RandomForestClassifier</th>\n",
       "      <td>1.0</td>\n",
       "      <td>0.979592</td>\n",
       "    </tr>\n",
       "    <tr>\n",
       "      <th>LogisticRegression</th>\n",
       "      <td>0.96424</td>\n",
       "      <td>0.959184</td>\n",
       "    </tr>\n",
       "    <tr>\n",
       "      <th>MLPClassifier</th>\n",
       "      <td>0.993614</td>\n",
       "      <td>0.954082</td>\n",
       "    </tr>\n",
       "    <tr>\n",
       "      <th>QuadraticDiscriminantAnalysis</th>\n",
       "      <td>0.951469</td>\n",
       "      <td>0.928571</td>\n",
       "    </tr>\n",
       "    <tr>\n",
       "      <th>GaussianNB</th>\n",
       "      <td>0.908046</td>\n",
       "      <td>0.892857</td>\n",
       "    </tr>\n",
       "    <tr>\n",
       "      <th>KNeighborsClassifier</th>\n",
       "      <td>0.885057</td>\n",
       "      <td>0.836735</td>\n",
       "    </tr>\n",
       "    <tr>\n",
       "      <th>SVC</th>\n",
       "      <td>0.832695</td>\n",
       "      <td>0.831633</td>\n",
       "    </tr>\n",
       "    <tr>\n",
       "      <th>GaussianProcessClassifier</th>\n",
       "      <td>1.0</td>\n",
       "      <td>0.77551</td>\n",
       "    </tr>\n",
       "    <tr>\n",
       "      <th>LinearSVC</th>\n",
       "      <td>0.726692</td>\n",
       "      <td>0.719388</td>\n",
       "    </tr>\n",
       "    <tr>\n",
       "      <th>SGDClassifier</th>\n",
       "      <td>0.680715</td>\n",
       "      <td>0.688776</td>\n",
       "    </tr>\n",
       "  </tbody>\n",
       "</table>\n",
       "</div>"
      ],
      "text/plain": [
       "                              Train Accuracy Test Accuracy\n",
       "DecisionTreeClassifier                   1.0           1.0\n",
       "GradientBoostingClassifier               1.0           1.0\n",
       "AdaBoostClassifier                       1.0           1.0\n",
       "XGBOOST                                  1.0           1.0\n",
       "BaggingClassifier                   0.997446      0.994898\n",
       "RandomForestClassifier                   1.0      0.979592\n",
       "LogisticRegression                   0.96424      0.959184\n",
       "MLPClassifier                       0.993614      0.954082\n",
       "QuadraticDiscriminantAnalysis       0.951469      0.928571\n",
       "GaussianNB                          0.908046      0.892857\n",
       "KNeighborsClassifier                0.885057      0.836735\n",
       "SVC                                 0.832695      0.831633\n",
       "GaussianProcessClassifier                1.0       0.77551\n",
       "LinearSVC                           0.726692      0.719388\n",
       "SGDClassifier                       0.680715      0.688776"
      ]
     },
     "execution_count": 182,
     "metadata": {},
     "output_type": "execute_result"
    }
   ],
   "source": [
    "performance.sort_values(by=['Test Accuracy'], ascending=False)"
   ]
  },
  {
   "cell_type": "code",
   "execution_count": 183,
   "id": "8743aa30-2953-49d0-a7fc-f208f91efb05",
   "metadata": {},
   "outputs": [
    {
     "data": {
      "text/plain": [
       "traffic        0.514244\n",
       "hurry          0.583842\n",
       "frustration    1.000000\n",
       "Name: frustration, dtype: float64"
      ]
     },
     "execution_count": 183,
     "metadata": {},
     "output_type": "execute_result"
    }
   ],
   "source": [
    "cor = np.abs(r_data.corr())\n",
    "cor_target = abs(cor['frustration'])\n",
    "# Selecting highly correlated features\n",
    "relevant_features = cor_target[cor_target>0.5]\n",
    "relevant_features"
   ]
  },
  {
   "cell_type": "code",
   "execution_count": null,
   "id": "78b317a4-fdc4-4625-b091-f193fe5a0cde",
   "metadata": {},
   "outputs": [],
   "source": []
  },
  {
   "cell_type": "code",
   "execution_count": 184,
   "id": "4d046d4a-5bd2-4b6c-aaf8-ed043915d7c5",
   "metadata": {},
   "outputs": [
    {
     "data": {
      "text/plain": [
       "(1287, 72)"
      ]
     },
     "execution_count": 184,
     "metadata": {},
     "output_type": "execute_result"
    }
   ],
   "source": [
    "s_data = sim_data_nulls_filled[selected_cols]\n",
    "s_data.shape"
   ]
  },
  {
   "cell_type": "code",
   "execution_count": 201,
   "id": "85b6414f-4087-4bfc-b736-660c848443f0",
   "metadata": {},
   "outputs": [],
   "source": [
    "S_data = s_data.drop(['frustration'], axis=1)\n",
    "S_y  = s_data[\"frustration\"]\n",
    "s_tartget = S_y.map({1:1, 2:0})"
   ]
  },
  {
   "cell_type": "code",
   "execution_count": 202,
   "id": "b7e53d13-90b8-4247-9615-010318f94402",
   "metadata": {},
   "outputs": [
    {
     "data": {
      "text/plain": [
       "frustration\n",
       "0    1084\n",
       "1     203\n",
       "Name: count, dtype: int64"
      ]
     },
     "execution_count": 202,
     "metadata": {},
     "output_type": "execute_result"
    }
   ],
   "source": [
    "s_tartget.value_counts()"
   ]
  },
  {
   "cell_type": "code",
   "execution_count": 203,
   "id": "582ed0c2-39d7-45f7-9bfb-2a78106992dd",
   "metadata": {},
   "outputs": [],
   "source": [
    "S_train, S_test, y_train_s, y_test_s = train_test_split(S_data, s_tartget, test_size=0.2, random_state=42)"
   ]
  },
  {
   "cell_type": "code",
   "execution_count": 204,
   "id": "7296b4c0-66c5-4b23-9b99-d04f56fe631c",
   "metadata": {},
   "outputs": [],
   "source": [
    "performance2 = pd.DataFrame(columns=[\"Train Accuracy\",\"Test Accuracy\"], index=list(models.keys()))"
   ]
  },
  {
   "cell_type": "code",
   "execution_count": 205,
   "id": "1153f149-1341-4327-9b99-31b9cf790cf9",
   "metadata": {},
   "outputs": [
    {
     "name": "stderr",
     "output_type": "stream",
     "text": [
      "C:\\Users\\abdul\\AppData\\Roaming\\Python\\Python38\\site-packages\\sklearn\\linear_model\\_logistic.py:460: ConvergenceWarning: lbfgs failed to converge (status=1):\n",
      "STOP: TOTAL NO. of ITERATIONS REACHED LIMIT.\n",
      "\n",
      "Increase the number of iterations (max_iter) or scale the data as shown in:\n",
      "    https://scikit-learn.org/stable/modules/preprocessing.html\n",
      "Please also refer to the documentation for alternative solver options:\n",
      "    https://scikit-learn.org/stable/modules/linear_model.html#logistic-regression\n",
      "  n_iter_i = _check_optimize_result(\n",
      "C:\\Users\\abdul\\AppData\\Roaming\\Python\\Python38\\site-packages\\sklearn\\svm\\_classes.py:32: FutureWarning: The default value of `dual` will change from `True` to `'auto'` in 1.5. Set the value of `dual` explicitly to suppress the warning.\n",
      "  warnings.warn(\n",
      "C:\\Users\\abdul\\AppData\\Roaming\\Python\\Python38\\site-packages\\sklearn\\svm\\_base.py:1250: ConvergenceWarning: Liblinear failed to converge, increase the number of iterations.\n",
      "  warnings.warn(\n",
      "C:\\Users\\abdul\\AppData\\Roaming\\Python\\Python38\\site-packages\\sklearn\\neural_network\\_multilayer_perceptron.py:691: ConvergenceWarning: Stochastic Optimizer: Maximum iterations (200) reached and the optimization hasn't converged yet.\n",
      "  warnings.warn(\n",
      "C:\\Users\\abdul\\AppData\\Roaming\\Python\\Python38\\site-packages\\sklearn\\discriminant_analysis.py:935: UserWarning: Variables are collinear\n",
      "  warnings.warn(\"Variables are collinear\")\n"
     ]
    }
   ],
   "source": [
    "for name, model in models.items():\n",
    "    # Train the model\n",
    "    model.fit(S_train, y_train_s)\n",
    "\n",
    "    # Make predictions on the test set\n",
    "    y_train_pred_s = model.predict(S_train)\n",
    "    y_test_pred_s = model.predict(S_test)\n",
    "\n",
    "    # Calculate evaluation metrics\n",
    "    test_accuracy = accuracy_score(y_test_s, y_test_pred_s)\n",
    "    train_accuracy = accuracy_score(y_train_s, y_train_pred_s)\n",
    "\n",
    "    #Save Test and Training Accuracies\n",
    "    performance2.loc[name, :] = [train_accuracy,test_accuracy]"
   ]
  },
  {
   "cell_type": "code",
   "execution_count": 206,
   "id": "31314b41-7026-4312-af45-5dde60bfa74e",
   "metadata": {},
   "outputs": [
    {
     "data": {
      "text/html": [
       "<div>\n",
       "<style scoped>\n",
       "    .dataframe tbody tr th:only-of-type {\n",
       "        vertical-align: middle;\n",
       "    }\n",
       "\n",
       "    .dataframe tbody tr th {\n",
       "        vertical-align: top;\n",
       "    }\n",
       "\n",
       "    .dataframe thead th {\n",
       "        text-align: right;\n",
       "    }\n",
       "</style>\n",
       "<table border=\"1\" class=\"dataframe\">\n",
       "  <thead>\n",
       "    <tr style=\"text-align: right;\">\n",
       "      <th></th>\n",
       "      <th>Train Accuracy</th>\n",
       "      <th>Test Accuracy</th>\n",
       "    </tr>\n",
       "  </thead>\n",
       "  <tbody>\n",
       "    <tr>\n",
       "      <th>BaggingClassifier</th>\n",
       "      <td>1.0</td>\n",
       "      <td>1.0</td>\n",
       "    </tr>\n",
       "    <tr>\n",
       "      <th>DecisionTreeClassifier</th>\n",
       "      <td>1.0</td>\n",
       "      <td>1.0</td>\n",
       "    </tr>\n",
       "    <tr>\n",
       "      <th>AdaBoostClassifier</th>\n",
       "      <td>1.0</td>\n",
       "      <td>0.996124</td>\n",
       "    </tr>\n",
       "    <tr>\n",
       "      <th>XGBOOST</th>\n",
       "      <td>1.0</td>\n",
       "      <td>0.996124</td>\n",
       "    </tr>\n",
       "    <tr>\n",
       "      <th>LogisticRegression</th>\n",
       "      <td>0.990282</td>\n",
       "      <td>0.992248</td>\n",
       "    </tr>\n",
       "    <tr>\n",
       "      <th>RandomForestClassifier</th>\n",
       "      <td>1.0</td>\n",
       "      <td>0.992248</td>\n",
       "    </tr>\n",
       "    <tr>\n",
       "      <th>GradientBoostingClassifier</th>\n",
       "      <td>1.0</td>\n",
       "      <td>0.992248</td>\n",
       "    </tr>\n",
       "    <tr>\n",
       "      <th>LinearSVC</th>\n",
       "      <td>0.991254</td>\n",
       "      <td>0.988372</td>\n",
       "    </tr>\n",
       "    <tr>\n",
       "      <th>MLPClassifier</th>\n",
       "      <td>0.994169</td>\n",
       "      <td>0.984496</td>\n",
       "    </tr>\n",
       "    <tr>\n",
       "      <th>QuadraticDiscriminantAnalysis</th>\n",
       "      <td>0.98931</td>\n",
       "      <td>0.972868</td>\n",
       "    </tr>\n",
       "    <tr>\n",
       "      <th>GaussianNB</th>\n",
       "      <td>0.943635</td>\n",
       "      <td>0.934109</td>\n",
       "    </tr>\n",
       "    <tr>\n",
       "      <th>SVC</th>\n",
       "      <td>0.842566</td>\n",
       "      <td>0.841085</td>\n",
       "    </tr>\n",
       "    <tr>\n",
       "      <th>SGDClassifier</th>\n",
       "      <td>0.846453</td>\n",
       "      <td>0.837209</td>\n",
       "    </tr>\n",
       "    <tr>\n",
       "      <th>KNeighborsClassifier</th>\n",
       "      <td>0.865889</td>\n",
       "      <td>0.821705</td>\n",
       "    </tr>\n",
       "    <tr>\n",
       "      <th>GaussianProcessClassifier</th>\n",
       "      <td>1.0</td>\n",
       "      <td>0.79845</td>\n",
       "    </tr>\n",
       "  </tbody>\n",
       "</table>\n",
       "</div>"
      ],
      "text/plain": [
       "                              Train Accuracy Test Accuracy\n",
       "BaggingClassifier                        1.0           1.0\n",
       "DecisionTreeClassifier                   1.0           1.0\n",
       "AdaBoostClassifier                       1.0      0.996124\n",
       "XGBOOST                                  1.0      0.996124\n",
       "LogisticRegression                  0.990282      0.992248\n",
       "RandomForestClassifier                   1.0      0.992248\n",
       "GradientBoostingClassifier               1.0      0.992248\n",
       "LinearSVC                           0.991254      0.988372\n",
       "MLPClassifier                       0.994169      0.984496\n",
       "QuadraticDiscriminantAnalysis        0.98931      0.972868\n",
       "GaussianNB                          0.943635      0.934109\n",
       "SVC                                 0.842566      0.841085\n",
       "SGDClassifier                       0.846453      0.837209\n",
       "KNeighborsClassifier                0.865889      0.821705\n",
       "GaussianProcessClassifier                1.0       0.79845"
      ]
     },
     "execution_count": 206,
     "metadata": {},
     "output_type": "execute_result"
    }
   ],
   "source": [
    "performance2.sort_values(by=['Test Accuracy'], ascending=False)"
   ]
  },
  {
   "cell_type": "code",
   "execution_count": 207,
   "id": "b219ca45-077d-422b-8bf6-ea11a5c90ece",
   "metadata": {},
   "outputs": [],
   "source": [
    "xgb_clf_s = XGBClassifier(eval_metric='logloss')"
   ]
  },
  {
   "cell_type": "code",
   "execution_count": 209,
   "id": "4a62b221-16f2-4fd4-83d2-3b5c24f1c16f",
   "metadata": {},
   "outputs": [
    {
     "data": {
      "text/html": [
       "<style>#sk-container-id-4 {color: black;}#sk-container-id-4 pre{padding: 0;}#sk-container-id-4 div.sk-toggleable {background-color: white;}#sk-container-id-4 label.sk-toggleable__label {cursor: pointer;display: block;width: 100%;margin-bottom: 0;padding: 0.3em;box-sizing: border-box;text-align: center;}#sk-container-id-4 label.sk-toggleable__label-arrow:before {content: \"▸\";float: left;margin-right: 0.25em;color: #696969;}#sk-container-id-4 label.sk-toggleable__label-arrow:hover:before {color: black;}#sk-container-id-4 div.sk-estimator:hover label.sk-toggleable__label-arrow:before {color: black;}#sk-container-id-4 div.sk-toggleable__content {max-height: 0;max-width: 0;overflow: hidden;text-align: left;background-color: #f0f8ff;}#sk-container-id-4 div.sk-toggleable__content pre {margin: 0.2em;color: black;border-radius: 0.25em;background-color: #f0f8ff;}#sk-container-id-4 input.sk-toggleable__control:checked~div.sk-toggleable__content {max-height: 200px;max-width: 100%;overflow: auto;}#sk-container-id-4 input.sk-toggleable__control:checked~label.sk-toggleable__label-arrow:before {content: \"▾\";}#sk-container-id-4 div.sk-estimator input.sk-toggleable__control:checked~label.sk-toggleable__label {background-color: #d4ebff;}#sk-container-id-4 div.sk-label input.sk-toggleable__control:checked~label.sk-toggleable__label {background-color: #d4ebff;}#sk-container-id-4 input.sk-hidden--visually {border: 0;clip: rect(1px 1px 1px 1px);clip: rect(1px, 1px, 1px, 1px);height: 1px;margin: -1px;overflow: hidden;padding: 0;position: absolute;width: 1px;}#sk-container-id-4 div.sk-estimator {font-family: monospace;background-color: #f0f8ff;border: 1px dotted black;border-radius: 0.25em;box-sizing: border-box;margin-bottom: 0.5em;}#sk-container-id-4 div.sk-estimator:hover {background-color: #d4ebff;}#sk-container-id-4 div.sk-parallel-item::after {content: \"\";width: 100%;border-bottom: 1px solid gray;flex-grow: 1;}#sk-container-id-4 div.sk-label:hover label.sk-toggleable__label {background-color: #d4ebff;}#sk-container-id-4 div.sk-serial::before {content: \"\";position: absolute;border-left: 1px solid gray;box-sizing: border-box;top: 0;bottom: 0;left: 50%;z-index: 0;}#sk-container-id-4 div.sk-serial {display: flex;flex-direction: column;align-items: center;background-color: white;padding-right: 0.2em;padding-left: 0.2em;position: relative;}#sk-container-id-4 div.sk-item {position: relative;z-index: 1;}#sk-container-id-4 div.sk-parallel {display: flex;align-items: stretch;justify-content: center;background-color: white;position: relative;}#sk-container-id-4 div.sk-item::before, #sk-container-id-4 div.sk-parallel-item::before {content: \"\";position: absolute;border-left: 1px solid gray;box-sizing: border-box;top: 0;bottom: 0;left: 50%;z-index: -1;}#sk-container-id-4 div.sk-parallel-item {display: flex;flex-direction: column;z-index: 1;position: relative;background-color: white;}#sk-container-id-4 div.sk-parallel-item:first-child::after {align-self: flex-end;width: 50%;}#sk-container-id-4 div.sk-parallel-item:last-child::after {align-self: flex-start;width: 50%;}#sk-container-id-4 div.sk-parallel-item:only-child::after {width: 0;}#sk-container-id-4 div.sk-dashed-wrapped {border: 1px dashed gray;margin: 0 0.4em 0.5em 0.4em;box-sizing: border-box;padding-bottom: 0.4em;background-color: white;}#sk-container-id-4 div.sk-label label {font-family: monospace;font-weight: bold;display: inline-block;line-height: 1.2em;}#sk-container-id-4 div.sk-label-container {text-align: center;}#sk-container-id-4 div.sk-container {/* jupyter's `normalize.less` sets `[hidden] { display: none; }` but bootstrap.min.css set `[hidden] { display: none !important; }` so we also need the `!important` here to be able to override the default hidden behavior on the sphinx rendered scikit-learn.org. See: https://github.com/scikit-learn/scikit-learn/issues/21755 */display: inline-block !important;position: relative;}#sk-container-id-4 div.sk-text-repr-fallback {display: none;}</style><div id=\"sk-container-id-4\" class=\"sk-top-container\"><div class=\"sk-text-repr-fallback\"><pre>XGBClassifier(base_score=None, booster=None, callbacks=None,\n",
       "              colsample_bylevel=None, colsample_bynode=None,\n",
       "              colsample_bytree=None, early_stopping_rounds=None,\n",
       "              enable_categorical=False, eval_metric=&#x27;logloss&#x27;,\n",
       "              feature_types=None, gamma=None, gpu_id=None, grow_policy=None,\n",
       "              importance_type=None, interaction_constraints=None,\n",
       "              learning_rate=None, max_bin=None, max_cat_threshold=None,\n",
       "              max_cat_to_onehot=None, max_delta_step=None, max_depth=None,\n",
       "              max_leaves=None, min_child_weight=None, missing=nan,\n",
       "              monotone_constraints=None, n_estimators=100, n_jobs=None,\n",
       "              num_parallel_tree=None, predictor=None, random_state=None, ...)</pre><b>In a Jupyter environment, please rerun this cell to show the HTML representation or trust the notebook. <br />On GitHub, the HTML representation is unable to render, please try loading this page with nbviewer.org.</b></div><div class=\"sk-container\" hidden><div class=\"sk-item\"><div class=\"sk-estimator sk-toggleable\"><input class=\"sk-toggleable__control sk-hidden--visually\" id=\"sk-estimator-id-4\" type=\"checkbox\" checked><label for=\"sk-estimator-id-4\" class=\"sk-toggleable__label sk-toggleable__label-arrow\">XGBClassifier</label><div class=\"sk-toggleable__content\"><pre>XGBClassifier(base_score=None, booster=None, callbacks=None,\n",
       "              colsample_bylevel=None, colsample_bynode=None,\n",
       "              colsample_bytree=None, early_stopping_rounds=None,\n",
       "              enable_categorical=False, eval_metric=&#x27;logloss&#x27;,\n",
       "              feature_types=None, gamma=None, gpu_id=None, grow_policy=None,\n",
       "              importance_type=None, interaction_constraints=None,\n",
       "              learning_rate=None, max_bin=None, max_cat_threshold=None,\n",
       "              max_cat_to_onehot=None, max_delta_step=None, max_depth=None,\n",
       "              max_leaves=None, min_child_weight=None, missing=nan,\n",
       "              monotone_constraints=None, n_estimators=100, n_jobs=None,\n",
       "              num_parallel_tree=None, predictor=None, random_state=None, ...)</pre></div></div></div></div></div>"
      ],
      "text/plain": [
       "XGBClassifier(base_score=None, booster=None, callbacks=None,\n",
       "              colsample_bylevel=None, colsample_bynode=None,\n",
       "              colsample_bytree=None, early_stopping_rounds=None,\n",
       "              enable_categorical=False, eval_metric='logloss',\n",
       "              feature_types=None, gamma=None, gpu_id=None, grow_policy=None,\n",
       "              importance_type=None, interaction_constraints=None,\n",
       "              learning_rate=None, max_bin=None, max_cat_threshold=None,\n",
       "              max_cat_to_onehot=None, max_delta_step=None, max_depth=None,\n",
       "              max_leaves=None, min_child_weight=None, missing=nan,\n",
       "              monotone_constraints=None, n_estimators=100, n_jobs=None,\n",
       "              num_parallel_tree=None, predictor=None, random_state=None, ...)"
      ]
     },
     "execution_count": 209,
     "metadata": {},
     "output_type": "execute_result"
    }
   ],
   "source": [
    "xgb_clf_s.fit(S_train, y_train_s)"
   ]
  },
  {
   "cell_type": "code",
   "execution_count": 210,
   "id": "cbc65528-4124-42b1-ae36-cd1fbe937fe2",
   "metadata": {},
   "outputs": [
    {
     "data": {
      "text/plain": [
       "<Figure size 1000x500 with 0 Axes>"
      ]
     },
     "metadata": {},
     "output_type": "display_data"
    },
    {
     "data": {
      "image/png": "[encoded data removed]",
      "text/plain": [
       "<Figure size 640x480 with 1 Axes>"
      ]
     },
     "metadata": {},
     "output_type": "display_data"
    }
   ],
   "source": [
    "# Plot feature importances\n",
    "plt.figure(figsize=(10, 5))\n",
    "plot_importance(xgb_clf_s, importance_type='weight', title='Feature Importance')\n",
    "plt.show()"
   ]
  },
  {
   "cell_type": "code",
   "execution_count": 224,
   "id": "2648babf-ec4c-4e0f-b11d-e11d6c0a910e",
   "metadata": {},
   "outputs": [
    {
     "data": {
      "text/plain": [
       "<Figure size 1000x500 with 0 Axes>"
      ]
     },
     "metadata": {},
     "output_type": "display_data"
    },
    {
     "data": {
      "image/png": "[encoded data removed]",
      "text/plain": [
       "<Figure size 640x480 with 1 Axes>"
      ]
     },
     "metadata": {},
     "output_type": "display_data"
    }
   ],
   "source": [
    "# Plot feature importances\n",
    "plt.figure(figsize=(10, 5))\n",
    "plot_importance(xgb_clf, importance_type='weight', title='Feature Importance')\n",
    "plt.show()"
   ]
  },
  {
   "cell_type": "code",
   "execution_count": 226,
   "id": "c7ae343f-5fd8-4fef-83ce-1b918aa79dfb",
   "metadata": {},
   "outputs": [
    {
     "data": {
      "text/plain": [
       "array([1, 2, 3, 6, 7, 5, 4], dtype=int64)"
      ]
     },
     "execution_count": 226,
     "metadata": {},
     "output_type": "execute_result"
    }
   ],
   "source": [
    "r_data.lap.unique()"
   ]
  },
  {
   "cell_type": "code",
   "execution_count": 227,
   "id": "cd1050ed-8187-4235-8131-8820df27e192",
   "metadata": {},
   "outputs": [],
   "source": [
    "# Features to train model on\n",
    "selected_cols = [\n",
    "    'lap',\n",
    "    'start_time',\n",
    "    'straight',\n",
    "    'roundabout_entry',\n",
    "    'roundabout_exit',\n",
    "    'zebra_crossing',\n",
    "    'left_turn',\n",
    "    'u_turn',\n",
    "    'bypass_dummy',\n",
    "    'car',\n",
    "    'pedestrian',\n",
    "    'traffic_light',\n",
    "    'narrow_road',\n",
    "    'dummy',\n",
    "    'bend',\n",
    "    'habituation',\n",
    "    'traffic',\n",
    "    'hurry',\n",
    "    'frustration',\n",
    "    'surprise',\n",
    "    'risk_outcome',\n",
    "    'risk_source_env',\n",
    "    'risk_source_other_usr',\n",
    "    'risk_source_driver',\n",
    "    'risk_source_crash',\n",
    "    'violation_roadside_invasion',\n",
    "    'violation_give_the_way',\n",
    "    'violation_road_signs',\n",
    "    'violation_heavy_braking',\n",
    "    'violation_roadside_exit',\n",
    "    'violation_slowdown',\n",
    "    'emotion_na',\n",
    "    'emotion_neutral',\n",
    "    'emotion_surprise',\n",
    "    'emotion_anger',\n",
    "    'emotion_boredom',\n",
    "    'emotion_fear',\n",
    "    'gaze_na',\n",
    "    'gaze_complete_expl',\n",
    "    'gaze_partial_expl',\n",
    "    'gaze_poor_expl',\n",
    "    'distraction_na',\n",
    "    'distraction_no',\n",
    "    'distraction_reduced_attention',\n",
    "    'max_speed',\n",
    "    'avg_speed',\n",
    "    'std_speed',\n",
    "    'yaw',\n",
    "    'yaw_rate',\n",
    "    'roll',\n",
    "    'roll_rate',\n",
    "    'pitch',\n",
    "    'pitch_rate',\n",
    "    'long_acce',\n",
    "    'vert_acce',\n",
    "    'avg_acce_pedal_pos',\n",
    "    'std_acce_pedal_pos',\n",
    "    'std_steer_angle'\n",
    "]"
   ]
  },
  {
   "cell_type": "code",
   "execution_count": null,
   "id": "11ce3d9d-282a-4a8b-bc10-916409062c80",
   "metadata": {},
   "outputs": [],
   "source": []
  },
  {
   "cell_type": "code",
   "execution_count": null,
   "id": "a668a77f-bf25-4c9d-ada9-da120ff967b4",
   "metadata": {},
   "outputs": [],
   "source": []
  },
  {
   "cell_type": "code",
   "execution_count": null,
   "id": "7ee4ebc3-fe7c-432b-a2db-62565d98c84f",
   "metadata": {},
   "outputs": [],
   "source": []
  },
  {
   "cell_type": "code",
   "execution_count": null,
   "id": "52b7045d-4a50-488e-9973-1d2cbcaf5cd3",
   "metadata": {},
   "outputs": [],
   "source": []
  },
  {
   "cell_type": "code",
   "execution_count": null,
   "id": "6bacdb09-70ef-446b-8655-9c37f6870670",
   "metadata": {},
   "outputs": [],
   "source": []
  },
  {
   "cell_type": "code",
   "execution_count": null,
   "id": "f766e9c8-d0aa-4cf3-81af-306a1464049f",
   "metadata": {},
   "outputs": [],
   "source": []
  },
  {
   "cell_type": "code",
   "execution_count": null,
   "id": "37817db1-5e94-4a60-9bc9-2a038cec6ffd",
   "metadata": {},
   "outputs": [],
   "source": []
  },
  {
   "cell_type": "code",
   "execution_count": null,
   "id": "7cd88136-ff68-46db-bf6c-0a2d93cea1d6",
   "metadata": {},
   "outputs": [],
   "source": []
  }
 ],
 "metadata": {
  "kernelspec": {
   "display_name": "Python 3 (ipykernel)",
   "language": "python",
   "name": "python3"
  },
  "language_info": {
   "codemirror_mode": {
    "name": "ipython",
    "version": 3
   },
   "file_extension": ".py",
   "mimetype": "text/x-python",
   "name": "python",
   "nbconvert_exporter": "python",
   "pygments_lexer": "ipython3",
   "version": "3.8.18"
  }
 },
 "nbformat": 4,
 "nbformat_minor": 5
}
