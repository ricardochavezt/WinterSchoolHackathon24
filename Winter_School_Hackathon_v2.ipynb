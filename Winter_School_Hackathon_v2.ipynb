{
 "cells": [
  {
   "cell_type": "code",
   "execution_count": 250,
   "id": "e0509e02-b2bc-4e9a-b5ec-83a787709b83",
   "metadata": {},
   "outputs": [],
   "source": [
    "import pandas as pd\n",
    "import numpy as np\n",
    "import matplotlib.pyplot as plt\n",
    "import seaborn as sns\n",
    "\n",
    "from sklearn.model_selection import train_test_split\n",
    "from sklearn.model_selection import cross_val_score\n",
    "from xgboost import XGBClassifier, plot_importance"
   ]
  },
  {
   "cell_type": "code",
   "execution_count": 251,
   "id": "4e643bbd-c362-4e78-9b3b-354464c00ce8",
   "metadata": {},
   "outputs": [
    {
     "data": {
      "text/html": [
       "<div>\n",
       "<style scoped>\n",
       "    .dataframe tbody tr th:only-of-type {\n",
       "        vertical-align: middle;\n",
       "    }\n",
       "\n",
       "    .dataframe tbody tr th {\n",
       "        vertical-align: top;\n",
       "    }\n",
       "\n",
       "    .dataframe thead th {\n",
       "        text-align: right;\n",
       "    }\n",
       "</style>\n",
       "<table border=\"1\" class=\"dataframe\">\n",
       "  <thead>\n",
       "    <tr style=\"text-align: right;\">\n",
       "      <th></th>\n",
       "      <th>subject</th>\n",
       "      <th>lap</th>\n",
       "      <th>start_time</th>\n",
       "      <th>straight</th>\n",
       "      <th>roundabout_entry</th>\n",
       "      <th>roundabout_exit</th>\n",
       "      <th>zebra_crossing</th>\n",
       "      <th>left_turn</th>\n",
       "      <th>u_turn</th>\n",
       "      <th>bypass_dummy</th>\n",
       "      <th>...</th>\n",
       "      <th>LowerAlphaFrontal</th>\n",
       "      <th>LowerAlphaParietal</th>\n",
       "      <th>UpperAlphaFrontal</th>\n",
       "      <th>UpperAlphaParietal</th>\n",
       "      <th>BetaFrontal</th>\n",
       "      <th>BetaParietal</th>\n",
       "      <th>LowerBetaFrontal</th>\n",
       "      <th>LowerBetaParietal</th>\n",
       "      <th>UpperBetaFrontal</th>\n",
       "      <th>UpperBetaParietal</th>\n",
       "    </tr>\n",
       "  </thead>\n",
       "  <tbody>\n",
       "    <tr>\n",
       "      <th>0</th>\n",
       "      <td>0AC2A4</td>\n",
       "      <td>1</td>\n",
       "      <td>7</td>\n",
       "      <td>1</td>\n",
       "      <td>1</td>\n",
       "      <td>0</td>\n",
       "      <td>0</td>\n",
       "      <td>1</td>\n",
       "      <td>0</td>\n",
       "      <td>0</td>\n",
       "      <td>...</td>\n",
       "      <td>0.13222</td>\n",
       "      <td>0.08812</td>\n",
       "      <td>0.13469</td>\n",
       "      <td>0.08590</td>\n",
       "      <td>0.05499</td>\n",
       "      <td>0.04078</td>\n",
       "      <td>0.08419</td>\n",
       "      <td>0.06275</td>\n",
       "      <td>0.03722</td>\n",
       "      <td>0.02711</td>\n",
       "    </tr>\n",
       "    <tr>\n",
       "      <th>1</th>\n",
       "      <td>0AC2A4</td>\n",
       "      <td>1</td>\n",
       "      <td>27</td>\n",
       "      <td>1</td>\n",
       "      <td>0</td>\n",
       "      <td>1</td>\n",
       "      <td>0</td>\n",
       "      <td>1</td>\n",
       "      <td>0</td>\n",
       "      <td>0</td>\n",
       "      <td>...</td>\n",
       "      <td>0.13639</td>\n",
       "      <td>0.08118</td>\n",
       "      <td>0.12483</td>\n",
       "      <td>0.07588</td>\n",
       "      <td>0.04060</td>\n",
       "      <td>0.02869</td>\n",
       "      <td>0.05951</td>\n",
       "      <td>0.04759</td>\n",
       "      <td>0.02963</td>\n",
       "      <td>0.01753</td>\n",
       "    </tr>\n",
       "    <tr>\n",
       "      <th>2</th>\n",
       "      <td>0AC2A4</td>\n",
       "      <td>1</td>\n",
       "      <td>33</td>\n",
       "      <td>1</td>\n",
       "      <td>0</td>\n",
       "      <td>0</td>\n",
       "      <td>1</td>\n",
       "      <td>1</td>\n",
       "      <td>0</td>\n",
       "      <td>0</td>\n",
       "      <td>...</td>\n",
       "      <td>0.19671</td>\n",
       "      <td>0.11480</td>\n",
       "      <td>0.10121</td>\n",
       "      <td>0.09079</td>\n",
       "      <td>0.04339</td>\n",
       "      <td>0.02727</td>\n",
       "      <td>0.06250</td>\n",
       "      <td>0.04305</td>\n",
       "      <td>0.03296</td>\n",
       "      <td>0.01751</td>\n",
       "    </tr>\n",
       "    <tr>\n",
       "      <th>3</th>\n",
       "      <td>0AC2A4</td>\n",
       "      <td>1</td>\n",
       "      <td>43</td>\n",
       "      <td>1</td>\n",
       "      <td>1</td>\n",
       "      <td>0</td>\n",
       "      <td>0</td>\n",
       "      <td>0</td>\n",
       "      <td>0</td>\n",
       "      <td>0</td>\n",
       "      <td>...</td>\n",
       "      <td>0.20826</td>\n",
       "      <td>0.12873</td>\n",
       "      <td>0.11832</td>\n",
       "      <td>0.11087</td>\n",
       "      <td>0.04872</td>\n",
       "      <td>0.02917</td>\n",
       "      <td>0.06894</td>\n",
       "      <td>0.04766</td>\n",
       "      <td>0.03627</td>\n",
       "      <td>0.01744</td>\n",
       "    </tr>\n",
       "    <tr>\n",
       "      <th>4</th>\n",
       "      <td>0AC2A4</td>\n",
       "      <td>1</td>\n",
       "      <td>58</td>\n",
       "      <td>1</td>\n",
       "      <td>1</td>\n",
       "      <td>0</td>\n",
       "      <td>0</td>\n",
       "      <td>0</td>\n",
       "      <td>0</td>\n",
       "      <td>0</td>\n",
       "      <td>...</td>\n",
       "      <td>0.21193</td>\n",
       "      <td>0.14454</td>\n",
       "      <td>0.13428</td>\n",
       "      <td>0.13604</td>\n",
       "      <td>0.04173</td>\n",
       "      <td>0.02743</td>\n",
       "      <td>0.05937</td>\n",
       "      <td>0.04344</td>\n",
       "      <td>0.03132</td>\n",
       "      <td>0.01762</td>\n",
       "    </tr>\n",
       "  </tbody>\n",
       "</table>\n",
       "<p>5 rows × 88 columns</p>\n",
       "</div>"
      ],
      "text/plain": [
       "  subject  lap  start_time  straight  roundabout_entry  roundabout_exit  \\\n",
       "0  0AC2A4    1           7         1                 1                0   \n",
       "1  0AC2A4    1          27         1                 0                1   \n",
       "2  0AC2A4    1          33         1                 0                0   \n",
       "3  0AC2A4    1          43         1                 1                0   \n",
       "4  0AC2A4    1          58         1                 1                0   \n",
       "\n",
       "   zebra_crossing  left_turn  u_turn  bypass_dummy  ...  LowerAlphaFrontal  \\\n",
       "0               0          1       0             0  ...            0.13222   \n",
       "1               0          1       0             0  ...            0.13639   \n",
       "2               1          1       0             0  ...            0.19671   \n",
       "3               0          0       0             0  ...            0.20826   \n",
       "4               0          0       0             0  ...            0.21193   \n",
       "\n",
       "   LowerAlphaParietal  UpperAlphaFrontal  UpperAlphaParietal  BetaFrontal  \\\n",
       "0             0.08812            0.13469             0.08590      0.05499   \n",
       "1             0.08118            0.12483             0.07588      0.04060   \n",
       "2             0.11480            0.10121             0.09079      0.04339   \n",
       "3             0.12873            0.11832             0.11087      0.04872   \n",
       "4             0.14454            0.13428             0.13604      0.04173   \n",
       "\n",
       "   BetaParietal  LowerBetaFrontal  LowerBetaParietal  UpperBetaFrontal  \\\n",
       "0       0.04078           0.08419            0.06275           0.03722   \n",
       "1       0.02869           0.05951            0.04759           0.02963   \n",
       "2       0.02727           0.06250            0.04305           0.03296   \n",
       "3       0.02917           0.06894            0.04766           0.03627   \n",
       "4       0.02743           0.05937            0.04344           0.03132   \n",
       "\n",
       "   UpperBetaParietal  \n",
       "0            0.02711  \n",
       "1            0.01753  \n",
       "2            0.01751  \n",
       "3            0.01744  \n",
       "4            0.01762  \n",
       "\n",
       "[5 rows x 88 columns]"
      ]
     },
     "execution_count": 251,
     "metadata": {},
     "output_type": "execute_result"
    }
   ],
   "source": [
    "real_data = pd.read_excel(\"Feature_Track.xlsx\", index_col=0)\n",
    "real_data.head()"
   ]
  },
  {
   "cell_type": "code",
   "execution_count": 252,
   "id": "dc809d74-7e4e-41de-9643-28a345de644f",
   "metadata": {},
   "outputs": [
    {
     "data": {
      "text/plain": [
       "(1056, 88)"
      ]
     },
     "execution_count": 252,
     "metadata": {},
     "output_type": "execute_result"
    }
   ],
   "source": [
    "real_data.shape"
   ]
  },
  {
   "cell_type": "code",
   "execution_count": 253,
   "id": "6f671bec-877c-4308-9346-2c1acf5c55b2",
   "metadata": {},
   "outputs": [
    {
     "name": "stdout",
     "output_type": "stream",
     "text": [
      "88\n"
     ]
    },
    {
     "data": {
      "text/plain": [
       "<Axes: >"
      ]
     },
     "execution_count": 253,
     "metadata": {},
     "output_type": "execute_result"
    },
    {
     "data": {
      "image/png": "[encoded data removed]",
      "text/plain": [
       "<Figure size 640x480 with 1 Axes>"
      ]
     },
     "metadata": {},
     "output_type": "display_data"
    }
   ],
   "source": [
    "null_cols = real_data.isnull().sum()\n",
    "print(len(null_cols))\n",
    "null_cols.plot()"
   ]
  },
  {
   "cell_type": "code",
   "execution_count": 254,
   "id": "ad2551b9-b3c8-4e2a-a1f3-062a2180a843",
   "metadata": {},
   "outputs": [
    {
     "data": {
      "image/png": "[encoded data removed]",
      "text/plain": [
       "<Figure size 640x480 with 1 Axes>"
      ]
     },
     "metadata": {},
     "output_type": "display_data"
    }
   ],
   "source": [
    "plt.plot(null_cols)\n",
    "plt.show()"
   ]
  },
  {
   "cell_type": "code",
   "execution_count": 255,
   "id": "fcb1522e-5d4a-4ae3-9ecb-47a8f41550d5",
   "metadata": {},
   "outputs": [
    {
     "data": {
      "text/html": [
       "<div>\n",
       "<style scoped>\n",
       "    .dataframe tbody tr th:only-of-type {\n",
       "        vertical-align: middle;\n",
       "    }\n",
       "\n",
       "    .dataframe tbody tr th {\n",
       "        vertical-align: top;\n",
       "    }\n",
       "\n",
       "    .dataframe thead th {\n",
       "        text-align: right;\n",
       "    }\n",
       "</style>\n",
       "<table border=\"1\" class=\"dataframe\">\n",
       "  <thead>\n",
       "    <tr style=\"text-align: right;\">\n",
       "      <th></th>\n",
       "      <th>subject</th>\n",
       "      <th>lap</th>\n",
       "      <th>start_time</th>\n",
       "      <th>straight</th>\n",
       "      <th>roundabout_entry</th>\n",
       "      <th>roundabout_exit</th>\n",
       "      <th>zebra_crossing</th>\n",
       "      <th>left_turn</th>\n",
       "      <th>u_turn</th>\n",
       "      <th>bypass_dummy</th>\n",
       "      <th>...</th>\n",
       "      <th>LowerAlphaFrontal</th>\n",
       "      <th>LowerAlphaParietal</th>\n",
       "      <th>UpperAlphaFrontal</th>\n",
       "      <th>UpperAlphaParietal</th>\n",
       "      <th>BetaFrontal</th>\n",
       "      <th>BetaParietal</th>\n",
       "      <th>LowerBetaFrontal</th>\n",
       "      <th>LowerBetaParietal</th>\n",
       "      <th>UpperBetaFrontal</th>\n",
       "      <th>UpperBetaParietal</th>\n",
       "    </tr>\n",
       "  </thead>\n",
       "  <tbody>\n",
       "    <tr>\n",
       "      <th>0</th>\n",
       "      <td>0AC2A4</td>\n",
       "      <td>1</td>\n",
       "      <td>13</td>\n",
       "      <td>1</td>\n",
       "      <td>0</td>\n",
       "      <td>0</td>\n",
       "      <td>1</td>\n",
       "      <td>0</td>\n",
       "      <td>0</td>\n",
       "      <td>0</td>\n",
       "      <td>...</td>\n",
       "      <td>0.12420</td>\n",
       "      <td>0.07737</td>\n",
       "      <td>0.12307</td>\n",
       "      <td>0.07681</td>\n",
       "      <td>0.05046</td>\n",
       "      <td>0.03492</td>\n",
       "      <td>0.07430</td>\n",
       "      <td>0.05289</td>\n",
       "      <td>0.03606</td>\n",
       "      <td>0.02393</td>\n",
       "    </tr>\n",
       "    <tr>\n",
       "      <th>1</th>\n",
       "      <td>0AC2A4</td>\n",
       "      <td>1</td>\n",
       "      <td>32</td>\n",
       "      <td>0</td>\n",
       "      <td>1</td>\n",
       "      <td>0</td>\n",
       "      <td>1</td>\n",
       "      <td>0</td>\n",
       "      <td>0</td>\n",
       "      <td>0</td>\n",
       "      <td>...</td>\n",
       "      <td>0.20402</td>\n",
       "      <td>0.10296</td>\n",
       "      <td>0.14606</td>\n",
       "      <td>0.10325</td>\n",
       "      <td>0.03636</td>\n",
       "      <td>0.02433</td>\n",
       "      <td>0.05822</td>\n",
       "      <td>0.04136</td>\n",
       "      <td>0.02535</td>\n",
       "      <td>0.01391</td>\n",
       "    </tr>\n",
       "    <tr>\n",
       "      <th>2</th>\n",
       "      <td>0AC2A4</td>\n",
       "      <td>1</td>\n",
       "      <td>36</td>\n",
       "      <td>0</td>\n",
       "      <td>0</td>\n",
       "      <td>1</td>\n",
       "      <td>1</td>\n",
       "      <td>0</td>\n",
       "      <td>0</td>\n",
       "      <td>0</td>\n",
       "      <td>...</td>\n",
       "      <td>0.20329</td>\n",
       "      <td>0.12355</td>\n",
       "      <td>0.09483</td>\n",
       "      <td>0.08173</td>\n",
       "      <td>0.04524</td>\n",
       "      <td>0.02847</td>\n",
       "      <td>0.06055</td>\n",
       "      <td>0.04321</td>\n",
       "      <td>0.03586</td>\n",
       "      <td>0.01923</td>\n",
       "    </tr>\n",
       "    <tr>\n",
       "      <th>3</th>\n",
       "      <td>0AC2A4</td>\n",
       "      <td>1</td>\n",
       "      <td>42</td>\n",
       "      <td>1</td>\n",
       "      <td>0</td>\n",
       "      <td>0</td>\n",
       "      <td>0</td>\n",
       "      <td>0</td>\n",
       "      <td>0</td>\n",
       "      <td>0</td>\n",
       "      <td>...</td>\n",
       "      <td>0.20325</td>\n",
       "      <td>0.12153</td>\n",
       "      <td>0.11255</td>\n",
       "      <td>0.10920</td>\n",
       "      <td>0.04928</td>\n",
       "      <td>0.02923</td>\n",
       "      <td>0.07192</td>\n",
       "      <td>0.04653</td>\n",
       "      <td>0.03536</td>\n",
       "      <td>0.01832</td>\n",
       "    </tr>\n",
       "    <tr>\n",
       "      <th>4</th>\n",
       "      <td>0AC2A4</td>\n",
       "      <td>1</td>\n",
       "      <td>52</td>\n",
       "      <td>1</td>\n",
       "      <td>0</td>\n",
       "      <td>0</td>\n",
       "      <td>0</td>\n",
       "      <td>0</td>\n",
       "      <td>1</td>\n",
       "      <td>0</td>\n",
       "      <td>...</td>\n",
       "      <td>0.19645</td>\n",
       "      <td>0.13454</td>\n",
       "      <td>0.13270</td>\n",
       "      <td>0.13759</td>\n",
       "      <td>0.04501</td>\n",
       "      <td>0.02943</td>\n",
       "      <td>0.06175</td>\n",
       "      <td>0.04715</td>\n",
       "      <td>0.03511</td>\n",
       "      <td>0.01838</td>\n",
       "    </tr>\n",
       "  </tbody>\n",
       "</table>\n",
       "<p>5 rows × 88 columns</p>\n",
       "</div>"
      ],
      "text/plain": [
       "  subject  lap  start_time  straight  roundabout_entry  roundabout_exit  \\\n",
       "0  0AC2A4    1          13         1                 0                0   \n",
       "1  0AC2A4    1          32         0                 1                0   \n",
       "2  0AC2A4    1          36         0                 0                1   \n",
       "3  0AC2A4    1          42         1                 0                0   \n",
       "4  0AC2A4    1          52         1                 0                0   \n",
       "\n",
       "   zebra_crossing  left_turn  u_turn  bypass_dummy  ...  LowerAlphaFrontal  \\\n",
       "0               1          0       0             0  ...            0.12420   \n",
       "1               1          0       0             0  ...            0.20402   \n",
       "2               1          0       0             0  ...            0.20329   \n",
       "3               0          0       0             0  ...            0.20325   \n",
       "4               0          0       1             0  ...            0.19645   \n",
       "\n",
       "   LowerAlphaParietal  UpperAlphaFrontal  UpperAlphaParietal  BetaFrontal  \\\n",
       "0             0.07737            0.12307             0.07681      0.05046   \n",
       "1             0.10296            0.14606             0.10325      0.03636   \n",
       "2             0.12355            0.09483             0.08173      0.04524   \n",
       "3             0.12153            0.11255             0.10920      0.04928   \n",
       "4             0.13454            0.13270             0.13759      0.04501   \n",
       "\n",
       "   BetaParietal  LowerBetaFrontal  LowerBetaParietal  UpperBetaFrontal  \\\n",
       "0       0.03492           0.07430            0.05289           0.03606   \n",
       "1       0.02433           0.05822            0.04136           0.02535   \n",
       "2       0.02847           0.06055            0.04321           0.03586   \n",
       "3       0.02923           0.07192            0.04653           0.03536   \n",
       "4       0.02943           0.06175            0.04715           0.03511   \n",
       "\n",
       "   UpperBetaParietal  \n",
       "0            0.02393  \n",
       "1            0.01391  \n",
       "2            0.01923  \n",
       "3            0.01832  \n",
       "4            0.01838  \n",
       "\n",
       "[5 rows x 88 columns]"
      ]
     },
     "execution_count": 255,
     "metadata": {},
     "output_type": "execute_result"
    }
   ],
   "source": [
    "sim_data = pd.read_excel(\"Feature_Simulation.xlsx\", index_col=0)\n",
    "sim_data.head()"
   ]
  },
  {
   "cell_type": "code",
   "execution_count": 256,
   "id": "bc56cf54-b1b1-4a08-bd79-19bf366fc2d0",
   "metadata": {},
   "outputs": [
    {
     "data": {
      "text/plain": [
       "(1287, 88)"
      ]
     },
     "execution_count": 256,
     "metadata": {},
     "output_type": "execute_result"
    }
   ],
   "source": [
    "sim_data.shape"
   ]
  },
  {
   "cell_type": "code",
   "execution_count": 257,
   "id": "cec09327-9580-4780-af24-99e3614fb913",
   "metadata": {},
   "outputs": [
    {
     "data": {
      "text/plain": [
       "Index(['max_speed', 'avg_speed', 'std_speed', 'yaw', 'yaw_rate', 'roll',\n",
       "       'roll_rate', 'pitch', 'pitch_rate', 'lat_acce', 'long_acce',\n",
       "       'vert_acce', 'avg_acce_pedal_pos', 'std_acce_pedal_pos',\n",
       "       'avg_steer_angle', 'std_steer_angle', 'hr', 'hrv_lf', 'hrv_hf',\n",
       "       'hrv_lfhf_ratio', 'gsr_tonic', 'gsr_phasic', 'gsr_peaks', 'EBRmean',\n",
       "       'BDmean', 'ThetaFrontal', 'ThetaParietal', 'AlphaFrontal',\n",
       "       'AlphaParietal', 'LowerAlphaFrontal', 'LowerAlphaParietal',\n",
       "       'UpperAlphaFrontal', 'UpperAlphaParietal', 'BetaFrontal',\n",
       "       'BetaParietal', 'LowerBetaFrontal', 'LowerBetaParietal',\n",
       "       'UpperBetaFrontal', 'UpperBetaParietal'],\n",
       "      dtype='object')"
      ]
     },
     "execution_count": 257,
     "metadata": {},
     "output_type": "execute_result"
    }
   ],
   "source": [
    "numerical_features = real_data.select_dtypes(include=['float64']).columns\n",
    "numerical_features"
   ]
  },
  {
   "cell_type": "code",
   "execution_count": 258,
   "id": "6b206cf5-6e96-48b0-83f8-3f02c55304c9",
   "metadata": {},
   "outputs": [
    {
     "data": {
      "text/plain": [
       "Index(['subject', 'lap', 'start_time', 'straight', 'roundabout_entry',\n",
       "       'roundabout_exit', 'zebra_crossing', 'left_turn', 'u_turn',\n",
       "       'bypass_dummy', 'car', 'pedestrian', 'traffic_light', 'narrow_road',\n",
       "       'dummy', 'bend', 'habituation', 'traffic', 'hurry', 'frustration',\n",
       "       'surprise', 'risk_outcome', 'risk_source_env', 'risk_source_other_usr',\n",
       "       'risk_source_driver', 'risk_source_crash', 'risk_evaluation',\n",
       "       'violation_no', 'violation_roadside_invasion', 'violation_give_the_way',\n",
       "       'violation_road_signs', 'violation_heavy_braking',\n",
       "       'violation_roadside_exit', 'violation_slowdown', 'emotion_na',\n",
       "       'emotion_neutral', 'emotion_surprise', 'emotion_anger',\n",
       "       'emotion_boredom', 'emotion_fear', 'emotion_fun', 'gaze_na',\n",
       "       'gaze_complete_expl', 'gaze_partial_expl', 'gaze_poor_expl',\n",
       "       'distraction_na', 'distraction_no', 'distraction_reduced_attention',\n",
       "       'distraction_speaking'],\n",
       "      dtype='object')"
      ]
     },
     "execution_count": 258,
     "metadata": {},
     "output_type": "execute_result"
    }
   ],
   "source": [
    "categorical_features = real_data.select_dtypes(exclude=['float64']).columns\n",
    "categorical_features"
   ]
  },
  {
   "cell_type": "code",
   "execution_count": 259,
   "id": "b9c072cf-b217-4522-9be6-e8b74be65f75",
   "metadata": {},
   "outputs": [
    {
     "data": {
      "text/plain": [
       "{dtype('int64'), dtype('float64'), dtype('O')}"
      ]
     },
     "execution_count": 259,
     "metadata": {},
     "output_type": "execute_result"
    }
   ],
   "source": [
    "set(sim_data.dtypes)"
   ]
  },
  {
   "cell_type": "code",
   "execution_count": 260,
   "id": "06f87308-b960-4859-8842-b72f7c05f7d0",
   "metadata": {},
   "outputs": [],
   "source": [
    "categorical_featurers = []\n",
    "binary_features =  [] "
   ]
  },
  {
   "cell_type": "code",
   "execution_count": 261,
   "id": "bb682218-9e25-4c65-9c62-19423d53580b",
   "metadata": {},
   "outputs": [
    {
     "data": {
      "text/plain": [
       "array([2, 1], dtype=int64)"
      ]
     },
     "execution_count": 261,
     "metadata": {},
     "output_type": "execute_result"
    }
   ],
   "source": [
    "real_data.frustration.unique()"
   ]
  },
  {
   "cell_type": "markdown",
   "id": "f36ab18f-ac4c-4081-9299-46ebca17215b",
   "metadata": {},
   "source": [
    "### Todo:\n",
    "- Separate the categorical features from the numerical features\n",
    "- Deal with missing values"
   ]
  },
  {
   "cell_type": "code",
   "execution_count": 262,
   "id": "a3a29aaf-2540-4a0e-8176-8c5b9a44315e",
   "metadata": {},
   "outputs": [
    {
     "name": "stdout",
     "output_type": "stream",
     "text": [
      "subject 0\n",
      "lap 0\n",
      "start_time 0\n",
      "straight 0\n",
      "roundabout_entry 0\n",
      "roundabout_exit 0\n",
      "zebra_crossing 0\n",
      "left_turn 0\n",
      "u_turn 0\n",
      "bypass_dummy 0\n",
      "car 0\n",
      "pedestrian 0\n",
      "traffic_light 0\n",
      "narrow_road 0\n",
      "dummy 0\n",
      "bend 0\n",
      "habituation 0\n",
      "traffic 0\n",
      "hurry 0\n",
      "frustration 0\n",
      "surprise 0\n",
      "risk_outcome 0\n",
      "risk_source_env 0\n",
      "risk_source_other_usr 0\n",
      "risk_source_driver 0\n",
      "risk_source_crash 0\n",
      "risk_evaluation 0\n",
      "violation_no 0\n",
      "violation_roadside_invasion 0\n",
      "violation_give_the_way 0\n",
      "violation_road_signs 0\n",
      "violation_heavy_braking 0\n",
      "violation_roadside_exit 0\n",
      "violation_slowdown 0\n",
      "emotion_na 0\n",
      "emotion_neutral 0\n",
      "emotion_surprise 0\n",
      "emotion_anger 0\n",
      "emotion_boredom 0\n",
      "emotion_fear 0\n",
      "emotion_fun 0\n",
      "gaze_na 0\n",
      "gaze_complete_expl 0\n",
      "gaze_partial_expl 0\n",
      "gaze_poor_expl 0\n",
      "distraction_na 0\n",
      "distraction_no 0\n",
      "distraction_reduced_attention 0\n",
      "distraction_speaking 0\n",
      "max_speed 44\n",
      "avg_speed 44\n",
      "std_speed 44\n",
      "yaw 0\n",
      "yaw_rate 0\n",
      "roll 0\n",
      "roll_rate 0\n",
      "pitch 0\n",
      "pitch_rate 0\n",
      "lat_acce 0\n",
      "long_acce 0\n",
      "vert_acce 0\n",
      "avg_acce_pedal_pos 0\n",
      "std_acce_pedal_pos 0\n",
      "avg_steer_angle 0\n",
      "std_steer_angle 0\n",
      "hr 345\n",
      "hrv_lf 345\n",
      "hrv_hf 345\n",
      "hrv_lfhf_ratio 345\n",
      "gsr_tonic 240\n",
      "gsr_phasic 240\n",
      "gsr_peaks 240\n",
      "EBRmean 339\n",
      "BDmean 341\n",
      "ThetaFrontal 247\n",
      "ThetaParietal 247\n",
      "AlphaFrontal 247\n",
      "AlphaParietal 247\n",
      "LowerAlphaFrontal 247\n",
      "LowerAlphaParietal 247\n",
      "UpperAlphaFrontal 247\n",
      "UpperAlphaParietal 247\n",
      "BetaFrontal 247\n",
      "BetaParietal 247\n",
      "LowerBetaFrontal 247\n",
      "LowerBetaParietal 247\n",
      "UpperBetaFrontal 247\n",
      "UpperBetaParietal 247\n"
     ]
    }
   ],
   "source": [
    "for col in real_data.columns:\n",
    "    print(col, real_data[col].isnull().sum())"
   ]
  },
  {
   "cell_type": "code",
   "execution_count": 263,
   "id": "2dde2f78-6057-4509-9371-76f42ebad294",
   "metadata": {},
   "outputs": [],
   "source": [
    "def fill_null_vals(dataset, groupby_col=\"subject\") -> pd.DataFrame:\n",
    "    for column in dataset.columns:\n",
    "        # Skip the column used for grouping\n",
    "        if column == groupby_col:\n",
    "            continue\n",
    "        # Apply group-specific mean for each column with missing values\n",
    "        dataset[column] = dataset.groupby(groupby_col)[column].transform(lambda x: x.fillna(x.mean()))\n",
    "    return dataset"
   ]
  },
  {
   "cell_type": "code",
   "execution_count": 264,
   "id": "121945af-765b-4324-bc36-5ab09c02ba43",
   "metadata": {},
   "outputs": [],
   "source": [
    "real_data_nulls_filled = fill_null_vals(real_data, \"subject\")"
   ]
  },
  {
   "cell_type": "code",
   "execution_count": 265,
   "id": "a242dd90-fa09-44e9-b9c7-4bd8c069ed8e",
   "metadata": {},
   "outputs": [
    {
     "name": "stdout",
     "output_type": "stream",
     "text": [
      "subject 0\n",
      "lap 0\n",
      "start_time 0\n",
      "straight 0\n",
      "roundabout_entry 0\n",
      "roundabout_exit 0\n",
      "zebra_crossing 0\n",
      "left_turn 0\n",
      "u_turn 0\n",
      "bypass_dummy 0\n",
      "car 0\n",
      "pedestrian 0\n",
      "traffic_light 0\n",
      "narrow_road 0\n",
      "dummy 0\n",
      "bend 0\n",
      "habituation 0\n",
      "traffic 0\n",
      "hurry 0\n",
      "frustration 0\n",
      "surprise 0\n",
      "risk_outcome 0\n",
      "risk_source_env 0\n",
      "risk_source_other_usr 0\n",
      "risk_source_driver 0\n",
      "risk_source_crash 0\n",
      "risk_evaluation 0\n",
      "violation_no 0\n",
      "violation_roadside_invasion 0\n",
      "violation_give_the_way 0\n",
      "violation_road_signs 0\n",
      "violation_heavy_braking 0\n",
      "violation_roadside_exit 0\n",
      "violation_slowdown 0\n",
      "emotion_na 0\n",
      "emotion_neutral 0\n",
      "emotion_surprise 0\n",
      "emotion_anger 0\n",
      "emotion_boredom 0\n",
      "emotion_fear 0\n",
      "emotion_fun 0\n",
      "gaze_na 0\n",
      "gaze_complete_expl 0\n",
      "gaze_partial_expl 0\n",
      "gaze_poor_expl 0\n",
      "distraction_na 0\n",
      "distraction_no 0\n",
      "distraction_reduced_attention 0\n",
      "distraction_speaking 0\n",
      "max_speed 0\n",
      "avg_speed 0\n",
      "std_speed 0\n",
      "yaw 0\n",
      "yaw_rate 0\n",
      "roll 0\n",
      "roll_rate 0\n",
      "pitch 0\n",
      "pitch_rate 0\n",
      "lat_acce 0\n",
      "long_acce 0\n",
      "vert_acce 0\n",
      "avg_acce_pedal_pos 0\n",
      "std_acce_pedal_pos 0\n",
      "avg_steer_angle 0\n",
      "std_steer_angle 0\n",
      "hr 77\n",
      "hrv_lf 77\n",
      "hrv_hf 77\n",
      "hrv_lfhf_ratio 77\n",
      "gsr_tonic 77\n",
      "gsr_phasic 77\n",
      "gsr_peaks 77\n",
      "EBRmean 77\n",
      "BDmean 77\n",
      "ThetaFrontal 77\n",
      "ThetaParietal 77\n",
      "AlphaFrontal 77\n",
      "AlphaParietal 77\n",
      "LowerAlphaFrontal 77\n",
      "LowerAlphaParietal 77\n",
      "UpperAlphaFrontal 77\n",
      "UpperAlphaParietal 77\n",
      "BetaFrontal 77\n",
      "BetaParietal 77\n",
      "LowerBetaFrontal 77\n",
      "LowerBetaParietal 77\n",
      "UpperBetaFrontal 77\n",
      "UpperBetaParietal 77\n"
     ]
    }
   ],
   "source": [
    "for col in real_data_nulls_filled.columns:\n",
    "    print(col, real_data[col].isnull().sum())"
   ]
  },
  {
   "cell_type": "code",
   "execution_count": 266,
   "id": "e68c213d-cacc-4da6-8b67-a7d6447bcea1",
   "metadata": {},
   "outputs": [
    {
     "name": "stdout",
     "output_type": "stream",
     "text": [
      "subject 0\n",
      "lap 0\n",
      "start_time 0\n",
      "straight 0\n",
      "roundabout_entry 0\n",
      "roundabout_exit 0\n",
      "zebra_crossing 0\n",
      "left_turn 0\n",
      "u_turn 0\n",
      "bypass_dummy 0\n",
      "car 0\n",
      "pedestrian 0\n",
      "traffic_light 0\n",
      "narrow_road 0\n",
      "dummy 0\n",
      "bend 0\n",
      "habituation 0\n",
      "traffic 0\n",
      "hurry 0\n",
      "frustration 0\n",
      "surprise 0\n",
      "risk_outcome 0\n",
      "risk_source_env 0\n",
      "risk_source_other_usr 0\n",
      "risk_source_driver 0\n",
      "risk_source_crash 0\n",
      "risk_evaluation 0\n",
      "violation_no 0\n",
      "violation_roadside_invasion 0\n",
      "violation_give_the_way 0\n",
      "violation_road_signs 0\n",
      "violation_heavy_braking 0\n",
      "violation_roadside_exit 0\n",
      "violation_slowdown 0\n",
      "emotion_na 0\n",
      "emotion_neutral 0\n",
      "emotion_surprise 0\n",
      "emotion_anger 0\n",
      "emotion_boredom 0\n",
      "emotion_fear 0\n",
      "emotion_fun 0\n",
      "gaze_na 0\n",
      "gaze_complete_expl 0\n",
      "gaze_partial_expl 0\n",
      "gaze_poor_expl 0\n",
      "distraction_na 0\n",
      "distraction_no 0\n",
      "distraction_reduced_attention 0\n",
      "distraction_speaking 0\n",
      "max_speed 0\n",
      "avg_speed 0\n",
      "std_speed 0\n",
      "yaw 0\n",
      "yaw_rate 0\n",
      "roll 0\n",
      "roll_rate 0\n",
      "pitch 0\n",
      "pitch_rate 0\n",
      "lat_acce 0\n",
      "long_acce 0\n",
      "vert_acce 0\n",
      "avg_acce_pedal_pos 0\n",
      "std_acce_pedal_pos 0\n",
      "avg_steer_angle 0\n",
      "std_steer_angle 0\n",
      "hr 0\n",
      "hrv_lf 0\n",
      "hrv_hf 0\n",
      "hrv_lfhf_ratio 0\n",
      "gsr_tonic 0\n",
      "gsr_phasic 0\n",
      "gsr_peaks 0\n",
      "EBRmean 0\n",
      "BDmean 0\n",
      "ThetaFrontal 0\n",
      "ThetaParietal 0\n",
      "AlphaFrontal 0\n",
      "AlphaParietal 0\n",
      "LowerAlphaFrontal 0\n",
      "LowerAlphaParietal 0\n",
      "UpperAlphaFrontal 0\n",
      "UpperAlphaParietal 0\n",
      "BetaFrontal 0\n",
      "BetaParietal 0\n",
      "LowerBetaFrontal 0\n",
      "LowerBetaParietal 0\n",
      "UpperBetaFrontal 0\n",
      "UpperBetaParietal 0\n"
     ]
    }
   ],
   "source": [
    "sim_data_nulls_filled = fill_null_vals(sim_data)\n",
    "\n",
    "for col in sim_data_nulls_filled.columns:\n",
    "    print(col, sim_data_nulls_filled[col].isnull().sum())"
   ]
  },
  {
   "cell_type": "code",
   "execution_count": 267,
   "id": "c7cdae0d-d617-4600-b85b-3de69ea05a0c",
   "metadata": {},
   "outputs": [
    {
     "data": {
      "text/plain": [
       "subject\n",
       "0AC2A4    55\n",
       "13790E    55\n",
       "144282    66\n",
       "2268A5    77\n",
       "492488    77\n",
       "6B11F5    66\n",
       "8924EA    77\n",
       "92710E    55\n",
       "B410A4    66\n",
       "B570F8    77\n",
       "C1CE6B    77\n",
       "D4F190    44\n",
       "DCF930    55\n",
       "ED731A    77\n",
       "EDEB96    66\n",
       "F9D528    66\n",
       "dtype: int64"
      ]
     },
     "execution_count": 267,
     "metadata": {},
     "output_type": "execute_result"
    }
   ],
   "source": [
    "group_by_subject = real_data.groupby('subject')\n",
    "group_by_subject.size()"
   ]
  },
  {
   "cell_type": "code",
   "execution_count": 268,
   "id": "9530de86-d16e-4db2-b6a8-454cb38d15d6",
   "metadata": {},
   "outputs": [
    {
     "data": {
      "text/plain": [
       "array(['0AC2A4', '13790E', '144282', '2268A5', '6B11F5', '92710E',\n",
       "       'B410A4', 'B570F8', 'C1CE6B', 'D4F190', 'DCF930', 'ED731A',\n",
       "       'EDEB96', 'F9D528', '492488', '8924EA'], dtype=object)"
      ]
     },
     "execution_count": 268,
     "metadata": {},
     "output_type": "execute_result"
    }
   ],
   "source": [
    "real_data.subject.unique()"
   ]
  },
  {
   "cell_type": "code",
   "execution_count": 269,
   "id": "f7197549-ab3f-42d1-89b2-39b9223e0092",
   "metadata": {},
   "outputs": [
    {
     "name": "stdout",
     "output_type": "stream",
     "text": [
      "Groups with null values: ['B570F8']\n"
     ]
    }
   ],
   "source": [
    "group_has_null = real_data_nulls_filled.groupby('subject').apply(lambda x: x.isnull().any(axis=1).any())\n",
    "# Display groups that have null values\n",
    "groups_with_nulls = group_has_null[group_has_null].index.tolist()\n",
    "print(\"Groups with null values:\", groups_with_nulls)"
   ]
  },
  {
   "cell_type": "code",
   "execution_count": 270,
   "id": "8886ec1f-5dea-43df-ad9d-f2b52cffd71c",
   "metadata": {},
   "outputs": [
    {
     "data": {
      "text/plain": [
       "(979, 88)"
      ]
     },
     "execution_count": 270,
     "metadata": {},
     "output_type": "execute_result"
    }
   ],
   "source": [
    "# drop all rows with null values\n",
    "real_data_nulls_filled = real_data_nulls_filled.dropna()\n",
    "real_data_nulls_filled.shape"
   ]
  },
  {
   "cell_type": "code",
   "execution_count": 271,
   "id": "2723592f-b631-4e03-a565-825f70246712",
   "metadata": {},
   "outputs": [
    {
     "data": {
      "text/plain": [
       "(1287, 88)"
      ]
     },
     "execution_count": 271,
     "metadata": {},
     "output_type": "execute_result"
    }
   ],
   "source": [
    "# drop all rows with null values\n",
    "sim_data_nulls_filled = sim_data_nulls_filled.dropna()\n",
    "sim_data_nulls_filled.shape"
   ]
  },
  {
   "cell_type": "code",
   "execution_count": 272,
   "id": "be7dd36a-7e75-4d7f-813a-5e87eb3ee13f",
   "metadata": {},
   "outputs": [
    {
     "data": {
      "text/html": [
       "<div>\n",
       "<style scoped>\n",
       "    .dataframe tbody tr th:only-of-type {\n",
       "        vertical-align: middle;\n",
       "    }\n",
       "\n",
       "    .dataframe tbody tr th {\n",
       "        vertical-align: top;\n",
       "    }\n",
       "\n",
       "    .dataframe thead th {\n",
       "        text-align: right;\n",
       "    }\n",
       "</style>\n",
       "<table border=\"1\" class=\"dataframe\">\n",
       "  <thead>\n",
       "    <tr style=\"text-align: right;\">\n",
       "      <th></th>\n",
       "      <th>subject</th>\n",
       "      <th>lap</th>\n",
       "      <th>start_time</th>\n",
       "      <th>straight</th>\n",
       "      <th>roundabout_entry</th>\n",
       "      <th>roundabout_exit</th>\n",
       "      <th>zebra_crossing</th>\n",
       "      <th>left_turn</th>\n",
       "      <th>u_turn</th>\n",
       "      <th>bypass_dummy</th>\n",
       "      <th>...</th>\n",
       "      <th>LowerAlphaFrontal</th>\n",
       "      <th>LowerAlphaParietal</th>\n",
       "      <th>UpperAlphaFrontal</th>\n",
       "      <th>UpperAlphaParietal</th>\n",
       "      <th>BetaFrontal</th>\n",
       "      <th>BetaParietal</th>\n",
       "      <th>LowerBetaFrontal</th>\n",
       "      <th>LowerBetaParietal</th>\n",
       "      <th>UpperBetaFrontal</th>\n",
       "      <th>UpperBetaParietal</th>\n",
       "    </tr>\n",
       "  </thead>\n",
       "  <tbody>\n",
       "    <tr>\n",
       "      <th>440</th>\n",
       "      <td>B570F8</td>\n",
       "      <td>1</td>\n",
       "      <td>13</td>\n",
       "      <td>1</td>\n",
       "      <td>0</td>\n",
       "      <td>0</td>\n",
       "      <td>1</td>\n",
       "      <td>0</td>\n",
       "      <td>0</td>\n",
       "      <td>0</td>\n",
       "      <td>...</td>\n",
       "      <td>NaN</td>\n",
       "      <td>NaN</td>\n",
       "      <td>NaN</td>\n",
       "      <td>NaN</td>\n",
       "      <td>NaN</td>\n",
       "      <td>NaN</td>\n",
       "      <td>NaN</td>\n",
       "      <td>NaN</td>\n",
       "      <td>NaN</td>\n",
       "      <td>NaN</td>\n",
       "    </tr>\n",
       "    <tr>\n",
       "      <th>441</th>\n",
       "      <td>B570F8</td>\n",
       "      <td>1</td>\n",
       "      <td>30</td>\n",
       "      <td>0</td>\n",
       "      <td>1</td>\n",
       "      <td>0</td>\n",
       "      <td>1</td>\n",
       "      <td>0</td>\n",
       "      <td>0</td>\n",
       "      <td>0</td>\n",
       "      <td>...</td>\n",
       "      <td>NaN</td>\n",
       "      <td>NaN</td>\n",
       "      <td>NaN</td>\n",
       "      <td>NaN</td>\n",
       "      <td>NaN</td>\n",
       "      <td>NaN</td>\n",
       "      <td>NaN</td>\n",
       "      <td>NaN</td>\n",
       "      <td>NaN</td>\n",
       "      <td>NaN</td>\n",
       "    </tr>\n",
       "    <tr>\n",
       "      <th>442</th>\n",
       "      <td>B570F8</td>\n",
       "      <td>1</td>\n",
       "      <td>38</td>\n",
       "      <td>0</td>\n",
       "      <td>0</td>\n",
       "      <td>1</td>\n",
       "      <td>1</td>\n",
       "      <td>0</td>\n",
       "      <td>0</td>\n",
       "      <td>0</td>\n",
       "      <td>...</td>\n",
       "      <td>NaN</td>\n",
       "      <td>NaN</td>\n",
       "      <td>NaN</td>\n",
       "      <td>NaN</td>\n",
       "      <td>NaN</td>\n",
       "      <td>NaN</td>\n",
       "      <td>NaN</td>\n",
       "      <td>NaN</td>\n",
       "      <td>NaN</td>\n",
       "      <td>NaN</td>\n",
       "    </tr>\n",
       "    <tr>\n",
       "      <th>443</th>\n",
       "      <td>B570F8</td>\n",
       "      <td>1</td>\n",
       "      <td>43</td>\n",
       "      <td>1</td>\n",
       "      <td>0</td>\n",
       "      <td>0</td>\n",
       "      <td>0</td>\n",
       "      <td>0</td>\n",
       "      <td>0</td>\n",
       "      <td>0</td>\n",
       "      <td>...</td>\n",
       "      <td>NaN</td>\n",
       "      <td>NaN</td>\n",
       "      <td>NaN</td>\n",
       "      <td>NaN</td>\n",
       "      <td>NaN</td>\n",
       "      <td>NaN</td>\n",
       "      <td>NaN</td>\n",
       "      <td>NaN</td>\n",
       "      <td>NaN</td>\n",
       "      <td>NaN</td>\n",
       "    </tr>\n",
       "    <tr>\n",
       "      <th>444</th>\n",
       "      <td>B570F8</td>\n",
       "      <td>1</td>\n",
       "      <td>60</td>\n",
       "      <td>1</td>\n",
       "      <td>0</td>\n",
       "      <td>0</td>\n",
       "      <td>0</td>\n",
       "      <td>0</td>\n",
       "      <td>1</td>\n",
       "      <td>0</td>\n",
       "      <td>...</td>\n",
       "      <td>NaN</td>\n",
       "      <td>NaN</td>\n",
       "      <td>NaN</td>\n",
       "      <td>NaN</td>\n",
       "      <td>NaN</td>\n",
       "      <td>NaN</td>\n",
       "      <td>NaN</td>\n",
       "      <td>NaN</td>\n",
       "      <td>NaN</td>\n",
       "      <td>NaN</td>\n",
       "    </tr>\n",
       "    <tr>\n",
       "      <th>...</th>\n",
       "      <td>...</td>\n",
       "      <td>...</td>\n",
       "      <td>...</td>\n",
       "      <td>...</td>\n",
       "      <td>...</td>\n",
       "      <td>...</td>\n",
       "      <td>...</td>\n",
       "      <td>...</td>\n",
       "      <td>...</td>\n",
       "      <td>...</td>\n",
       "      <td>...</td>\n",
       "      <td>...</td>\n",
       "      <td>...</td>\n",
       "      <td>...</td>\n",
       "      <td>...</td>\n",
       "      <td>...</td>\n",
       "      <td>...</td>\n",
       "      <td>...</td>\n",
       "      <td>...</td>\n",
       "      <td>...</td>\n",
       "      <td>...</td>\n",
       "    </tr>\n",
       "    <tr>\n",
       "      <th>512</th>\n",
       "      <td>B570F8</td>\n",
       "      <td>7</td>\n",
       "      <td>109</td>\n",
       "      <td>0</td>\n",
       "      <td>1</td>\n",
       "      <td>0</td>\n",
       "      <td>1</td>\n",
       "      <td>0</td>\n",
       "      <td>0</td>\n",
       "      <td>0</td>\n",
       "      <td>...</td>\n",
       "      <td>NaN</td>\n",
       "      <td>NaN</td>\n",
       "      <td>NaN</td>\n",
       "      <td>NaN</td>\n",
       "      <td>NaN</td>\n",
       "      <td>NaN</td>\n",
       "      <td>NaN</td>\n",
       "      <td>NaN</td>\n",
       "      <td>NaN</td>\n",
       "      <td>NaN</td>\n",
       "    </tr>\n",
       "    <tr>\n",
       "      <th>513</th>\n",
       "      <td>B570F8</td>\n",
       "      <td>7</td>\n",
       "      <td>118</td>\n",
       "      <td>0</td>\n",
       "      <td>0</td>\n",
       "      <td>1</td>\n",
       "      <td>1</td>\n",
       "      <td>0</td>\n",
       "      <td>0</td>\n",
       "      <td>0</td>\n",
       "      <td>...</td>\n",
       "      <td>NaN</td>\n",
       "      <td>NaN</td>\n",
       "      <td>NaN</td>\n",
       "      <td>NaN</td>\n",
       "      <td>NaN</td>\n",
       "      <td>NaN</td>\n",
       "      <td>NaN</td>\n",
       "      <td>NaN</td>\n",
       "      <td>NaN</td>\n",
       "      <td>NaN</td>\n",
       "    </tr>\n",
       "    <tr>\n",
       "      <th>514</th>\n",
       "      <td>B570F8</td>\n",
       "      <td>7</td>\n",
       "      <td>120</td>\n",
       "      <td>0</td>\n",
       "      <td>0</td>\n",
       "      <td>0</td>\n",
       "      <td>0</td>\n",
       "      <td>1</td>\n",
       "      <td>0</td>\n",
       "      <td>0</td>\n",
       "      <td>...</td>\n",
       "      <td>NaN</td>\n",
       "      <td>NaN</td>\n",
       "      <td>NaN</td>\n",
       "      <td>NaN</td>\n",
       "      <td>NaN</td>\n",
       "      <td>NaN</td>\n",
       "      <td>NaN</td>\n",
       "      <td>NaN</td>\n",
       "      <td>NaN</td>\n",
       "      <td>NaN</td>\n",
       "    </tr>\n",
       "    <tr>\n",
       "      <th>515</th>\n",
       "      <td>B570F8</td>\n",
       "      <td>7</td>\n",
       "      <td>136</td>\n",
       "      <td>1</td>\n",
       "      <td>0</td>\n",
       "      <td>0</td>\n",
       "      <td>1</td>\n",
       "      <td>0</td>\n",
       "      <td>0</td>\n",
       "      <td>0</td>\n",
       "      <td>...</td>\n",
       "      <td>NaN</td>\n",
       "      <td>NaN</td>\n",
       "      <td>NaN</td>\n",
       "      <td>NaN</td>\n",
       "      <td>NaN</td>\n",
       "      <td>NaN</td>\n",
       "      <td>NaN</td>\n",
       "      <td>NaN</td>\n",
       "      <td>NaN</td>\n",
       "      <td>NaN</td>\n",
       "    </tr>\n",
       "    <tr>\n",
       "      <th>516</th>\n",
       "      <td>B570F8</td>\n",
       "      <td>7</td>\n",
       "      <td>144</td>\n",
       "      <td>0</td>\n",
       "      <td>0</td>\n",
       "      <td>0</td>\n",
       "      <td>0</td>\n",
       "      <td>0</td>\n",
       "      <td>0</td>\n",
       "      <td>0</td>\n",
       "      <td>...</td>\n",
       "      <td>NaN</td>\n",
       "      <td>NaN</td>\n",
       "      <td>NaN</td>\n",
       "      <td>NaN</td>\n",
       "      <td>NaN</td>\n",
       "      <td>NaN</td>\n",
       "      <td>NaN</td>\n",
       "      <td>NaN</td>\n",
       "      <td>NaN</td>\n",
       "      <td>NaN</td>\n",
       "    </tr>\n",
       "  </tbody>\n",
       "</table>\n",
       "<p>77 rows × 88 columns</p>\n",
       "</div>"
      ],
      "text/plain": [
       "    subject  lap  start_time  straight  roundabout_entry  roundabout_exit  \\\n",
       "440  B570F8    1          13         1                 0                0   \n",
       "441  B570F8    1          30         0                 1                0   \n",
       "442  B570F8    1          38         0                 0                1   \n",
       "443  B570F8    1          43         1                 0                0   \n",
       "444  B570F8    1          60         1                 0                0   \n",
       "..      ...  ...         ...       ...               ...              ...   \n",
       "512  B570F8    7         109         0                 1                0   \n",
       "513  B570F8    7         118         0                 0                1   \n",
       "514  B570F8    7         120         0                 0                0   \n",
       "515  B570F8    7         136         1                 0                0   \n",
       "516  B570F8    7         144         0                 0                0   \n",
       "\n",
       "     zebra_crossing  left_turn  u_turn  bypass_dummy  ...  LowerAlphaFrontal  \\\n",
       "440               1          0       0             0  ...                NaN   \n",
       "441               1          0       0             0  ...                NaN   \n",
       "442               1          0       0             0  ...                NaN   \n",
       "443               0          0       0             0  ...                NaN   \n",
       "444               0          0       1             0  ...                NaN   \n",
       "..              ...        ...     ...           ...  ...                ...   \n",
       "512               1          0       0             0  ...                NaN   \n",
       "513               1          0       0             0  ...                NaN   \n",
       "514               0          1       0             0  ...                NaN   \n",
       "515               1          0       0             0  ...                NaN   \n",
       "516               0          0       0             0  ...                NaN   \n",
       "\n",
       "     LowerAlphaParietal  UpperAlphaFrontal  UpperAlphaParietal  BetaFrontal  \\\n",
       "440                 NaN                NaN                 NaN          NaN   \n",
       "441                 NaN                NaN                 NaN          NaN   \n",
       "442                 NaN                NaN                 NaN          NaN   \n",
       "443                 NaN                NaN                 NaN          NaN   \n",
       "444                 NaN                NaN                 NaN          NaN   \n",
       "..                  ...                ...                 ...          ...   \n",
       "512                 NaN                NaN                 NaN          NaN   \n",
       "513                 NaN                NaN                 NaN          NaN   \n",
       "514                 NaN                NaN                 NaN          NaN   \n",
       "515                 NaN                NaN                 NaN          NaN   \n",
       "516                 NaN                NaN                 NaN          NaN   \n",
       "\n",
       "     BetaParietal  LowerBetaFrontal  LowerBetaParietal  UpperBetaFrontal  \\\n",
       "440           NaN               NaN                NaN               NaN   \n",
       "441           NaN               NaN                NaN               NaN   \n",
       "442           NaN               NaN                NaN               NaN   \n",
       "443           NaN               NaN                NaN               NaN   \n",
       "444           NaN               NaN                NaN               NaN   \n",
       "..            ...               ...                ...               ...   \n",
       "512           NaN               NaN                NaN               NaN   \n",
       "513           NaN               NaN                NaN               NaN   \n",
       "514           NaN               NaN                NaN               NaN   \n",
       "515           NaN               NaN                NaN               NaN   \n",
       "516           NaN               NaN                NaN               NaN   \n",
       "\n",
       "     UpperBetaParietal  \n",
       "440                NaN  \n",
       "441                NaN  \n",
       "442                NaN  \n",
       "443                NaN  \n",
       "444                NaN  \n",
       "..                 ...  \n",
       "512                NaN  \n",
       "513                NaN  \n",
       "514                NaN  \n",
       "515                NaN  \n",
       "516                NaN  \n",
       "\n",
       "[77 rows x 88 columns]"
      ]
     },
     "execution_count": 272,
     "metadata": {},
     "output_type": "execute_result"
    }
   ],
   "source": [
    "filtered_rows = real_data[real_data[\"subject\"] == \"B570F8\"]\n",
    "filtered_rows"
   ]
  },
  {
   "cell_type": "code",
   "execution_count": 273,
   "id": "f4a9b3f1-8169-462c-9f05-b2be049f7c2b",
   "metadata": {},
   "outputs": [
    {
     "data": {
      "text/plain": [
       "(1287, 88)"
      ]
     },
     "execution_count": 273,
     "metadata": {},
     "output_type": "execute_result"
    }
   ],
   "source": [
    "sim_data.shape"
   ]
  },
  {
   "cell_type": "code",
   "execution_count": 274,
   "id": "e5c9258c-bf8f-4b8b-94dd-e6e4e6fda632",
   "metadata": {},
   "outputs": [
    {
     "name": "stdout",
     "output_type": "stream",
     "text": [
      "Groups with null values: []\n"
     ]
    }
   ],
   "source": [
    "group_has_null = sim_data_nulls_filled.groupby('subject').apply(lambda x: x.isnull().any(axis=1).any())\n",
    "# Display groups that have null values\n",
    "groups_with_nulls = group_has_null[group_has_null].index.tolist()\n",
    "print(\"Groups with null values:\", groups_with_nulls)"
   ]
  },
  {
   "cell_type": "code",
   "execution_count": null,
   "id": "215f6b3a-863a-4f6e-afa7-9fe69369d3b3",
   "metadata": {},
   "outputs": [],
   "source": []
  },
  {
   "cell_type": "code",
   "execution_count": 275,
   "id": "9a3489e7-1146-4837-9727-4a9ce68ccb09",
   "metadata": {},
   "outputs": [],
   "source": [
    "# Features to train model on\n",
    "selected_cols = [\n",
    "    'lap',\n",
    "    'start_time',\n",
    "    'straight',\n",
    "    'roundabout_entry',\n",
    "    'roundabout_exit',\n",
    "    'zebra_crossing',\n",
    "    'left_turn',\n",
    "    'u_turn',\n",
    "    'bypass_dummy',\n",
    "    'car',\n",
    "    'pedestrian',\n",
    "    'traffic_light',\n",
    "    'narrow_road',\n",
    "    'dummy',\n",
    "    'bend',\n",
    "    'habituation',\n",
    "    'traffic',\n",
    "    'hurry',\n",
    "    'frustration',\n",
    "    'surprise',\n",
    "    'risk_outcome',\n",
    "    'risk_source_env',\n",
    "    'risk_source_other_usr',\n",
    "    'risk_source_driver',\n",
    "    'risk_source_crash',\n",
    "    'violation_roadside_invasion',\n",
    "    'violation_give_the_way',\n",
    "    'violation_road_signs',\n",
    "    'violation_heavy_braking',\n",
    "    'violation_roadside_exit',\n",
    "    'violation_slowdown',\n",
    "    'emotion_na',\n",
    "    'emotion_neutral',\n",
    "    'emotion_surprise',\n",
    "    'emotion_anger',\n",
    "    'emotion_boredom',\n",
    "    'emotion_fear',\n",
    "    'gaze_na',\n",
    "    'gaze_complete_expl',\n",
    "    'gaze_partial_expl',\n",
    "    'gaze_poor_expl',\n",
    "    'distraction_na',\n",
    "    'distraction_no',\n",
    "    'distraction_reduced_attention',\n",
    "    'max_speed',\n",
    "    'avg_speed',\n",
    "    'std_speed',\n",
    "    'yaw',\n",
    "    'yaw_rate',\n",
    "    'roll',\n",
    "    'roll_rate',\n",
    "    'pitch',\n",
    "    'pitch_rate',\n",
    "    'long_acce',\n",
    "    'vert_acce',\n",
    "    'avg_acce_pedal_pos',\n",
    "    'std_acce_pedal_pos',\n",
    "    'std_steer_angle'\n",
    "]"
   ]
  },
  {
   "cell_type": "code",
   "execution_count": 276,
   "id": "9468e9c0-ffa7-4b5e-90a8-874a3af2f806",
   "metadata": {},
   "outputs": [
    {
     "name": "stderr",
     "output_type": "stream",
     "text": [
      "C:\\Users\\abdul\\AppData\\Local\\Temp\\ipykernel_35684\\3289618982.py:1: SettingWithCopyWarning: \n",
      "A value is trying to be set on a copy of a slice from a DataFrame\n",
      "\n",
      "See the caveats in the documentation: https://pandas.pydata.org/pandas-docs/stable/user_guide/indexing.html#returning-a-view-versus-a-copy\n",
      "  real_data_nulls_filled.drop(['subject'], axis=1, inplace=True)\n"
     ]
    }
   ],
   "source": [
    "real_data_nulls_filled.drop(['subject'], axis=1, inplace=True)"
   ]
  },
  {
   "cell_type": "code",
   "execution_count": 277,
   "id": "14f45013-abe7-4e18-84c9-93a2b056ecdd",
   "metadata": {},
   "outputs": [],
   "source": [
    "# Calculate the correlation matrix\n",
    "corr_matrix = real_data_nulls_filled.corr()\n",
    "\n",
    "# Initialize a list to store pairs of highly correlated features\n",
    "highly_correlated_features = []\n",
    "\n",
    "# Iterate over the correlation matrix\n",
    "for i in range(len(corr_matrix.columns)):\n",
    "    for j in range(i+1, len(corr_matrix.columns)): # Avoid repeating pairs and self-correlation\n",
    "        if np.abs(corr_matrix.iloc[i, j]) >= 0.8:\n",
    "            # If absolute correlation is 0.8 or more, add the pair to the list\n",
    "            highly_correlated_features.append((corr_matrix.columns[i], corr_matrix.columns[j]))"
   ]
  },
  {
   "cell_type": "code",
   "execution_count": 278,
   "id": "abd99f46-c576-48f8-b6a6-f8d145c54e00",
   "metadata": {},
   "outputs": [
    {
     "data": {
      "text/plain": [
       "[('risk_source_driver', 'risk_evaluation'),\n",
       " ('risk_source_driver', 'violation_no'),\n",
       " ('risk_evaluation', 'violation_no'),\n",
       " ('emotion_neutral', 'emotion_fun'),\n",
       " ('distraction_no', 'distraction_speaking'),\n",
       " ('max_speed', 'avg_speed'),\n",
       " ('yaw', 'lat_acce'),\n",
       " ('yaw', 'avg_steer_angle'),\n",
       " ('lat_acce', 'avg_steer_angle'),\n",
       " ('gsr_tonic', 'gsr_phasic'),\n",
       " ('gsr_tonic', 'gsr_peaks'),\n",
       " ('gsr_phasic', 'gsr_peaks'),\n",
       " ('ThetaFrontal', 'ThetaParietal'),\n",
       " ('ThetaFrontal', 'AlphaFrontal'),\n",
       " ('ThetaFrontal', 'AlphaParietal'),\n",
       " ('ThetaFrontal', 'LowerAlphaFrontal'),\n",
       " ('ThetaFrontal', 'LowerAlphaParietal'),\n",
       " ('ThetaParietal', 'AlphaParietal'),\n",
       " ('ThetaParietal', 'LowerAlphaParietal'),\n",
       " ('AlphaFrontal', 'AlphaParietal'),\n",
       " ('AlphaFrontal', 'LowerAlphaFrontal'),\n",
       " ('AlphaFrontal', 'LowerAlphaParietal'),\n",
       " ('AlphaFrontal', 'UpperAlphaFrontal'),\n",
       " ('AlphaFrontal', 'UpperAlphaParietal'),\n",
       " ('AlphaParietal', 'LowerAlphaFrontal'),\n",
       " ('AlphaParietal', 'LowerAlphaParietal'),\n",
       " ('AlphaParietal', 'UpperAlphaFrontal'),\n",
       " ('AlphaParietal', 'UpperAlphaParietal'),\n",
       " ('LowerAlphaFrontal', 'LowerAlphaParietal'),\n",
       " ('LowerAlphaFrontal', 'UpperAlphaFrontal'),\n",
       " ('LowerAlphaFrontal', 'UpperAlphaParietal'),\n",
       " ('LowerAlphaParietal', 'UpperAlphaParietal'),\n",
       " ('UpperAlphaFrontal', 'UpperAlphaParietal'),\n",
       " ('UpperAlphaParietal', 'LowerBetaParietal'),\n",
       " ('BetaFrontal', 'BetaParietal'),\n",
       " ('BetaFrontal', 'LowerBetaFrontal'),\n",
       " ('BetaFrontal', 'LowerBetaParietal'),\n",
       " ('BetaFrontal', 'UpperBetaFrontal'),\n",
       " ('BetaFrontal', 'UpperBetaParietal'),\n",
       " ('BetaParietal', 'LowerBetaFrontal'),\n",
       " ('BetaParietal', 'LowerBetaParietal'),\n",
       " ('BetaParietal', 'UpperBetaFrontal'),\n",
       " ('BetaParietal', 'UpperBetaParietal'),\n",
       " ('LowerBetaFrontal', 'LowerBetaParietal'),\n",
       " ('LowerBetaFrontal', 'UpperBetaFrontal'),\n",
       " ('LowerBetaFrontal', 'UpperBetaParietal'),\n",
       " ('LowerBetaParietal', 'UpperBetaParietal'),\n",
       " ('UpperBetaFrontal', 'UpperBetaParietal')]"
      ]
     },
     "execution_count": 278,
     "metadata": {},
     "output_type": "execute_result"
    }
   ],
   "source": [
    "highly_correlated_features"
   ]
  },
  {
   "cell_type": "code",
   "execution_count": 279,
   "id": "66be785d-38c1-4bc1-9459-8d6590374058",
   "metadata": {},
   "outputs": [
    {
     "data": {
      "text/plain": [
       "(979, 58)"
      ]
     },
     "execution_count": 279,
     "metadata": {},
     "output_type": "execute_result"
    }
   ],
   "source": [
    "r_data = real_data_nulls_filled[selected_cols]\n",
    "r_data.shape"
   ]
  },
  {
   "cell_type": "code",
   "execution_count": 280,
   "id": "2c359147-90c4-441d-8c01-189f59dad767",
   "metadata": {},
   "outputs": [],
   "source": [
    "X = r_data.drop(['frustration'], axis=1)\n",
    "y = r_data['frustration']"
   ]
  },
  {
   "cell_type": "code",
   "execution_count": 281,
   "id": "8ec987ee-e13a-4868-a44d-1b160fd113e8",
   "metadata": {},
   "outputs": [],
   "source": [
    "target = y.map({1: 1, 2: 0})"
   ]
  },
  {
   "cell_type": "code",
   "execution_count": 282,
   "id": "f71f0240-6a39-4076-97e2-41eb0b948ec5",
   "metadata": {},
   "outputs": [],
   "source": [
    "X_train, X_test, y_train, y_test = train_test_split(X, target, stratify=target, test_size=0.2, random_state=42)"
   ]
  },
  {
   "cell_type": "code",
   "execution_count": 283,
   "id": "5278012b-9ab5-452c-a1f0-dd445f4ff8e7",
   "metadata": {},
   "outputs": [],
   "source": [
    "xgb_clf = XGBClassifier(eval_metric='logloss')"
   ]
  },
  {
   "cell_type": "code",
   "execution_count": 284,
   "id": "6dab57db-eaf0-4c37-89bb-bebd8b1ad659",
   "metadata": {},
   "outputs": [],
   "source": [
    "# Perform 5-fold cross-validation\n",
    "cv_scores = cross_val_score(xgb_clf, X_train, y_train, cv=5)"
   ]
  },
  {
   "cell_type": "code",
   "execution_count": 285,
   "id": "526ef4d5-3358-4295-9555-a443aeaf9a9b",
   "metadata": {},
   "outputs": [
    {
     "data": {
      "text/html": [
       "<style>#sk-container-id-9 {color: black;}#sk-container-id-9 pre{padding: 0;}#sk-container-id-9 div.sk-toggleable {background-color: white;}#sk-container-id-9 label.sk-toggleable__label {cursor: pointer;display: block;width: 100%;margin-bottom: 0;padding: 0.3em;box-sizing: border-box;text-align: center;}#sk-container-id-9 label.sk-toggleable__label-arrow:before {content: \"▸\";float: left;margin-right: 0.25em;color: #696969;}#sk-container-id-9 label.sk-toggleable__label-arrow:hover:before {color: black;}#sk-container-id-9 div.sk-estimator:hover label.sk-toggleable__label-arrow:before {color: black;}#sk-container-id-9 div.sk-toggleable__content {max-height: 0;max-width: 0;overflow: hidden;text-align: left;background-color: #f0f8ff;}#sk-container-id-9 div.sk-toggleable__content pre {margin: 0.2em;color: black;border-radius: 0.25em;background-color: #f0f8ff;}#sk-container-id-9 input.sk-toggleable__control:checked~div.sk-toggleable__content {max-height: 200px;max-width: 100%;overflow: auto;}#sk-container-id-9 input.sk-toggleable__control:checked~label.sk-toggleable__label-arrow:before {content: \"▾\";}#sk-container-id-9 div.sk-estimator input.sk-toggleable__control:checked~label.sk-toggleable__label {background-color: #d4ebff;}#sk-container-id-9 div.sk-label input.sk-toggleable__control:checked~label.sk-toggleable__label {background-color: #d4ebff;}#sk-container-id-9 input.sk-hidden--visually {border: 0;clip: rect(1px 1px 1px 1px);clip: rect(1px, 1px, 1px, 1px);height: 1px;margin: -1px;overflow: hidden;padding: 0;position: absolute;width: 1px;}#sk-container-id-9 div.sk-estimator {font-family: monospace;background-color: #f0f8ff;border: 1px dotted black;border-radius: 0.25em;box-sizing: border-box;margin-bottom: 0.5em;}#sk-container-id-9 div.sk-estimator:hover {background-color: #d4ebff;}#sk-container-id-9 div.sk-parallel-item::after {content: \"\";width: 100%;border-bottom: 1px solid gray;flex-grow: 1;}#sk-container-id-9 div.sk-label:hover label.sk-toggleable__label {background-color: #d4ebff;}#sk-container-id-9 div.sk-serial::before {content: \"\";position: absolute;border-left: 1px solid gray;box-sizing: border-box;top: 0;bottom: 0;left: 50%;z-index: 0;}#sk-container-id-9 div.sk-serial {display: flex;flex-direction: column;align-items: center;background-color: white;padding-right: 0.2em;padding-left: 0.2em;position: relative;}#sk-container-id-9 div.sk-item {position: relative;z-index: 1;}#sk-container-id-9 div.sk-parallel {display: flex;align-items: stretch;justify-content: center;background-color: white;position: relative;}#sk-container-id-9 div.sk-item::before, #sk-container-id-9 div.sk-parallel-item::before {content: \"\";position: absolute;border-left: 1px solid gray;box-sizing: border-box;top: 0;bottom: 0;left: 50%;z-index: -1;}#sk-container-id-9 div.sk-parallel-item {display: flex;flex-direction: column;z-index: 1;position: relative;background-color: white;}#sk-container-id-9 div.sk-parallel-item:first-child::after {align-self: flex-end;width: 50%;}#sk-container-id-9 div.sk-parallel-item:last-child::after {align-self: flex-start;width: 50%;}#sk-container-id-9 div.sk-parallel-item:only-child::after {width: 0;}#sk-container-id-9 div.sk-dashed-wrapped {border: 1px dashed gray;margin: 0 0.4em 0.5em 0.4em;box-sizing: border-box;padding-bottom: 0.4em;background-color: white;}#sk-container-id-9 div.sk-label label {font-family: monospace;font-weight: bold;display: inline-block;line-height: 1.2em;}#sk-container-id-9 div.sk-label-container {text-align: center;}#sk-container-id-9 div.sk-container {/* jupyter's `normalize.less` sets `[hidden] { display: none; }` but bootstrap.min.css set `[hidden] { display: none !important; }` so we also need the `!important` here to be able to override the default hidden behavior on the sphinx rendered scikit-learn.org. See: https://github.com/scikit-learn/scikit-learn/issues/21755 */display: inline-block !important;position: relative;}#sk-container-id-9 div.sk-text-repr-fallback {display: none;}</style><div id=\"sk-container-id-9\" class=\"sk-top-container\"><div class=\"sk-text-repr-fallback\"><pre>XGBClassifier(base_score=None, booster=None, callbacks=None,\n",
       "              colsample_bylevel=None, colsample_bynode=None,\n",
       "              colsample_bytree=None, early_stopping_rounds=None,\n",
       "              enable_categorical=False, eval_metric=&#x27;logloss&#x27;,\n",
       "              feature_types=None, gamma=None, gpu_id=None, grow_policy=None,\n",
       "              importance_type=None, interaction_constraints=None,\n",
       "              learning_rate=None, max_bin=None, max_cat_threshold=None,\n",
       "              max_cat_to_onehot=None, max_delta_step=None, max_depth=None,\n",
       "              max_leaves=None, min_child_weight=None, missing=nan,\n",
       "              monotone_constraints=None, n_estimators=100, n_jobs=None,\n",
       "              num_parallel_tree=None, predictor=None, random_state=None, ...)</pre><b>In a Jupyter environment, please rerun this cell to show the HTML representation or trust the notebook. <br />On GitHub, the HTML representation is unable to render, please try loading this page with nbviewer.org.</b></div><div class=\"sk-container\" hidden><div class=\"sk-item\"><div class=\"sk-estimator sk-toggleable\"><input class=\"sk-toggleable__control sk-hidden--visually\" id=\"sk-estimator-id-9\" type=\"checkbox\" checked><label for=\"sk-estimator-id-9\" class=\"sk-toggleable__label sk-toggleable__label-arrow\">XGBClassifier</label><div class=\"sk-toggleable__content\"><pre>XGBClassifier(base_score=None, booster=None, callbacks=None,\n",
       "              colsample_bylevel=None, colsample_bynode=None,\n",
       "              colsample_bytree=None, early_stopping_rounds=None,\n",
       "              enable_categorical=False, eval_metric=&#x27;logloss&#x27;,\n",
       "              feature_types=None, gamma=None, gpu_id=None, grow_policy=None,\n",
       "              importance_type=None, interaction_constraints=None,\n",
       "              learning_rate=None, max_bin=None, max_cat_threshold=None,\n",
       "              max_cat_to_onehot=None, max_delta_step=None, max_depth=None,\n",
       "              max_leaves=None, min_child_weight=None, missing=nan,\n",
       "              monotone_constraints=None, n_estimators=100, n_jobs=None,\n",
       "              num_parallel_tree=None, predictor=None, random_state=None, ...)</pre></div></div></div></div></div>"
      ],
      "text/plain": [
       "XGBClassifier(base_score=None, booster=None, callbacks=None,\n",
       "              colsample_bylevel=None, colsample_bynode=None,\n",
       "              colsample_bytree=None, early_stopping_rounds=None,\n",
       "              enable_categorical=False, eval_metric='logloss',\n",
       "              feature_types=None, gamma=None, gpu_id=None, grow_policy=None,\n",
       "              importance_type=None, interaction_constraints=None,\n",
       "              learning_rate=None, max_bin=None, max_cat_threshold=None,\n",
       "              max_cat_to_onehot=None, max_delta_step=None, max_depth=None,\n",
       "              max_leaves=None, min_child_weight=None, missing=nan,\n",
       "              monotone_constraints=None, n_estimators=100, n_jobs=None,\n",
       "              num_parallel_tree=None, predictor=None, random_state=None, ...)"
      ]
     },
     "execution_count": 285,
     "metadata": {},
     "output_type": "execute_result"
    }
   ],
   "source": [
    "xgb_clf.fit(X_train, y_train)"
   ]
  },
  {
   "cell_type": "code",
   "execution_count": 286,
   "id": "7611b7aa-a846-4c6f-97c4-02cc00428213",
   "metadata": {},
   "outputs": [],
   "source": [
    "# Print the accuracy for each fold\n",
    "# print(\"Accuracy scores for each fold:\")\n",
    "# print(cv_scores)"
   ]
  },
  {
   "cell_type": "code",
   "execution_count": 287,
   "id": "c890b603-78b6-4b50-95cd-0c8b37735375",
   "metadata": {},
   "outputs": [
    {
     "data": {
      "text/plain": [
       "array([3.5563970e-01, 3.9055413e-03, 1.2448957e-01, 0.0000000e+00,\n",
       "       0.0000000e+00, 1.6627231e-03, 0.0000000e+00, 0.0000000e+00,\n",
       "       0.0000000e+00, 0.0000000e+00, 0.0000000e+00, 6.9210358e-02,\n",
       "       0.0000000e+00, 0.0000000e+00, 0.0000000e+00, 0.0000000e+00,\n",
       "       1.5620936e-02, 3.8687527e-01, 0.0000000e+00, 1.2396635e-02,\n",
       "       0.0000000e+00, 0.0000000e+00, 0.0000000e+00, 0.0000000e+00,\n",
       "       0.0000000e+00, 0.0000000e+00, 0.0000000e+00, 0.0000000e+00,\n",
       "       0.0000000e+00, 0.0000000e+00, 0.0000000e+00, 0.0000000e+00,\n",
       "       0.0000000e+00, 0.0000000e+00, 0.0000000e+00, 0.0000000e+00,\n",
       "       0.0000000e+00, 0.0000000e+00, 0.0000000e+00, 0.0000000e+00,\n",
       "       0.0000000e+00, 0.0000000e+00, 0.0000000e+00, 2.3188314e-03,\n",
       "       1.2146109e-02, 0.0000000e+00, 5.7110487e-04, 2.7359842e-04,\n",
       "       0.0000000e+00, 7.4454851e-04, 1.2272372e-03, 0.0000000e+00,\n",
       "       4.5608607e-04, 0.0000000e+00, 2.5719078e-03, 7.3141628e-03,\n",
       "       2.5757111e-03], dtype=float32)"
      ]
     },
     "execution_count": 287,
     "metadata": {},
     "output_type": "execute_result"
    }
   ],
   "source": [
    "feature_importances = xgb_clf.feature_importances_\n",
    "feature_importances"
   ]
  },
  {
   "cell_type": "code",
   "execution_count": 288,
   "id": "a01e6a3e-f71e-4c6b-9d61-eddf93a42a27",
   "metadata": {},
   "outputs": [
    {
     "data": {
      "text/plain": [
       "<Figure size 1000x500 with 0 Axes>"
      ]
     },
     "metadata": {},
     "output_type": "display_data"
    },
    {
     "data": {
      "image/png": "[encoded data removed]",
      "text/plain": [
       "<Figure size 640x480 with 1 Axes>"
      ]
     },
     "metadata": {},
     "output_type": "display_data"
    }
   ],
   "source": [
    "# Plot feature importances\n",
    "plt.figure(figsize=(10, 5))\n",
    "plot_importance(xgb_clf, importance_type='weight', title='Feature Importance')\n",
    "plt.show()"
   ]
  },
  {
   "cell_type": "code",
   "execution_count": 289,
   "id": "e333d9f9-9f98-4b77-aed9-1e293bd25049",
   "metadata": {},
   "outputs": [],
   "source": [
    "preds = xgb_clf.predict(X_test)"
   ]
  },
  {
   "cell_type": "code",
   "execution_count": 290,
   "id": "1d9a5a96-9e7f-415a-873f-9846ffa5b786",
   "metadata": {},
   "outputs": [
    {
     "name": "stdout",
     "output_type": "stream",
     "text": [
      "              precision    recall  f1-score   support\n",
      "\n",
      "           0       1.00      1.00      1.00       163\n",
      "           1       1.00      1.00      1.00        33\n",
      "\n",
      "    accuracy                           1.00       196\n",
      "   macro avg       1.00      1.00      1.00       196\n",
      "weighted avg       1.00      1.00      1.00       196\n",
      "\n"
     ]
    }
   ],
   "source": [
    "print(classification_report(y_test, preds))"
   ]
  },
  {
   "cell_type": "code",
   "execution_count": 291,
   "id": "a0e5c61d-0cfb-4125-ab55-f9e6cc089a30",
   "metadata": {},
   "outputs": [],
   "source": [
    "from sklearn.metrics import classification_report, confusion_matrix, accuracy_score, balanced_accuracy_score\n",
    "from sklearn.linear_model import (\n",
    "    LogisticRegression,\n",
    "    SGDClassifier,\n",
    ")\n",
    "from sklearn.tree import  DecisionTreeClassifier\n",
    "from sklearn.neighbors import KNeighborsClassifier\n",
    "from sklearn.naive_bayes import (\n",
    "    BernoulliNB,\n",
    "    GaussianNB\n",
    ")\n",
    "from sklearn.ensemble import (\n",
    "    BaggingClassifier,\n",
    "    GradientBoostingClassifier,\n",
    "    RandomForestClassifier,\n",
    ")\n",
    "from sklearn.naive_bayes import (\n",
    "    GaussianNB,\n",
    "    MultinomialNB\n",
    ")\n",
    "from sklearn.neighbors import KNeighborsClassifier\n",
    "from sklearn.neural_network import MLPClassifier\n",
    "from sklearn.svm import SVC\n",
    "from sklearn.tree import DecisionTreeClassifier\n",
    "from sklearn.svm import LinearSVC\n",
    "from sklearn.discriminant_analysis import QuadraticDiscriminantAnalysis\n",
    "from sklearn.ensemble import AdaBoostClassifier, RandomForestClassifier\n",
    "from sklearn.gaussian_process import GaussianProcessClassifier\n",
    "from sklearn.gaussian_process.kernels import RBF\n"
   ]
  },
  {
   "cell_type": "code",
   "execution_count": 292,
   "id": "82164aa6-215f-4a86-bac8-7f681b6cd12f",
   "metadata": {},
   "outputs": [
    {
     "name": "stdout",
     "output_type": "stream",
     "text": [
      "              precision    recall  f1-score   support\n",
      "\n",
      "           0       1.00      1.00      1.00       163\n",
      "           1       1.00      1.00      1.00        33\n",
      "\n",
      "    accuracy                           1.00       196\n",
      "   macro avg       1.00      1.00      1.00       196\n",
      "weighted avg       1.00      1.00      1.00       196\n",
      "\n"
     ]
    }
   ],
   "source": [
    "print(classification_report(y_test, preds))"
   ]
  },
  {
   "cell_type": "code",
   "execution_count": 293,
   "id": "f2875fc6-b4ea-48be-9020-a6b372c9dae3",
   "metadata": {},
   "outputs": [
    {
     "name": "stdout",
     "output_type": "stream",
     "text": [
      "1.0\n"
     ]
    }
   ],
   "source": [
    "balanced_acc = balanced_accuracy_score(y_test, preds)\n",
    "print(balanced_acc)"
   ]
  },
  {
   "cell_type": "code",
   "execution_count": 294,
   "id": "58e1b1e6-6463-4dc3-9431-3f5b930facca",
   "metadata": {},
   "outputs": [
    {
     "data": {
      "text/plain": [
       "array([[163,   0],\n",
       "       [  0,  33]], dtype=int64)"
      ]
     },
     "execution_count": 294,
     "metadata": {},
     "output_type": "execute_result"
    }
   ],
   "source": [
    "confusion_matrix(y_test, preds)"
   ]
  },
  {
   "cell_type": "code",
   "execution_count": 295,
   "id": "49de0366-e5b9-452d-a826-c0b3ad6cc946",
   "metadata": {},
   "outputs": [],
   "source": [
    "models = {\n",
    "    'LogisticRegression':LogisticRegression(),\n",
    "    'BaggingClassifier': BaggingClassifier(),\n",
    "    'DecisionTreeClassifier': DecisionTreeClassifier(),\n",
    "    'LinearSVC':LinearSVC(),\n",
    "    'SGDClassifier':SGDClassifier(),\n",
    "    'KNeighborsClassifier':KNeighborsClassifier(),\n",
    "    'RandomForestClassifier':RandomForestClassifier(),\n",
    "    'GradientBoostingClassifier':GradientBoostingClassifier(),\n",
    "    \"SVC\":SVC(),\n",
    "    \"GaussianProcessClassifier\": GaussianProcessClassifier(),\n",
    "    \"MLPClassifier\": MLPClassifier(),\n",
    "    \"AdaBoostClassifier\": AdaBoostClassifier(),\n",
    "    \"GaussianNB\":GaussianNB(),\n",
    "    \"QuadraticDiscriminantAnalysis\":QuadraticDiscriminantAnalysis(),\n",
    "    \"XGBOOST\": XGBClassifier()\n",
    "}"
   ]
  },
  {
   "cell_type": "code",
   "execution_count": 296,
   "id": "a9010981-3922-4ec1-819a-8b0c7094022d",
   "metadata": {},
   "outputs": [],
   "source": [
    "performance = pd.DataFrame(columns=[\"Train Accuracy\",\"Test Accuracy\"], index=list(models.keys()))"
   ]
  },
  {
   "cell_type": "code",
   "execution_count": 297,
   "id": "cb6aa342-0cde-4205-b003-143eed1deed2",
   "metadata": {},
   "outputs": [
    {
     "name": "stderr",
     "output_type": "stream",
     "text": [
      "C:\\Users\\abdul\\AppData\\Roaming\\Python\\Python38\\site-packages\\sklearn\\linear_model\\_logistic.py:460: ConvergenceWarning: lbfgs failed to converge (status=1):\n",
      "STOP: TOTAL NO. of ITERATIONS REACHED LIMIT.\n",
      "\n",
      "Increase the number of iterations (max_iter) or scale the data as shown in:\n",
      "    https://scikit-learn.org/stable/modules/preprocessing.html\n",
      "Please also refer to the documentation for alternative solver options:\n",
      "    https://scikit-learn.org/stable/modules/linear_model.html#logistic-regression\n",
      "  n_iter_i = _check_optimize_result(\n",
      "C:\\Users\\abdul\\AppData\\Roaming\\Python\\Python38\\site-packages\\sklearn\\svm\\_classes.py:32: FutureWarning: The default value of `dual` will change from `True` to `'auto'` in 1.5. Set the value of `dual` explicitly to suppress the warning.\n",
      "  warnings.warn(\n",
      "C:\\Users\\abdul\\AppData\\Roaming\\Python\\Python38\\site-packages\\sklearn\\svm\\_base.py:1250: ConvergenceWarning: Liblinear failed to converge, increase the number of iterations.\n",
      "  warnings.warn(\n",
      "C:\\Users\\abdul\\AppData\\Roaming\\Python\\Python38\\site-packages\\sklearn\\neural_network\\_multilayer_perceptron.py:691: ConvergenceWarning: Stochastic Optimizer: Maximum iterations (200) reached and the optimization hasn't converged yet.\n",
      "  warnings.warn(\n",
      "C:\\Users\\abdul\\AppData\\Roaming\\Python\\Python38\\site-packages\\sklearn\\discriminant_analysis.py:935: UserWarning: Variables are collinear\n",
      "  warnings.warn(\"Variables are collinear\")\n"
     ]
    }
   ],
   "source": [
    "for name, model in models.items():\n",
    "    # Train the model\n",
    "    model.fit(X_train, y_train)\n",
    "\n",
    "    # Make predictions on the test set\n",
    "    y_train_pred = model.predict(X_train)\n",
    "    y_test_pred = model.predict(X_test)\n",
    "\n",
    "    # Calculate evaluation metrics\n",
    "    test_accuracy = accuracy_score(y_test, y_test_pred)\n",
    "    train_accuracy = accuracy_score(y_train, y_train_pred)\n",
    "\n",
    "    #Save Test and Training Accuracies\n",
    "    performance.loc[name, :] = [train_accuracy,test_accuracy]"
   ]
  },
  {
   "cell_type": "code",
   "execution_count": 298,
   "id": "22257112-eb39-41cd-91e5-2c15d1e0621b",
   "metadata": {},
   "outputs": [
    {
     "data": {
      "text/html": [
       "<div>\n",
       "<style scoped>\n",
       "    .dataframe tbody tr th:only-of-type {\n",
       "        vertical-align: middle;\n",
       "    }\n",
       "\n",
       "    .dataframe tbody tr th {\n",
       "        vertical-align: top;\n",
       "    }\n",
       "\n",
       "    .dataframe thead th {\n",
       "        text-align: right;\n",
       "    }\n",
       "</style>\n",
       "<table border=\"1\" class=\"dataframe\">\n",
       "  <thead>\n",
       "    <tr style=\"text-align: right;\">\n",
       "      <th></th>\n",
       "      <th>Train Accuracy</th>\n",
       "      <th>Test Accuracy</th>\n",
       "    </tr>\n",
       "  </thead>\n",
       "  <tbody>\n",
       "    <tr>\n",
       "      <th>DecisionTreeClassifier</th>\n",
       "      <td>1.0</td>\n",
       "      <td>1.0</td>\n",
       "    </tr>\n",
       "    <tr>\n",
       "      <th>GradientBoostingClassifier</th>\n",
       "      <td>1.0</td>\n",
       "      <td>1.0</td>\n",
       "    </tr>\n",
       "    <tr>\n",
       "      <th>AdaBoostClassifier</th>\n",
       "      <td>1.0</td>\n",
       "      <td>1.0</td>\n",
       "    </tr>\n",
       "    <tr>\n",
       "      <th>XGBOOST</th>\n",
       "      <td>1.0</td>\n",
       "      <td>1.0</td>\n",
       "    </tr>\n",
       "    <tr>\n",
       "      <th>BaggingClassifier</th>\n",
       "      <td>1.0</td>\n",
       "      <td>0.989796</td>\n",
       "    </tr>\n",
       "    <tr>\n",
       "      <th>RandomForestClassifier</th>\n",
       "      <td>1.0</td>\n",
       "      <td>0.979592</td>\n",
       "    </tr>\n",
       "    <tr>\n",
       "      <th>LogisticRegression</th>\n",
       "      <td>0.965517</td>\n",
       "      <td>0.969388</td>\n",
       "    </tr>\n",
       "    <tr>\n",
       "      <th>MLPClassifier</th>\n",
       "      <td>0.988506</td>\n",
       "      <td>0.964286</td>\n",
       "    </tr>\n",
       "    <tr>\n",
       "      <th>LinearSVC</th>\n",
       "      <td>0.969349</td>\n",
       "      <td>0.954082</td>\n",
       "    </tr>\n",
       "    <tr>\n",
       "      <th>QuadraticDiscriminantAnalysis</th>\n",
       "      <td>0.916986</td>\n",
       "      <td>0.908163</td>\n",
       "    </tr>\n",
       "    <tr>\n",
       "      <th>GaussianNB</th>\n",
       "      <td>0.922095</td>\n",
       "      <td>0.903061</td>\n",
       "    </tr>\n",
       "    <tr>\n",
       "      <th>SGDClassifier</th>\n",
       "      <td>0.863346</td>\n",
       "      <td>0.862245</td>\n",
       "    </tr>\n",
       "    <tr>\n",
       "      <th>KNeighborsClassifier</th>\n",
       "      <td>0.88378</td>\n",
       "      <td>0.836735</td>\n",
       "    </tr>\n",
       "    <tr>\n",
       "      <th>SVC</th>\n",
       "      <td>0.832695</td>\n",
       "      <td>0.831633</td>\n",
       "    </tr>\n",
       "    <tr>\n",
       "      <th>GaussianProcessClassifier</th>\n",
       "      <td>1.0</td>\n",
       "      <td>0.790816</td>\n",
       "    </tr>\n",
       "  </tbody>\n",
       "</table>\n",
       "</div>"
      ],
      "text/plain": [
       "                              Train Accuracy Test Accuracy\n",
       "DecisionTreeClassifier                   1.0           1.0\n",
       "GradientBoostingClassifier               1.0           1.0\n",
       "AdaBoostClassifier                       1.0           1.0\n",
       "XGBOOST                                  1.0           1.0\n",
       "BaggingClassifier                        1.0      0.989796\n",
       "RandomForestClassifier                   1.0      0.979592\n",
       "LogisticRegression                  0.965517      0.969388\n",
       "MLPClassifier                       0.988506      0.964286\n",
       "LinearSVC                           0.969349      0.954082\n",
       "QuadraticDiscriminantAnalysis       0.916986      0.908163\n",
       "GaussianNB                          0.922095      0.903061\n",
       "SGDClassifier                       0.863346      0.862245\n",
       "KNeighborsClassifier                 0.88378      0.836735\n",
       "SVC                                 0.832695      0.831633\n",
       "GaussianProcessClassifier                1.0      0.790816"
      ]
     },
     "execution_count": 298,
     "metadata": {},
     "output_type": "execute_result"
    }
   ],
   "source": [
    "performance.sort_values(by=['Test Accuracy'], ascending=False)"
   ]
  },
  {
   "cell_type": "code",
   "execution_count": 299,
   "id": "8743aa30-2953-49d0-a7fc-f208f91efb05",
   "metadata": {},
   "outputs": [
    {
     "data": {
      "text/plain": [
       "traffic        0.514244\n",
       "hurry          0.583842\n",
       "frustration    1.000000\n",
       "Name: frustration, dtype: float64"
      ]
     },
     "execution_count": 299,
     "metadata": {},
     "output_type": "execute_result"
    }
   ],
   "source": [
    "cor = np.abs(r_data.corr())\n",
    "cor_target = abs(cor['frustration'])\n",
    "# Selecting highly correlated features\n",
    "relevant_features = cor_target[cor_target>0.5]\n",
    "relevant_features"
   ]
  },
  {
   "cell_type": "code",
   "execution_count": null,
   "id": "78b317a4-fdc4-4625-b091-f193fe5a0cde",
   "metadata": {},
   "outputs": [],
   "source": []
  },
  {
   "cell_type": "code",
   "execution_count": 300,
   "id": "4d046d4a-5bd2-4b6c-aaf8-ed043915d7c5",
   "metadata": {},
   "outputs": [
    {
     "data": {
      "text/plain": [
       "(1287, 58)"
      ]
     },
     "execution_count": 300,
     "metadata": {},
     "output_type": "execute_result"
    }
   ],
   "source": [
    "s_data = sim_data_nulls_filled[selected_cols]\n",
    "s_data.shape"
   ]
  },
  {
   "cell_type": "code",
   "execution_count": 301,
   "id": "85b6414f-4087-4bfc-b736-660c848443f0",
   "metadata": {},
   "outputs": [],
   "source": [
    "S_data = s_data.drop(['frustration'], axis=1)\n",
    "S_y  = s_data[\"frustration\"]\n",
    "s_target = S_y.map({1:1, 2:0})"
   ]
  },
  {
   "cell_type": "code",
   "execution_count": 302,
   "id": "b7e53d13-90b8-4247-9615-010318f94402",
   "metadata": {},
   "outputs": [
    {
     "data": {
      "text/plain": [
       "frustration\n",
       "0    1084\n",
       "1     203\n",
       "Name: count, dtype: int64"
      ]
     },
     "execution_count": 302,
     "metadata": {},
     "output_type": "execute_result"
    }
   ],
   "source": [
    "s_tartget.value_counts()"
   ]
  },
  {
   "cell_type": "code",
   "execution_count": 303,
   "id": "582ed0c2-39d7-45f7-9bfb-2a78106992dd",
   "metadata": {},
   "outputs": [],
   "source": [
    "S_train, S_test, y_train_s, y_test_s = train_test_split(S_data, s_target, test_size=0.2, stratify=s_target, random_state=42)"
   ]
  },
  {
   "cell_type": "code",
   "execution_count": 304,
   "id": "7296b4c0-66c5-4b23-9b99-d04f56fe631c",
   "metadata": {},
   "outputs": [],
   "source": [
    "performance2 = pd.DataFrame(columns=[\"Train Accuracy\",\"Test Accuracy\"], index=list(models.keys()))"
   ]
  },
  {
   "cell_type": "code",
   "execution_count": 305,
   "id": "1153f149-1341-4327-9b99-31b9cf790cf9",
   "metadata": {},
   "outputs": [
    {
     "name": "stderr",
     "output_type": "stream",
     "text": [
      "C:\\Users\\abdul\\AppData\\Roaming\\Python\\Python38\\site-packages\\sklearn\\linear_model\\_logistic.py:460: ConvergenceWarning: lbfgs failed to converge (status=1):\n",
      "STOP: TOTAL NO. of ITERATIONS REACHED LIMIT.\n",
      "\n",
      "Increase the number of iterations (max_iter) or scale the data as shown in:\n",
      "    https://scikit-learn.org/stable/modules/preprocessing.html\n",
      "Please also refer to the documentation for alternative solver options:\n",
      "    https://scikit-learn.org/stable/modules/linear_model.html#logistic-regression\n",
      "  n_iter_i = _check_optimize_result(\n",
      "C:\\Users\\abdul\\AppData\\Roaming\\Python\\Python38\\site-packages\\sklearn\\svm\\_classes.py:32: FutureWarning: The default value of `dual` will change from `True` to `'auto'` in 1.5. Set the value of `dual` explicitly to suppress the warning.\n",
      "  warnings.warn(\n",
      "C:\\Users\\abdul\\AppData\\Roaming\\Python\\Python38\\site-packages\\sklearn\\svm\\_base.py:1250: ConvergenceWarning: Liblinear failed to converge, increase the number of iterations.\n",
      "  warnings.warn(\n",
      "C:\\Users\\abdul\\AppData\\Roaming\\Python\\Python38\\site-packages\\sklearn\\discriminant_analysis.py:935: UserWarning: Variables are collinear\n",
      "  warnings.warn(\"Variables are collinear\")\n"
     ]
    }
   ],
   "source": [
    "for name, model in models.items():\n",
    "    # Train the model\n",
    "    model.fit(S_train, y_train_s)\n",
    "\n",
    "    # Make predictions on the test set\n",
    "    y_train_pred_s = model.predict(S_train)\n",
    "    y_test_pred_s = model.predict(S_test)\n",
    "\n",
    "    # Calculate evaluation metrics\n",
    "    test_accuracy = accuracy_score(y_test_s, y_test_pred_s)\n",
    "    train_accuracy = accuracy_score(y_train_s, y_train_pred_s)\n",
    "\n",
    "    #Save Test and Training Accuracies\n",
    "    performance2.loc[name, :] = [train_accuracy,test_accuracy]"
   ]
  },
  {
   "cell_type": "code",
   "execution_count": 306,
   "id": "31314b41-7026-4312-af45-5dde60bfa74e",
   "metadata": {},
   "outputs": [
    {
     "data": {
      "text/html": [
       "<div>\n",
       "<style scoped>\n",
       "    .dataframe tbody tr th:only-of-type {\n",
       "        vertical-align: middle;\n",
       "    }\n",
       "\n",
       "    .dataframe tbody tr th {\n",
       "        vertical-align: top;\n",
       "    }\n",
       "\n",
       "    .dataframe thead th {\n",
       "        text-align: right;\n",
       "    }\n",
       "</style>\n",
       "<table border=\"1\" class=\"dataframe\">\n",
       "  <thead>\n",
       "    <tr style=\"text-align: right;\">\n",
       "      <th></th>\n",
       "      <th>Train Accuracy</th>\n",
       "      <th>Test Accuracy</th>\n",
       "    </tr>\n",
       "  </thead>\n",
       "  <tbody>\n",
       "    <tr>\n",
       "      <th>DecisionTreeClassifier</th>\n",
       "      <td>1.0</td>\n",
       "      <td>1.0</td>\n",
       "    </tr>\n",
       "    <tr>\n",
       "      <th>AdaBoostClassifier</th>\n",
       "      <td>1.0</td>\n",
       "      <td>1.0</td>\n",
       "    </tr>\n",
       "    <tr>\n",
       "      <th>XGBOOST</th>\n",
       "      <td>1.0</td>\n",
       "      <td>0.996124</td>\n",
       "    </tr>\n",
       "    <tr>\n",
       "      <th>LogisticRegression</th>\n",
       "      <td>0.993197</td>\n",
       "      <td>0.992248</td>\n",
       "    </tr>\n",
       "    <tr>\n",
       "      <th>BaggingClassifier</th>\n",
       "      <td>1.0</td>\n",
       "      <td>0.988372</td>\n",
       "    </tr>\n",
       "    <tr>\n",
       "      <th>RandomForestClassifier</th>\n",
       "      <td>1.0</td>\n",
       "      <td>0.988372</td>\n",
       "    </tr>\n",
       "    <tr>\n",
       "      <th>GradientBoostingClassifier</th>\n",
       "      <td>1.0</td>\n",
       "      <td>0.988372</td>\n",
       "    </tr>\n",
       "    <tr>\n",
       "      <th>QuadraticDiscriminantAnalysis</th>\n",
       "      <td>0.98931</td>\n",
       "      <td>0.972868</td>\n",
       "    </tr>\n",
       "    <tr>\n",
       "      <th>LinearSVC</th>\n",
       "      <td>0.974733</td>\n",
       "      <td>0.968992</td>\n",
       "    </tr>\n",
       "    <tr>\n",
       "      <th>GaussianNB</th>\n",
       "      <td>0.974733</td>\n",
       "      <td>0.957364</td>\n",
       "    </tr>\n",
       "    <tr>\n",
       "      <th>MLPClassifier</th>\n",
       "      <td>0.943635</td>\n",
       "      <td>0.914729</td>\n",
       "    </tr>\n",
       "    <tr>\n",
       "      <th>SVC</th>\n",
       "      <td>0.842566</td>\n",
       "      <td>0.841085</td>\n",
       "    </tr>\n",
       "    <tr>\n",
       "      <th>KNeighborsClassifier</th>\n",
       "      <td>0.865889</td>\n",
       "      <td>0.829457</td>\n",
       "    </tr>\n",
       "    <tr>\n",
       "      <th>GaussianProcessClassifier</th>\n",
       "      <td>1.0</td>\n",
       "      <td>0.767442</td>\n",
       "    </tr>\n",
       "    <tr>\n",
       "      <th>SGDClassifier</th>\n",
       "      <td>0.430515</td>\n",
       "      <td>0.406977</td>\n",
       "    </tr>\n",
       "  </tbody>\n",
       "</table>\n",
       "</div>"
      ],
      "text/plain": [
       "                              Train Accuracy Test Accuracy\n",
       "DecisionTreeClassifier                   1.0           1.0\n",
       "AdaBoostClassifier                       1.0           1.0\n",
       "XGBOOST                                  1.0      0.996124\n",
       "LogisticRegression                  0.993197      0.992248\n",
       "BaggingClassifier                        1.0      0.988372\n",
       "RandomForestClassifier                   1.0      0.988372\n",
       "GradientBoostingClassifier               1.0      0.988372\n",
       "QuadraticDiscriminantAnalysis        0.98931      0.972868\n",
       "LinearSVC                           0.974733      0.968992\n",
       "GaussianNB                          0.974733      0.957364\n",
       "MLPClassifier                       0.943635      0.914729\n",
       "SVC                                 0.842566      0.841085\n",
       "KNeighborsClassifier                0.865889      0.829457\n",
       "GaussianProcessClassifier                1.0      0.767442\n",
       "SGDClassifier                       0.430515      0.406977"
      ]
     },
     "execution_count": 306,
     "metadata": {},
     "output_type": "execute_result"
    }
   ],
   "source": [
    "performance2.sort_values(by=['Test Accuracy'], ascending=False)"
   ]
  },
  {
   "cell_type": "code",
   "execution_count": 307,
   "id": "b219ca45-077d-422b-8bf6-ea11a5c90ece",
   "metadata": {},
   "outputs": [],
   "source": [
    "xgb_clf_s = XGBClassifier(eval_metric='logloss')"
   ]
  },
  {
   "cell_type": "code",
   "execution_count": 308,
   "id": "4a62b221-16f2-4fd4-83d2-3b5c24f1c16f",
   "metadata": {},
   "outputs": [
    {
     "data": {
      "text/html": [
       "<style>#sk-container-id-10 {color: black;}#sk-container-id-10 pre{padding: 0;}#sk-container-id-10 div.sk-toggleable {background-color: white;}#sk-container-id-10 label.sk-toggleable__label {cursor: pointer;display: block;width: 100%;margin-bottom: 0;padding: 0.3em;box-sizing: border-box;text-align: center;}#sk-container-id-10 label.sk-toggleable__label-arrow:before {content: \"▸\";float: left;margin-right: 0.25em;color: #696969;}#sk-container-id-10 label.sk-toggleable__label-arrow:hover:before {color: black;}#sk-container-id-10 div.sk-estimator:hover label.sk-toggleable__label-arrow:before {color: black;}#sk-container-id-10 div.sk-toggleable__content {max-height: 0;max-width: 0;overflow: hidden;text-align: left;background-color: #f0f8ff;}#sk-container-id-10 div.sk-toggleable__content pre {margin: 0.2em;color: black;border-radius: 0.25em;background-color: #f0f8ff;}#sk-container-id-10 input.sk-toggleable__control:checked~div.sk-toggleable__content {max-height: 200px;max-width: 100%;overflow: auto;}#sk-container-id-10 input.sk-toggleable__control:checked~label.sk-toggleable__label-arrow:before {content: \"▾\";}#sk-container-id-10 div.sk-estimator input.sk-toggleable__control:checked~label.sk-toggleable__label {background-color: #d4ebff;}#sk-container-id-10 div.sk-label input.sk-toggleable__control:checked~label.sk-toggleable__label {background-color: #d4ebff;}#sk-container-id-10 input.sk-hidden--visually {border: 0;clip: rect(1px 1px 1px 1px);clip: rect(1px, 1px, 1px, 1px);height: 1px;margin: -1px;overflow: hidden;padding: 0;position: absolute;width: 1px;}#sk-container-id-10 div.sk-estimator {font-family: monospace;background-color: #f0f8ff;border: 1px dotted black;border-radius: 0.25em;box-sizing: border-box;margin-bottom: 0.5em;}#sk-container-id-10 div.sk-estimator:hover {background-color: #d4ebff;}#sk-container-id-10 div.sk-parallel-item::after {content: \"\";width: 100%;border-bottom: 1px solid gray;flex-grow: 1;}#sk-container-id-10 div.sk-label:hover label.sk-toggleable__label {background-color: #d4ebff;}#sk-container-id-10 div.sk-serial::before {content: \"\";position: absolute;border-left: 1px solid gray;box-sizing: border-box;top: 0;bottom: 0;left: 50%;z-index: 0;}#sk-container-id-10 div.sk-serial {display: flex;flex-direction: column;align-items: center;background-color: white;padding-right: 0.2em;padding-left: 0.2em;position: relative;}#sk-container-id-10 div.sk-item {position: relative;z-index: 1;}#sk-container-id-10 div.sk-parallel {display: flex;align-items: stretch;justify-content: center;background-color: white;position: relative;}#sk-container-id-10 div.sk-item::before, #sk-container-id-10 div.sk-parallel-item::before {content: \"\";position: absolute;border-left: 1px solid gray;box-sizing: border-box;top: 0;bottom: 0;left: 50%;z-index: -1;}#sk-container-id-10 div.sk-parallel-item {display: flex;flex-direction: column;z-index: 1;position: relative;background-color: white;}#sk-container-id-10 div.sk-parallel-item:first-child::after {align-self: flex-end;width: 50%;}#sk-container-id-10 div.sk-parallel-item:last-child::after {align-self: flex-start;width: 50%;}#sk-container-id-10 div.sk-parallel-item:only-child::after {width: 0;}#sk-container-id-10 div.sk-dashed-wrapped {border: 1px dashed gray;margin: 0 0.4em 0.5em 0.4em;box-sizing: border-box;padding-bottom: 0.4em;background-color: white;}#sk-container-id-10 div.sk-label label {font-family: monospace;font-weight: bold;display: inline-block;line-height: 1.2em;}#sk-container-id-10 div.sk-label-container {text-align: center;}#sk-container-id-10 div.sk-container {/* jupyter's `normalize.less` sets `[hidden] { display: none; }` but bootstrap.min.css set `[hidden] { display: none !important; }` so we also need the `!important` here to be able to override the default hidden behavior on the sphinx rendered scikit-learn.org. See: https://github.com/scikit-learn/scikit-learn/issues/21755 */display: inline-block !important;position: relative;}#sk-container-id-10 div.sk-text-repr-fallback {display: none;}</style><div id=\"sk-container-id-10\" class=\"sk-top-container\"><div class=\"sk-text-repr-fallback\"><pre>XGBClassifier(base_score=None, booster=None, callbacks=None,\n",
       "              colsample_bylevel=None, colsample_bynode=None,\n",
       "              colsample_bytree=None, early_stopping_rounds=None,\n",
       "              enable_categorical=False, eval_metric=&#x27;logloss&#x27;,\n",
       "              feature_types=None, gamma=None, gpu_id=None, grow_policy=None,\n",
       "              importance_type=None, interaction_constraints=None,\n",
       "              learning_rate=None, max_bin=None, max_cat_threshold=None,\n",
       "              max_cat_to_onehot=None, max_delta_step=None, max_depth=None,\n",
       "              max_leaves=None, min_child_weight=None, missing=nan,\n",
       "              monotone_constraints=None, n_estimators=100, n_jobs=None,\n",
       "              num_parallel_tree=None, predictor=None, random_state=None, ...)</pre><b>In a Jupyter environment, please rerun this cell to show the HTML representation or trust the notebook. <br />On GitHub, the HTML representation is unable to render, please try loading this page with nbviewer.org.</b></div><div class=\"sk-container\" hidden><div class=\"sk-item\"><div class=\"sk-estimator sk-toggleable\"><input class=\"sk-toggleable__control sk-hidden--visually\" id=\"sk-estimator-id-10\" type=\"checkbox\" checked><label for=\"sk-estimator-id-10\" class=\"sk-toggleable__label sk-toggleable__label-arrow\">XGBClassifier</label><div class=\"sk-toggleable__content\"><pre>XGBClassifier(base_score=None, booster=None, callbacks=None,\n",
       "              colsample_bylevel=None, colsample_bynode=None,\n",
       "              colsample_bytree=None, early_stopping_rounds=None,\n",
       "              enable_categorical=False, eval_metric=&#x27;logloss&#x27;,\n",
       "              feature_types=None, gamma=None, gpu_id=None, grow_policy=None,\n",
       "              importance_type=None, interaction_constraints=None,\n",
       "              learning_rate=None, max_bin=None, max_cat_threshold=None,\n",
       "              max_cat_to_onehot=None, max_delta_step=None, max_depth=None,\n",
       "              max_leaves=None, min_child_weight=None, missing=nan,\n",
       "              monotone_constraints=None, n_estimators=100, n_jobs=None,\n",
       "              num_parallel_tree=None, predictor=None, random_state=None, ...)</pre></div></div></div></div></div>"
      ],
      "text/plain": [
       "XGBClassifier(base_score=None, booster=None, callbacks=None,\n",
       "              colsample_bylevel=None, colsample_bynode=None,\n",
       "              colsample_bytree=None, early_stopping_rounds=None,\n",
       "              enable_categorical=False, eval_metric='logloss',\n",
       "              feature_types=None, gamma=None, gpu_id=None, grow_policy=None,\n",
       "              importance_type=None, interaction_constraints=None,\n",
       "              learning_rate=None, max_bin=None, max_cat_threshold=None,\n",
       "              max_cat_to_onehot=None, max_delta_step=None, max_depth=None,\n",
       "              max_leaves=None, min_child_weight=None, missing=nan,\n",
       "              monotone_constraints=None, n_estimators=100, n_jobs=None,\n",
       "              num_parallel_tree=None, predictor=None, random_state=None, ...)"
      ]
     },
     "execution_count": 308,
     "metadata": {},
     "output_type": "execute_result"
    }
   ],
   "source": [
    "xgb_clf_s.fit(S_train, y_train_s)"
   ]
  },
  {
   "cell_type": "code",
   "execution_count": 309,
   "id": "cbc65528-4124-42b1-ae36-cd1fbe937fe2",
   "metadata": {},
   "outputs": [
    {
     "data": {
      "text/plain": [
       "<Figure size 1000x500 with 0 Axes>"
      ]
     },
     "metadata": {},
     "output_type": "display_data"
    },
    {
     "data": {
      "image/png": "[encoded data removed]",
      "text/plain": [
       "<Figure size 640x480 with 1 Axes>"
      ]
     },
     "metadata": {},
     "output_type": "display_data"
    }
   ],
   "source": [
    "# Plot feature importances\n",
    "plt.figure(figsize=(10, 5))\n",
    "plot_importance(xgb_clf_s, importance_type='weight', title='Feature Importance')\n",
    "plt.show()"
   ]
  },
  {
   "cell_type": "code",
   "execution_count": 310,
   "id": "2648babf-ec4c-4e0f-b11d-e11d6c0a910e",
   "metadata": {},
   "outputs": [
    {
     "data": {
      "text/plain": [
       "<Figure size 1000x500 with 0 Axes>"
      ]
     },
     "metadata": {},
     "output_type": "display_data"
    },
    {
     "data": {
      "image/png": "[encoded data removed]",
      "text/plain": [
       "<Figure size 640x480 with 1 Axes>"
      ]
     },
     "metadata": {},
     "output_type": "display_data"
    }
   ],
   "source": [
    "# Plot feature importances\n",
    "plt.figure(figsize=(10, 5))\n",
    "plot_importance(xgb_clf, importance_type='weight', title='Feature Importance')\n",
    "plt.show()"
   ]
  },
  {
   "cell_type": "code",
   "execution_count": 311,
   "id": "c7ae343f-5fd8-4fef-83ce-1b918aa79dfb",
   "metadata": {},
   "outputs": [
    {
     "data": {
      "text/plain": [
       "array([1, 2, 3, 6, 7, 5, 4], dtype=int64)"
      ]
     },
     "execution_count": 311,
     "metadata": {},
     "output_type": "execute_result"
    }
   ],
   "source": [
    "r_data.lap.unique()"
   ]
  },
  {
   "cell_type": "code",
   "execution_count": 312,
   "id": "11ce3d9d-282a-4a8b-bc10-916409062c80",
   "metadata": {},
   "outputs": [],
   "source": [
    "condition1 = real_data_nulls_filled.lap == 6\n",
    "condition2 = real_data_nulls_filled.lap == 7\n",
    "condition3 = real_data_nulls_filled.lap == 5"
   ]
  },
  {
   "cell_type": "code",
   "execution_count": 313,
   "id": "a668a77f-bf25-4c9d-ada9-da120ff967b4",
   "metadata": {},
   "outputs": [],
   "source": [
    "train = real_data_nulls_filled[condition1 | condition2]\n",
    "test = real_data_nulls_filled[condition3]"
   ]
  },
  {
   "cell_type": "code",
   "execution_count": 319,
   "id": "7ee4ebc3-fe7c-432b-a2db-62565d98c84f",
   "metadata": {},
   "outputs": [],
   "source": [
    "X_train = train.drop(['lap'], axis=1)\n",
    "y_train = train['frustration']\n",
    "\n",
    "X_test = test.drop(['lap'], axis=1)\n",
    "y_test = test['frustration']"
   ]
  },
  {
   "cell_type": "code",
   "execution_count": 320,
   "id": "c228a676-57ea-42a5-8381-f52bc6908683",
   "metadata": {},
   "outputs": [],
   "source": [
    "y_train = y_train.map({1:1, 2:0})\n",
    "y_test = y_test.map({1:1, 2:0})"
   ]
  },
  {
   "cell_type": "code",
   "execution_count": 321,
   "id": "52b7045d-4a50-488e-9973-1d2cbcaf5cd3",
   "metadata": {},
   "outputs": [],
   "source": [
    "xgb_clf_subset = XGBClassifier(eval_metric='logloss')\n"
   ]
  },
  {
   "cell_type": "code",
   "execution_count": 322,
   "id": "6bacdb09-70ef-446b-8655-9c37f6870670",
   "metadata": {},
   "outputs": [
    {
     "data": {
      "text/html": [
       "<style>#sk-container-id-12 {color: black;}#sk-container-id-12 pre{padding: 0;}#sk-container-id-12 div.sk-toggleable {background-color: white;}#sk-container-id-12 label.sk-toggleable__label {cursor: pointer;display: block;width: 100%;margin-bottom: 0;padding: 0.3em;box-sizing: border-box;text-align: center;}#sk-container-id-12 label.sk-toggleable__label-arrow:before {content: \"▸\";float: left;margin-right: 0.25em;color: #696969;}#sk-container-id-12 label.sk-toggleable__label-arrow:hover:before {color: black;}#sk-container-id-12 div.sk-estimator:hover label.sk-toggleable__label-arrow:before {color: black;}#sk-container-id-12 div.sk-toggleable__content {max-height: 0;max-width: 0;overflow: hidden;text-align: left;background-color: #f0f8ff;}#sk-container-id-12 div.sk-toggleable__content pre {margin: 0.2em;color: black;border-radius: 0.25em;background-color: #f0f8ff;}#sk-container-id-12 input.sk-toggleable__control:checked~div.sk-toggleable__content {max-height: 200px;max-width: 100%;overflow: auto;}#sk-container-id-12 input.sk-toggleable__control:checked~label.sk-toggleable__label-arrow:before {content: \"▾\";}#sk-container-id-12 div.sk-estimator input.sk-toggleable__control:checked~label.sk-toggleable__label {background-color: #d4ebff;}#sk-container-id-12 div.sk-label input.sk-toggleable__control:checked~label.sk-toggleable__label {background-color: #d4ebff;}#sk-container-id-12 input.sk-hidden--visually {border: 0;clip: rect(1px 1px 1px 1px);clip: rect(1px, 1px, 1px, 1px);height: 1px;margin: -1px;overflow: hidden;padding: 0;position: absolute;width: 1px;}#sk-container-id-12 div.sk-estimator {font-family: monospace;background-color: #f0f8ff;border: 1px dotted black;border-radius: 0.25em;box-sizing: border-box;margin-bottom: 0.5em;}#sk-container-id-12 div.sk-estimator:hover {background-color: #d4ebff;}#sk-container-id-12 div.sk-parallel-item::after {content: \"\";width: 100%;border-bottom: 1px solid gray;flex-grow: 1;}#sk-container-id-12 div.sk-label:hover label.sk-toggleable__label {background-color: #d4ebff;}#sk-container-id-12 div.sk-serial::before {content: \"\";position: absolute;border-left: 1px solid gray;box-sizing: border-box;top: 0;bottom: 0;left: 50%;z-index: 0;}#sk-container-id-12 div.sk-serial {display: flex;flex-direction: column;align-items: center;background-color: white;padding-right: 0.2em;padding-left: 0.2em;position: relative;}#sk-container-id-12 div.sk-item {position: relative;z-index: 1;}#sk-container-id-12 div.sk-parallel {display: flex;align-items: stretch;justify-content: center;background-color: white;position: relative;}#sk-container-id-12 div.sk-item::before, #sk-container-id-12 div.sk-parallel-item::before {content: \"\";position: absolute;border-left: 1px solid gray;box-sizing: border-box;top: 0;bottom: 0;left: 50%;z-index: -1;}#sk-container-id-12 div.sk-parallel-item {display: flex;flex-direction: column;z-index: 1;position: relative;background-color: white;}#sk-container-id-12 div.sk-parallel-item:first-child::after {align-self: flex-end;width: 50%;}#sk-container-id-12 div.sk-parallel-item:last-child::after {align-self: flex-start;width: 50%;}#sk-container-id-12 div.sk-parallel-item:only-child::after {width: 0;}#sk-container-id-12 div.sk-dashed-wrapped {border: 1px dashed gray;margin: 0 0.4em 0.5em 0.4em;box-sizing: border-box;padding-bottom: 0.4em;background-color: white;}#sk-container-id-12 div.sk-label label {font-family: monospace;font-weight: bold;display: inline-block;line-height: 1.2em;}#sk-container-id-12 div.sk-label-container {text-align: center;}#sk-container-id-12 div.sk-container {/* jupyter's `normalize.less` sets `[hidden] { display: none; }` but bootstrap.min.css set `[hidden] { display: none !important; }` so we also need the `!important` here to be able to override the default hidden behavior on the sphinx rendered scikit-learn.org. See: https://github.com/scikit-learn/scikit-learn/issues/21755 */display: inline-block !important;position: relative;}#sk-container-id-12 div.sk-text-repr-fallback {display: none;}</style><div id=\"sk-container-id-12\" class=\"sk-top-container\"><div class=\"sk-text-repr-fallback\"><pre>XGBClassifier(base_score=None, booster=None, callbacks=None,\n",
       "              colsample_bylevel=None, colsample_bynode=None,\n",
       "              colsample_bytree=None, early_stopping_rounds=None,\n",
       "              enable_categorical=False, eval_metric=&#x27;logloss&#x27;,\n",
       "              feature_types=None, gamma=None, gpu_id=None, grow_policy=None,\n",
       "              importance_type=None, interaction_constraints=None,\n",
       "              learning_rate=None, max_bin=None, max_cat_threshold=None,\n",
       "              max_cat_to_onehot=None, max_delta_step=None, max_depth=None,\n",
       "              max_leaves=None, min_child_weight=None, missing=nan,\n",
       "              monotone_constraints=None, n_estimators=100, n_jobs=None,\n",
       "              num_parallel_tree=None, predictor=None, random_state=None, ...)</pre><b>In a Jupyter environment, please rerun this cell to show the HTML representation or trust the notebook. <br />On GitHub, the HTML representation is unable to render, please try loading this page with nbviewer.org.</b></div><div class=\"sk-container\" hidden><div class=\"sk-item\"><div class=\"sk-estimator sk-toggleable\"><input class=\"sk-toggleable__control sk-hidden--visually\" id=\"sk-estimator-id-12\" type=\"checkbox\" checked><label for=\"sk-estimator-id-12\" class=\"sk-toggleable__label sk-toggleable__label-arrow\">XGBClassifier</label><div class=\"sk-toggleable__content\"><pre>XGBClassifier(base_score=None, booster=None, callbacks=None,\n",
       "              colsample_bylevel=None, colsample_bynode=None,\n",
       "              colsample_bytree=None, early_stopping_rounds=None,\n",
       "              enable_categorical=False, eval_metric=&#x27;logloss&#x27;,\n",
       "              feature_types=None, gamma=None, gpu_id=None, grow_policy=None,\n",
       "              importance_type=None, interaction_constraints=None,\n",
       "              learning_rate=None, max_bin=None, max_cat_threshold=None,\n",
       "              max_cat_to_onehot=None, max_delta_step=None, max_depth=None,\n",
       "              max_leaves=None, min_child_weight=None, missing=nan,\n",
       "              monotone_constraints=None, n_estimators=100, n_jobs=None,\n",
       "              num_parallel_tree=None, predictor=None, random_state=None, ...)</pre></div></div></div></div></div>"
      ],
      "text/plain": [
       "XGBClassifier(base_score=None, booster=None, callbacks=None,\n",
       "              colsample_bylevel=None, colsample_bynode=None,\n",
       "              colsample_bytree=None, early_stopping_rounds=None,\n",
       "              enable_categorical=False, eval_metric='logloss',\n",
       "              feature_types=None, gamma=None, gpu_id=None, grow_policy=None,\n",
       "              importance_type=None, interaction_constraints=None,\n",
       "              learning_rate=None, max_bin=None, max_cat_threshold=None,\n",
       "              max_cat_to_onehot=None, max_delta_step=None, max_depth=None,\n",
       "              max_leaves=None, min_child_weight=None, missing=nan,\n",
       "              monotone_constraints=None, n_estimators=100, n_jobs=None,\n",
       "              num_parallel_tree=None, predictor=None, random_state=None, ...)"
      ]
     },
     "execution_count": 322,
     "metadata": {},
     "output_type": "execute_result"
    }
   ],
   "source": [
    "xgb_clf_subset.fit(X_train, y_train)"
   ]
  },
  {
   "cell_type": "code",
   "execution_count": 323,
   "id": "f766e9c8-d0aa-4cf3-81af-306a1464049f",
   "metadata": {},
   "outputs": [
    {
     "data": {
      "text/plain": [
       "<Figure size 1000x500 with 0 Axes>"
      ]
     },
     "metadata": {},
     "output_type": "display_data"
    },
    {
     "data": {
      "image/png": "[encoded data removed]",
      "text/plain": [
       "<Figure size 640x480 with 1 Axes>"
      ]
     },
     "metadata": {},
     "output_type": "display_data"
    }
   ],
   "source": [
    "# Plot feature importances\n",
    "plt.figure(figsize=(10, 5))\n",
    "plot_importance(xgb_clf_subset, importance_type='weight', title='Feature Importance')\n",
    "plt.show()"
   ]
  },
  {
   "cell_type": "code",
   "execution_count": null,
   "id": "37817db1-5e94-4a60-9bc9-2a038cec6ffd",
   "metadata": {},
   "outputs": [],
   "source": []
  },
  {
   "cell_type": "code",
   "execution_count": null,
   "id": "7cd88136-ff68-46db-bf6c-0a2d93cea1d6",
   "metadata": {},
   "outputs": [],
   "source": []
  }
 ],
 "metadata": {
  "kernelspec": {
   "display_name": "Python 3 (ipykernel)",
   "language": "python",
   "name": "python3"
  },
  "language_info": {
   "codemirror_mode": {
    "name": "ipython",
    "version": 3
   },
   "file_extension": ".py",
   "mimetype": "text/x-python",
   "name": "python",
   "nbconvert_exporter": "python",
   "pygments_lexer": "ipython3",
   "version": "3.8.18"
  }
 },
 "nbformat": 4,
 "nbformat_minor": 5
}
