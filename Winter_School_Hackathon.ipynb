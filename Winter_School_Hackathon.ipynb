{
 "cells": [
  {
   "cell_type": "markdown",
   "id": "eef90f17-dc1a-4030-bc8a-9b055f3a6f3d",
   "metadata": {},
   "source": [
    "### How well does simulated data represent real world data?\n",
    "\n",
    "### Notebobok imports"
   ]
  },
  {
   "cell_type": "code",
   "execution_count": 371,
   "id": "e0509e02-b2bc-4e9a-b5ec-83a787709b83",
   "metadata": {},
   "outputs": [],
   "source": [
    "import pandas as pd\n",
    "import numpy as np\n",
    "import matplotlib.pyplot as plt\n",
    "import seaborn as sns\n",
    "\n",
    "from sklearn.model_selection import train_test_split\n",
    "from sklearn.model_selection import cross_val_score\n",
    "from xgboost import XGBClassifier, plot_importance\n",
    "\n",
    "from sklearn.metrics import classification_report, confusion_matrix, accuracy_score, ConfusionMatrixDisplay\n",
    "from sklearn.linear_model import LogisticRegression, SGDClassifier\n",
    "from sklearn.tree import  DecisionTreeClassifier\n",
    "from sklearn.neighbors import KNeighborsClassifier\n",
    "from sklearn.naive_bayes import BernoulliNB, GaussianNB\n",
    "from sklearn.ensemble import BaggingClassifier, GradientBoostingClassifier, RandomForestClassifier\n",
    "from sklearn.naive_bayes import GaussianNB, MultinomialNB\n",
    "from sklearn.neighbors import KNeighborsClassifier\n",
    "from sklearn.neural_network import MLPClassifier\n",
    "from sklearn.svm import SVC\n",
    "from sklearn.tree import DecisionTreeClassifier\n",
    "from sklearn.svm import LinearSVC\n",
    "from sklearn.discriminant_analysis import QuadraticDiscriminantAnalysis\n",
    "from sklearn.ensemble import AdaBoostClassifier, RandomForestClassifier\n",
    "from sklearn.gaussian_process import GaussianProcessClassifier\n",
    "from sklearn.gaussian_process.kernels import RBF\n",
    "\n",
    "import warnings\n",
    "warnings. filterwarnings('ignore')\n",
    "sns.set()\n",
    "%matplotlib inline\n"
   ]
  },
  {
   "cell_type": "markdown",
   "id": "94d53f84-1a23-4911-9fc7-ce27abef4db5",
   "metadata": {},
   "source": [
    "### Import dataset"
   ]
  },
  {
   "cell_type": "code",
   "execution_count": 422,
   "id": "1f10f38f-8408-4e10-9abf-54707273cc9a",
   "metadata": {},
   "outputs": [],
   "source": [
    "def load_excel_data(dataset_path) -> pd.DataFrame:\n",
    "    return pd.read_excel(dataset_path, index_col=0)"
   ]
  },
  {
   "cell_type": "code",
   "execution_count": 423,
   "id": "4e643bbd-c362-4e78-9b3b-354464c00ce8",
   "metadata": {},
   "outputs": [],
   "source": [
    "real_dataset_path = \"./Feature_Track.xlsx\"\n",
    "sim_dataset_path = \"./Feature_Simulation.xlsx\""
   ]
  },
  {
   "cell_type": "code",
   "execution_count": 424,
   "id": "dc809d74-7e4e-41de-9643-28a345de644f",
   "metadata": {},
   "outputs": [],
   "source": [
    "real_track_data = load_excel_data(real_dataset_path)\n",
    "sim_track_data = load_excel_data(sim_dataset_path)"
   ]
  },
  {
   "cell_type": "code",
   "execution_count": 425,
   "id": "ebfb1838-281b-4aa1-a916-e213ecd37dd6",
   "metadata": {},
   "outputs": [
    {
     "data": {
      "text/html": [
       "<div>\n",
       "<style scoped>\n",
       "    .dataframe tbody tr th:only-of-type {\n",
       "        vertical-align: middle;\n",
       "    }\n",
       "\n",
       "    .dataframe tbody tr th {\n",
       "        vertical-align: top;\n",
       "    }\n",
       "\n",
       "    .dataframe thead th {\n",
       "        text-align: right;\n",
       "    }\n",
       "</style>\n",
       "<table border=\"1\" class=\"dataframe\">\n",
       "  <thead>\n",
       "    <tr style=\"text-align: right;\">\n",
       "      <th></th>\n",
       "      <th>subject</th>\n",
       "      <th>lap</th>\n",
       "      <th>start_time</th>\n",
       "      <th>straight</th>\n",
       "      <th>roundabout_entry</th>\n",
       "      <th>roundabout_exit</th>\n",
       "      <th>zebra_crossing</th>\n",
       "      <th>left_turn</th>\n",
       "      <th>u_turn</th>\n",
       "      <th>bypass_dummy</th>\n",
       "      <th>...</th>\n",
       "      <th>LowerAlphaFrontal</th>\n",
       "      <th>LowerAlphaParietal</th>\n",
       "      <th>UpperAlphaFrontal</th>\n",
       "      <th>UpperAlphaParietal</th>\n",
       "      <th>BetaFrontal</th>\n",
       "      <th>BetaParietal</th>\n",
       "      <th>LowerBetaFrontal</th>\n",
       "      <th>LowerBetaParietal</th>\n",
       "      <th>UpperBetaFrontal</th>\n",
       "      <th>UpperBetaParietal</th>\n",
       "    </tr>\n",
       "  </thead>\n",
       "  <tbody>\n",
       "    <tr>\n",
       "      <th>0</th>\n",
       "      <td>0AC2A4</td>\n",
       "      <td>1</td>\n",
       "      <td>7</td>\n",
       "      <td>1</td>\n",
       "      <td>1</td>\n",
       "      <td>0</td>\n",
       "      <td>0</td>\n",
       "      <td>1</td>\n",
       "      <td>0</td>\n",
       "      <td>0</td>\n",
       "      <td>...</td>\n",
       "      <td>0.13222</td>\n",
       "      <td>0.08812</td>\n",
       "      <td>0.13469</td>\n",
       "      <td>0.08590</td>\n",
       "      <td>0.05499</td>\n",
       "      <td>0.04078</td>\n",
       "      <td>0.08419</td>\n",
       "      <td>0.06275</td>\n",
       "      <td>0.03722</td>\n",
       "      <td>0.02711</td>\n",
       "    </tr>\n",
       "    <tr>\n",
       "      <th>1</th>\n",
       "      <td>0AC2A4</td>\n",
       "      <td>1</td>\n",
       "      <td>27</td>\n",
       "      <td>1</td>\n",
       "      <td>0</td>\n",
       "      <td>1</td>\n",
       "      <td>0</td>\n",
       "      <td>1</td>\n",
       "      <td>0</td>\n",
       "      <td>0</td>\n",
       "      <td>...</td>\n",
       "      <td>0.13639</td>\n",
       "      <td>0.08118</td>\n",
       "      <td>0.12483</td>\n",
       "      <td>0.07588</td>\n",
       "      <td>0.04060</td>\n",
       "      <td>0.02869</td>\n",
       "      <td>0.05951</td>\n",
       "      <td>0.04759</td>\n",
       "      <td>0.02963</td>\n",
       "      <td>0.01753</td>\n",
       "    </tr>\n",
       "    <tr>\n",
       "      <th>2</th>\n",
       "      <td>0AC2A4</td>\n",
       "      <td>1</td>\n",
       "      <td>33</td>\n",
       "      <td>1</td>\n",
       "      <td>0</td>\n",
       "      <td>0</td>\n",
       "      <td>1</td>\n",
       "      <td>1</td>\n",
       "      <td>0</td>\n",
       "      <td>0</td>\n",
       "      <td>...</td>\n",
       "      <td>0.19671</td>\n",
       "      <td>0.11480</td>\n",
       "      <td>0.10121</td>\n",
       "      <td>0.09079</td>\n",
       "      <td>0.04339</td>\n",
       "      <td>0.02727</td>\n",
       "      <td>0.06250</td>\n",
       "      <td>0.04305</td>\n",
       "      <td>0.03296</td>\n",
       "      <td>0.01751</td>\n",
       "    </tr>\n",
       "    <tr>\n",
       "      <th>3</th>\n",
       "      <td>0AC2A4</td>\n",
       "      <td>1</td>\n",
       "      <td>43</td>\n",
       "      <td>1</td>\n",
       "      <td>1</td>\n",
       "      <td>0</td>\n",
       "      <td>0</td>\n",
       "      <td>0</td>\n",
       "      <td>0</td>\n",
       "      <td>0</td>\n",
       "      <td>...</td>\n",
       "      <td>0.20826</td>\n",
       "      <td>0.12873</td>\n",
       "      <td>0.11832</td>\n",
       "      <td>0.11087</td>\n",
       "      <td>0.04872</td>\n",
       "      <td>0.02917</td>\n",
       "      <td>0.06894</td>\n",
       "      <td>0.04766</td>\n",
       "      <td>0.03627</td>\n",
       "      <td>0.01744</td>\n",
       "    </tr>\n",
       "    <tr>\n",
       "      <th>4</th>\n",
       "      <td>0AC2A4</td>\n",
       "      <td>1</td>\n",
       "      <td>58</td>\n",
       "      <td>1</td>\n",
       "      <td>1</td>\n",
       "      <td>0</td>\n",
       "      <td>0</td>\n",
       "      <td>0</td>\n",
       "      <td>0</td>\n",
       "      <td>0</td>\n",
       "      <td>...</td>\n",
       "      <td>0.21193</td>\n",
       "      <td>0.14454</td>\n",
       "      <td>0.13428</td>\n",
       "      <td>0.13604</td>\n",
       "      <td>0.04173</td>\n",
       "      <td>0.02743</td>\n",
       "      <td>0.05937</td>\n",
       "      <td>0.04344</td>\n",
       "      <td>0.03132</td>\n",
       "      <td>0.01762</td>\n",
       "    </tr>\n",
       "  </tbody>\n",
       "</table>\n",
       "<p>5 rows × 88 columns</p>\n",
       "</div>"
      ],
      "text/plain": [
       "  subject  lap  start_time  straight  roundabout_entry  roundabout_exit  \\\n",
       "0  0AC2A4    1           7         1                 1                0   \n",
       "1  0AC2A4    1          27         1                 0                1   \n",
       "2  0AC2A4    1          33         1                 0                0   \n",
       "3  0AC2A4    1          43         1                 1                0   \n",
       "4  0AC2A4    1          58         1                 1                0   \n",
       "\n",
       "   zebra_crossing  left_turn  u_turn  bypass_dummy  ...  LowerAlphaFrontal  \\\n",
       "0               0          1       0             0  ...            0.13222   \n",
       "1               0          1       0             0  ...            0.13639   \n",
       "2               1          1       0             0  ...            0.19671   \n",
       "3               0          0       0             0  ...            0.20826   \n",
       "4               0          0       0             0  ...            0.21193   \n",
       "\n",
       "   LowerAlphaParietal  UpperAlphaFrontal  UpperAlphaParietal  BetaFrontal  \\\n",
       "0             0.08812            0.13469             0.08590      0.05499   \n",
       "1             0.08118            0.12483             0.07588      0.04060   \n",
       "2             0.11480            0.10121             0.09079      0.04339   \n",
       "3             0.12873            0.11832             0.11087      0.04872   \n",
       "4             0.14454            0.13428             0.13604      0.04173   \n",
       "\n",
       "   BetaParietal  LowerBetaFrontal  LowerBetaParietal  UpperBetaFrontal  \\\n",
       "0       0.04078           0.08419            0.06275           0.03722   \n",
       "1       0.02869           0.05951            0.04759           0.02963   \n",
       "2       0.02727           0.06250            0.04305           0.03296   \n",
       "3       0.02917           0.06894            0.04766           0.03627   \n",
       "4       0.02743           0.05937            0.04344           0.03132   \n",
       "\n",
       "   UpperBetaParietal  \n",
       "0            0.02711  \n",
       "1            0.01753  \n",
       "2            0.01751  \n",
       "3            0.01744  \n",
       "4            0.01762  \n",
       "\n",
       "[5 rows x 88 columns]"
      ]
     },
     "execution_count": 425,
     "metadata": {},
     "output_type": "execute_result"
    }
   ],
   "source": [
    "# Check first few rows of real track  dataset\n",
    "real_track_data.head()"
   ]
  },
  {
   "cell_type": "code",
   "execution_count": 426,
   "id": "b24e7da1-1f99-4e41-b21f-d058563f3a43",
   "metadata": {},
   "outputs": [
    {
     "data": {
      "text/html": [
       "<div>\n",
       "<style scoped>\n",
       "    .dataframe tbody tr th:only-of-type {\n",
       "        vertical-align: middle;\n",
       "    }\n",
       "\n",
       "    .dataframe tbody tr th {\n",
       "        vertical-align: top;\n",
       "    }\n",
       "\n",
       "    .dataframe thead th {\n",
       "        text-align: right;\n",
       "    }\n",
       "</style>\n",
       "<table border=\"1\" class=\"dataframe\">\n",
       "  <thead>\n",
       "    <tr style=\"text-align: right;\">\n",
       "      <th></th>\n",
       "      <th>subject</th>\n",
       "      <th>lap</th>\n",
       "      <th>start_time</th>\n",
       "      <th>straight</th>\n",
       "      <th>roundabout_entry</th>\n",
       "      <th>roundabout_exit</th>\n",
       "      <th>zebra_crossing</th>\n",
       "      <th>left_turn</th>\n",
       "      <th>u_turn</th>\n",
       "      <th>bypass_dummy</th>\n",
       "      <th>...</th>\n",
       "      <th>LowerAlphaFrontal</th>\n",
       "      <th>LowerAlphaParietal</th>\n",
       "      <th>UpperAlphaFrontal</th>\n",
       "      <th>UpperAlphaParietal</th>\n",
       "      <th>BetaFrontal</th>\n",
       "      <th>BetaParietal</th>\n",
       "      <th>LowerBetaFrontal</th>\n",
       "      <th>LowerBetaParietal</th>\n",
       "      <th>UpperBetaFrontal</th>\n",
       "      <th>UpperBetaParietal</th>\n",
       "    </tr>\n",
       "  </thead>\n",
       "  <tbody>\n",
       "    <tr>\n",
       "      <th>0</th>\n",
       "      <td>0AC2A4</td>\n",
       "      <td>1</td>\n",
       "      <td>13</td>\n",
       "      <td>1</td>\n",
       "      <td>0</td>\n",
       "      <td>0</td>\n",
       "      <td>1</td>\n",
       "      <td>0</td>\n",
       "      <td>0</td>\n",
       "      <td>0</td>\n",
       "      <td>...</td>\n",
       "      <td>0.12420</td>\n",
       "      <td>0.07737</td>\n",
       "      <td>0.12307</td>\n",
       "      <td>0.07681</td>\n",
       "      <td>0.05046</td>\n",
       "      <td>0.03492</td>\n",
       "      <td>0.07430</td>\n",
       "      <td>0.05289</td>\n",
       "      <td>0.03606</td>\n",
       "      <td>0.02393</td>\n",
       "    </tr>\n",
       "    <tr>\n",
       "      <th>1</th>\n",
       "      <td>0AC2A4</td>\n",
       "      <td>1</td>\n",
       "      <td>32</td>\n",
       "      <td>0</td>\n",
       "      <td>1</td>\n",
       "      <td>0</td>\n",
       "      <td>1</td>\n",
       "      <td>0</td>\n",
       "      <td>0</td>\n",
       "      <td>0</td>\n",
       "      <td>...</td>\n",
       "      <td>0.20402</td>\n",
       "      <td>0.10296</td>\n",
       "      <td>0.14606</td>\n",
       "      <td>0.10325</td>\n",
       "      <td>0.03636</td>\n",
       "      <td>0.02433</td>\n",
       "      <td>0.05822</td>\n",
       "      <td>0.04136</td>\n",
       "      <td>0.02535</td>\n",
       "      <td>0.01391</td>\n",
       "    </tr>\n",
       "    <tr>\n",
       "      <th>2</th>\n",
       "      <td>0AC2A4</td>\n",
       "      <td>1</td>\n",
       "      <td>36</td>\n",
       "      <td>0</td>\n",
       "      <td>0</td>\n",
       "      <td>1</td>\n",
       "      <td>1</td>\n",
       "      <td>0</td>\n",
       "      <td>0</td>\n",
       "      <td>0</td>\n",
       "      <td>...</td>\n",
       "      <td>0.20329</td>\n",
       "      <td>0.12355</td>\n",
       "      <td>0.09483</td>\n",
       "      <td>0.08173</td>\n",
       "      <td>0.04524</td>\n",
       "      <td>0.02847</td>\n",
       "      <td>0.06055</td>\n",
       "      <td>0.04321</td>\n",
       "      <td>0.03586</td>\n",
       "      <td>0.01923</td>\n",
       "    </tr>\n",
       "    <tr>\n",
       "      <th>3</th>\n",
       "      <td>0AC2A4</td>\n",
       "      <td>1</td>\n",
       "      <td>42</td>\n",
       "      <td>1</td>\n",
       "      <td>0</td>\n",
       "      <td>0</td>\n",
       "      <td>0</td>\n",
       "      <td>0</td>\n",
       "      <td>0</td>\n",
       "      <td>0</td>\n",
       "      <td>...</td>\n",
       "      <td>0.20325</td>\n",
       "      <td>0.12153</td>\n",
       "      <td>0.11255</td>\n",
       "      <td>0.10920</td>\n",
       "      <td>0.04928</td>\n",
       "      <td>0.02923</td>\n",
       "      <td>0.07192</td>\n",
       "      <td>0.04653</td>\n",
       "      <td>0.03536</td>\n",
       "      <td>0.01832</td>\n",
       "    </tr>\n",
       "    <tr>\n",
       "      <th>4</th>\n",
       "      <td>0AC2A4</td>\n",
       "      <td>1</td>\n",
       "      <td>52</td>\n",
       "      <td>1</td>\n",
       "      <td>0</td>\n",
       "      <td>0</td>\n",
       "      <td>0</td>\n",
       "      <td>0</td>\n",
       "      <td>1</td>\n",
       "      <td>0</td>\n",
       "      <td>...</td>\n",
       "      <td>0.19645</td>\n",
       "      <td>0.13454</td>\n",
       "      <td>0.13270</td>\n",
       "      <td>0.13759</td>\n",
       "      <td>0.04501</td>\n",
       "      <td>0.02943</td>\n",
       "      <td>0.06175</td>\n",
       "      <td>0.04715</td>\n",
       "      <td>0.03511</td>\n",
       "      <td>0.01838</td>\n",
       "    </tr>\n",
       "  </tbody>\n",
       "</table>\n",
       "<p>5 rows × 88 columns</p>\n",
       "</div>"
      ],
      "text/plain": [
       "  subject  lap  start_time  straight  roundabout_entry  roundabout_exit  \\\n",
       "0  0AC2A4    1          13         1                 0                0   \n",
       "1  0AC2A4    1          32         0                 1                0   \n",
       "2  0AC2A4    1          36         0                 0                1   \n",
       "3  0AC2A4    1          42         1                 0                0   \n",
       "4  0AC2A4    1          52         1                 0                0   \n",
       "\n",
       "   zebra_crossing  left_turn  u_turn  bypass_dummy  ...  LowerAlphaFrontal  \\\n",
       "0               1          0       0             0  ...            0.12420   \n",
       "1               1          0       0             0  ...            0.20402   \n",
       "2               1          0       0             0  ...            0.20329   \n",
       "3               0          0       0             0  ...            0.20325   \n",
       "4               0          0       1             0  ...            0.19645   \n",
       "\n",
       "   LowerAlphaParietal  UpperAlphaFrontal  UpperAlphaParietal  BetaFrontal  \\\n",
       "0             0.07737            0.12307             0.07681      0.05046   \n",
       "1             0.10296            0.14606             0.10325      0.03636   \n",
       "2             0.12355            0.09483             0.08173      0.04524   \n",
       "3             0.12153            0.11255             0.10920      0.04928   \n",
       "4             0.13454            0.13270             0.13759      0.04501   \n",
       "\n",
       "   BetaParietal  LowerBetaFrontal  LowerBetaParietal  UpperBetaFrontal  \\\n",
       "0       0.03492           0.07430            0.05289           0.03606   \n",
       "1       0.02433           0.05822            0.04136           0.02535   \n",
       "2       0.02847           0.06055            0.04321           0.03586   \n",
       "3       0.02923           0.07192            0.04653           0.03536   \n",
       "4       0.02943           0.06175            0.04715           0.03511   \n",
       "\n",
       "   UpperBetaParietal  \n",
       "0            0.02393  \n",
       "1            0.01391  \n",
       "2            0.01923  \n",
       "3            0.01832  \n",
       "4            0.01838  \n",
       "\n",
       "[5 rows x 88 columns]"
      ]
     },
     "execution_count": 426,
     "metadata": {},
     "output_type": "execute_result"
    }
   ],
   "source": [
    "# Simulated track data\n",
    "sim_track_data.head()"
   ]
  },
  {
   "cell_type": "code",
   "execution_count": 427,
   "id": "6f671bec-877c-4308-9346-2c1acf5c55b2",
   "metadata": {},
   "outputs": [
    {
     "data": {
      "text/plain": [
       "subject                0\n",
       "lap                    0\n",
       "start_time             0\n",
       "straight               0\n",
       "roundabout_entry       0\n",
       "                    ... \n",
       "BetaParietal         247\n",
       "LowerBetaFrontal     247\n",
       "LowerBetaParietal    247\n",
       "UpperBetaFrontal     247\n",
       "UpperBetaParietal    247\n",
       "Length: 88, dtype: int64"
      ]
     },
     "execution_count": 427,
     "metadata": {},
     "output_type": "execute_result"
    }
   ],
   "source": [
    "# Check for null values\n",
    "real_track_data.isnull().sum()"
   ]
  },
  {
   "cell_type": "code",
   "execution_count": 428,
   "id": "1527cead-9b22-49b7-9907-819dc6d63a9a",
   "metadata": {},
   "outputs": [
    {
     "data": {
      "text/plain": [
       "subject                0\n",
       "lap                    0\n",
       "start_time             0\n",
       "straight               0\n",
       "roundabout_entry       0\n",
       "                    ... \n",
       "BetaParietal         192\n",
       "LowerBetaFrontal     192\n",
       "LowerBetaParietal    192\n",
       "UpperBetaFrontal     192\n",
       "UpperBetaParietal    192\n",
       "Length: 88, dtype: int64"
      ]
     },
     "execution_count": 428,
     "metadata": {},
     "output_type": "execute_result"
    }
   ],
   "source": [
    "sim_track_data.isnull().sum()"
   ]
  },
  {
   "cell_type": "code",
   "execution_count": 429,
   "id": "bc56cf54-b1b1-4a08-bd79-19bf366fc2d0",
   "metadata": {},
   "outputs": [
    {
     "name": "stdout",
     "output_type": "stream",
     "text": [
      "Shape of real track data: (1056, 88)\n",
      "Shape of real track data: (1287, 88)\n"
     ]
    }
   ],
   "source": [
    "print(f\"Shape of real track data: {real_track_data.shape}\")\n",
    "print(f\"Shape of real track data: {sim_track_data.shape}\")"
   ]
  },
  {
   "cell_type": "code",
   "execution_count": 430,
   "id": "a3a29aaf-2540-4a0e-8176-8c5b9a44315e",
   "metadata": {},
   "outputs": [
    {
     "name": "stdout",
     "output_type": "stream",
     "text": [
      "subject 0\n",
      "lap 0\n",
      "start_time 0\n",
      "straight 0\n",
      "roundabout_entry 0\n",
      "roundabout_exit 0\n",
      "zebra_crossing 0\n",
      "left_turn 0\n",
      "u_turn 0\n",
      "bypass_dummy 0\n",
      "car 0\n",
      "pedestrian 0\n",
      "traffic_light 0\n",
      "narrow_road 0\n",
      "dummy 0\n",
      "bend 0\n",
      "habituation 0\n",
      "traffic 0\n",
      "hurry 0\n",
      "frustration 0\n",
      "surprise 0\n",
      "risk_outcome 0\n",
      "risk_source_env 0\n",
      "risk_source_other_usr 0\n",
      "risk_source_driver 0\n",
      "risk_source_crash 0\n",
      "risk_evaluation 0\n",
      "violation_no 0\n",
      "violation_roadside_invasion 0\n",
      "violation_give_the_way 0\n",
      "violation_road_signs 0\n",
      "violation_heavy_braking 0\n",
      "violation_roadside_exit 0\n",
      "violation_slowdown 0\n",
      "emotion_na 0\n",
      "emotion_neutral 0\n",
      "emotion_surprise 0\n",
      "emotion_anger 0\n",
      "emotion_boredom 0\n",
      "emotion_fear 0\n",
      "emotion_fun 0\n",
      "gaze_na 0\n",
      "gaze_complete_expl 0\n",
      "gaze_partial_expl 0\n",
      "gaze_poor_expl 0\n",
      "distraction_na 0\n",
      "distraction_no 0\n",
      "distraction_reduced_attention 0\n",
      "distraction_speaking 0\n",
      "max_speed 44\n",
      "avg_speed 44\n",
      "std_speed 44\n",
      "yaw 0\n",
      "yaw_rate 0\n",
      "roll 0\n",
      "roll_rate 0\n",
      "pitch 0\n",
      "pitch_rate 0\n",
      "lat_acce 0\n",
      "long_acce 0\n",
      "vert_acce 0\n",
      "avg_acce_pedal_pos 0\n",
      "std_acce_pedal_pos 0\n",
      "avg_steer_angle 0\n",
      "std_steer_angle 0\n",
      "hr 345\n",
      "hrv_lf 345\n",
      "hrv_hf 345\n",
      "hrv_lfhf_ratio 345\n",
      "gsr_tonic 240\n",
      "gsr_phasic 240\n",
      "gsr_peaks 240\n",
      "EBRmean 339\n",
      "BDmean 341\n",
      "ThetaFrontal 247\n",
      "ThetaParietal 247\n",
      "AlphaFrontal 247\n",
      "AlphaParietal 247\n",
      "LowerAlphaFrontal 247\n",
      "LowerAlphaParietal 247\n",
      "UpperAlphaFrontal 247\n",
      "UpperAlphaParietal 247\n",
      "BetaFrontal 247\n",
      "BetaParietal 247\n",
      "LowerBetaFrontal 247\n",
      "LowerBetaParietal 247\n",
      "UpperBetaFrontal 247\n",
      "UpperBetaParietal 247\n"
     ]
    }
   ],
   "source": [
    "for col in real_track_data.columns:\n",
    "    print(col, real_track_data[col].isnull().sum())"
   ]
  },
  {
   "cell_type": "markdown",
   "id": "cb3d4af2-6233-4baa-a00c-86ed4b7b1129",
   "metadata": {},
   "source": [
    "### Data Preprocessing and Feature Engineering\n",
    "- Fill null values\n",
    "- Select relevant features"
   ]
  },
  {
   "cell_type": "code",
   "execution_count": 431,
   "id": "2dde2f78-6057-4509-9371-76f42ebad294",
   "metadata": {},
   "outputs": [],
   "source": [
    "def fill_null_vals(dataset, groupby_col=\"subject\") -> pd.DataFrame:\n",
    "    for column in dataset.columns:\n",
    "        # Skip the column used for grouping\n",
    "        if column == groupby_col:\n",
    "            continue\n",
    "        # Apply group-specific mean for each column with missing values\n",
    "        dataset[column] = dataset.groupby(groupby_col)[column].transform(lambda x: x.fillna(x.mean()))\n",
    "    return dataset"
   ]
  },
  {
   "cell_type": "code",
   "execution_count": 432,
   "id": "121945af-765b-4324-bc36-5ab09c02ba43",
   "metadata": {},
   "outputs": [],
   "source": [
    "real_track_data_nulls_filled = fill_null_vals(real_track_data, \"subject\")"
   ]
  },
  {
   "cell_type": "code",
   "execution_count": 433,
   "id": "a242dd90-fa09-44e9-b9c7-4bd8c069ed8e",
   "metadata": {},
   "outputs": [
    {
     "name": "stdout",
     "output_type": "stream",
     "text": [
      "subject 0\n",
      "lap 0\n",
      "start_time 0\n",
      "straight 0\n",
      "roundabout_entry 0\n",
      "roundabout_exit 0\n",
      "zebra_crossing 0\n",
      "left_turn 0\n",
      "u_turn 0\n",
      "bypass_dummy 0\n",
      "car 0\n",
      "pedestrian 0\n",
      "traffic_light 0\n",
      "narrow_road 0\n",
      "dummy 0\n",
      "bend 0\n",
      "habituation 0\n",
      "traffic 0\n",
      "hurry 0\n",
      "frustration 0\n",
      "surprise 0\n",
      "risk_outcome 0\n",
      "risk_source_env 0\n",
      "risk_source_other_usr 0\n",
      "risk_source_driver 0\n",
      "risk_source_crash 0\n",
      "risk_evaluation 0\n",
      "violation_no 0\n",
      "violation_roadside_invasion 0\n",
      "violation_give_the_way 0\n",
      "violation_road_signs 0\n",
      "violation_heavy_braking 0\n",
      "violation_roadside_exit 0\n",
      "violation_slowdown 0\n",
      "emotion_na 0\n",
      "emotion_neutral 0\n",
      "emotion_surprise 0\n",
      "emotion_anger 0\n",
      "emotion_boredom 0\n",
      "emotion_fear 0\n",
      "emotion_fun 0\n",
      "gaze_na 0\n",
      "gaze_complete_expl 0\n",
      "gaze_partial_expl 0\n",
      "gaze_poor_expl 0\n",
      "distraction_na 0\n",
      "distraction_no 0\n",
      "distraction_reduced_attention 0\n",
      "distraction_speaking 0\n",
      "max_speed 0\n",
      "avg_speed 0\n",
      "std_speed 0\n",
      "yaw 0\n",
      "yaw_rate 0\n",
      "roll 0\n",
      "roll_rate 0\n",
      "pitch 0\n",
      "pitch_rate 0\n",
      "lat_acce 0\n",
      "long_acce 0\n",
      "vert_acce 0\n",
      "avg_acce_pedal_pos 0\n",
      "std_acce_pedal_pos 0\n",
      "avg_steer_angle 0\n",
      "std_steer_angle 0\n",
      "hr 77\n",
      "hrv_lf 77\n",
      "hrv_hf 77\n",
      "hrv_lfhf_ratio 77\n",
      "gsr_tonic 77\n",
      "gsr_phasic 77\n",
      "gsr_peaks 77\n",
      "EBRmean 77\n",
      "BDmean 77\n",
      "ThetaFrontal 77\n",
      "ThetaParietal 77\n",
      "AlphaFrontal 77\n",
      "AlphaParietal 77\n",
      "LowerAlphaFrontal 77\n",
      "LowerAlphaParietal 77\n",
      "UpperAlphaFrontal 77\n",
      "UpperAlphaParietal 77\n",
      "BetaFrontal 77\n",
      "BetaParietal 77\n",
      "LowerBetaFrontal 77\n",
      "LowerBetaParietal 77\n",
      "UpperBetaFrontal 77\n",
      "UpperBetaParietal 77\n"
     ]
    }
   ],
   "source": [
    "for col in real_track_data_nulls_filled.columns:\n",
    "    print(col, real_track_data_nulls_filled[col].isnull().sum())"
   ]
  },
  {
   "cell_type": "code",
   "execution_count": 434,
   "id": "e68c213d-cacc-4da6-8b67-a7d6447bcea1",
   "metadata": {},
   "outputs": [
    {
     "name": "stdout",
     "output_type": "stream",
     "text": [
      "subject 0\n",
      "lap 0\n",
      "start_time 0\n",
      "straight 0\n",
      "roundabout_entry 0\n",
      "roundabout_exit 0\n",
      "zebra_crossing 0\n",
      "left_turn 0\n",
      "u_turn 0\n",
      "bypass_dummy 0\n",
      "car 0\n",
      "pedestrian 0\n",
      "traffic_light 0\n",
      "narrow_road 0\n",
      "dummy 0\n",
      "bend 0\n",
      "habituation 0\n",
      "traffic 0\n",
      "hurry 0\n",
      "frustration 0\n",
      "surprise 0\n",
      "risk_outcome 0\n",
      "risk_source_env 0\n",
      "risk_source_other_usr 0\n",
      "risk_source_driver 0\n",
      "risk_source_crash 0\n",
      "risk_evaluation 0\n",
      "violation_no 0\n",
      "violation_roadside_invasion 0\n",
      "violation_give_the_way 0\n",
      "violation_road_signs 0\n",
      "violation_heavy_braking 0\n",
      "violation_roadside_exit 0\n",
      "violation_slowdown 0\n",
      "emotion_na 0\n",
      "emotion_neutral 0\n",
      "emotion_surprise 0\n",
      "emotion_anger 0\n",
      "emotion_boredom 0\n",
      "emotion_fear 0\n",
      "emotion_fun 0\n",
      "gaze_na 0\n",
      "gaze_complete_expl 0\n",
      "gaze_partial_expl 0\n",
      "gaze_poor_expl 0\n",
      "distraction_na 0\n",
      "distraction_no 0\n",
      "distraction_reduced_attention 0\n",
      "distraction_speaking 0\n",
      "max_speed 0\n",
      "avg_speed 0\n",
      "std_speed 0\n",
      "yaw 0\n",
      "yaw_rate 0\n",
      "roll 0\n",
      "roll_rate 0\n",
      "pitch 0\n",
      "pitch_rate 0\n",
      "lat_acce 0\n",
      "long_acce 0\n",
      "vert_acce 0\n",
      "avg_acce_pedal_pos 0\n",
      "std_acce_pedal_pos 0\n",
      "avg_steer_angle 0\n",
      "std_steer_angle 0\n",
      "hr 0\n",
      "hrv_lf 0\n",
      "hrv_hf 0\n",
      "hrv_lfhf_ratio 0\n",
      "gsr_tonic 0\n",
      "gsr_phasic 0\n",
      "gsr_peaks 0\n",
      "EBRmean 0\n",
      "BDmean 0\n",
      "ThetaFrontal 0\n",
      "ThetaParietal 0\n",
      "AlphaFrontal 0\n",
      "AlphaParietal 0\n",
      "LowerAlphaFrontal 0\n",
      "LowerAlphaParietal 0\n",
      "UpperAlphaFrontal 0\n",
      "UpperAlphaParietal 0\n",
      "BetaFrontal 0\n",
      "BetaParietal 0\n",
      "LowerBetaFrontal 0\n",
      "LowerBetaParietal 0\n",
      "UpperBetaFrontal 0\n",
      "UpperBetaParietal 0\n"
     ]
    }
   ],
   "source": [
    "sim_track_data_nulls_filled = fill_null_vals(sim_track_data)\n",
    "\n",
    "for col in sim_track_data_nulls_filled.columns:\n",
    "    print(col, sim_track_data_nulls_filled[col].isnull().sum())"
   ]
  },
  {
   "cell_type": "code",
   "execution_count": 435,
   "id": "c7cdae0d-d617-4600-b85b-3de69ea05a0c",
   "metadata": {},
   "outputs": [
    {
     "data": {
      "text/plain": [
       "subject\n",
       "0AC2A4    55\n",
       "13790E    55\n",
       "144282    66\n",
       "2268A5    77\n",
       "492488    77\n",
       "6B11F5    66\n",
       "8924EA    77\n",
       "92710E    55\n",
       "B410A4    66\n",
       "B570F8    77\n",
       "C1CE6B    77\n",
       "D4F190    44\n",
       "DCF930    55\n",
       "ED731A    77\n",
       "EDEB96    66\n",
       "F9D528    66\n",
       "dtype: int64"
      ]
     },
     "execution_count": 435,
     "metadata": {},
     "output_type": "execute_result"
    }
   ],
   "source": [
    "group_by_subject = real_track_data.groupby('subject')\n",
    "group_by_subject.size()"
   ]
  },
  {
   "cell_type": "code",
   "execution_count": 436,
   "id": "9530de86-d16e-4db2-b6a8-454cb38d15d6",
   "metadata": {},
   "outputs": [
    {
     "data": {
      "text/plain": [
       "array(['0AC2A4', '13790E', '144282', '2268A5', '6B11F5', '92710E',\n",
       "       'B410A4', 'B570F8', 'C1CE6B', 'D4F190', 'DCF930', 'ED731A',\n",
       "       'EDEB96', 'F9D528', '492488', '8924EA'], dtype=object)"
      ]
     },
     "execution_count": 436,
     "metadata": {},
     "output_type": "execute_result"
    }
   ],
   "source": [
    "real_track_data.subject.unique()"
   ]
  },
  {
   "cell_type": "code",
   "execution_count": 437,
   "id": "f7197549-ab3f-42d1-89b2-39b9223e0092",
   "metadata": {},
   "outputs": [
    {
     "name": "stdout",
     "output_type": "stream",
     "text": [
      "Groups with null values: ['B570F8']\n"
     ]
    }
   ],
   "source": [
    "group_has_null = real_track_data_nulls_filled.groupby('subject').apply(lambda x: x.isnull().any(axis=1).any())\n",
    "# Display groups that have null values\n",
    "groups_with_nulls = group_has_null[group_has_null].index.tolist()\n",
    "print(\"Groups with null values:\", groups_with_nulls)"
   ]
  },
  {
   "cell_type": "markdown",
   "id": "949e7ffe-5b69-4eab-bc7b-149823dc802b",
   "metadata": {},
   "source": [
    "#### As can be seen, there is one subject in the real track dataset which has null values for the neurophysiological features\n",
    "- We need to drop samples for this subject"
   ]
  },
  {
   "cell_type": "code",
   "execution_count": 438,
   "id": "8886ec1f-5dea-43df-ad9d-f2b52cffd71c",
   "metadata": {},
   "outputs": [
    {
     "data": {
      "text/plain": [
       "(979, 88)"
      ]
     },
     "execution_count": 438,
     "metadata": {},
     "output_type": "execute_result"
    }
   ],
   "source": [
    "# drop all rows with null values\n",
    "real_track_data_nulls_filled = real_data_nulls_filled.dropna()\n",
    "real_data_nulls_filled.shape"
   ]
  },
  {
   "cell_type": "code",
   "execution_count": 439,
   "id": "2723592f-b631-4e03-a565-825f70246712",
   "metadata": {},
   "outputs": [
    {
     "data": {
      "text/plain": [
       "(1287, 88)"
      ]
     },
     "execution_count": 439,
     "metadata": {},
     "output_type": "execute_result"
    }
   ],
   "source": [
    "# drop all rows with null values\n",
    "sim_data_nulls_filled = sim_data_nulls_filled.dropna()\n",
    "sim_data_nulls_filled.shape"
   ]
  },
  {
   "cell_type": "code",
   "execution_count": 440,
   "id": "e5c9258c-bf8f-4b8b-94dd-e6e4e6fda632",
   "metadata": {},
   "outputs": [
    {
     "name": "stdout",
     "output_type": "stream",
     "text": [
      "Groups with null values: []\n"
     ]
    }
   ],
   "source": [
    "group_has_null = sim_data_nulls_filled.groupby('subject').apply(lambda x: x.isnull().any(axis=1).any())\n",
    "# Display groups that have null values\n",
    "groups_with_nulls = group_has_null[group_has_null].index.tolist()\n",
    "print(\"Groups with null values:\", groups_with_nulls)"
   ]
  },
  {
   "cell_type": "markdown",
   "id": "4529f0e7-4944-4788-8400-04313e2a7e56",
   "metadata": {},
   "source": [
    "#### Feature selection"
   ]
  },
  {
   "cell_type": "code",
   "execution_count": 441,
   "id": "9468e9c0-ffa7-4b5e-90a8-874a3af2f806",
   "metadata": {},
   "outputs": [],
   "source": [
    "real_track_data_nulls_filled_copy = real_track_data_nulls_filled.drop(['subject'], axis=1)"
   ]
  },
  {
   "cell_type": "code",
   "execution_count": 442,
   "id": "14f45013-abe7-4e18-84c9-93a2b056ecdd",
   "metadata": {},
   "outputs": [],
   "source": [
    "# Calculate the correlation matrix\n",
    "corr_matrix = real_track_data_nulls_filled_copy.corr()\n",
    "\n",
    "# Initialize a list to store pairs of highly correlated features\n",
    "highly_correlated_features = []\n",
    "\n",
    "# Iterate over the correlation matrix\n",
    "for i in range(len(corr_matrix.columns)):\n",
    "    for j in range(i+1, len(corr_matrix.columns)): # Avoid repeating pairs and self-correlation\n",
    "        if np.abs(corr_matrix.iloc[i, j]) >= 0.9:\n",
    "            # If absolute correlation is 0.9 or more, add the pair to the list\n",
    "            highly_correlated_features.append((corr_matrix.columns[i], corr_matrix.columns[j]))"
   ]
  },
  {
   "cell_type": "code",
   "execution_count": 443,
   "id": "abd99f46-c576-48f8-b6a6-f8d145c54e00",
   "metadata": {},
   "outputs": [
    {
     "data": {
      "text/plain": [
       "[('risk_source_driver', 'risk_evaluation'),\n",
       " ('risk_source_driver', 'violation_no'),\n",
       " ('risk_evaluation', 'violation_no'),\n",
       " ('emotion_neutral', 'emotion_fun'),\n",
       " ('distraction_no', 'distraction_speaking'),\n",
       " ('yaw', 'lat_acce'),\n",
       " ('yaw', 'avg_steer_angle'),\n",
       " ('gsr_phasic', 'gsr_peaks'),\n",
       " ('ThetaFrontal', 'LowerAlphaFrontal'),\n",
       " ('AlphaFrontal', 'LowerAlphaFrontal'),\n",
       " ('AlphaFrontal', 'UpperAlphaFrontal'),\n",
       " ('AlphaParietal', 'LowerAlphaParietal'),\n",
       " ('AlphaParietal', 'UpperAlphaParietal'),\n",
       " ('BetaFrontal', 'LowerBetaFrontal'),\n",
       " ('BetaFrontal', 'UpperBetaFrontal'),\n",
       " ('BetaParietal', 'LowerBetaParietal'),\n",
       " ('BetaParietal', 'UpperBetaParietal'),\n",
       " ('LowerBetaFrontal', 'UpperBetaFrontal')]"
      ]
     },
     "execution_count": 443,
     "metadata": {},
     "output_type": "execute_result"
    }
   ],
   "source": [
    "highly_correlated_features"
   ]
  },
  {
   "cell_type": "code",
   "execution_count": 454,
   "id": "9a3489e7-1146-4837-9727-4a9ce68ccb09",
   "metadata": {},
   "outputs": [],
   "source": [
    "# Features to train model on\n",
    "selected_cols = [\n",
    "    #'lap',\n",
    "    #'start_time',\n",
    "    'straight',\n",
    "    'roundabout_entry',\n",
    "    'roundabout_exit',\n",
    "    'zebra_crossing',\n",
    "    'left_turn',\n",
    "    'u_turn',\n",
    "    'bypass_dummy',\n",
    "    'car',\n",
    "    'pedestrian',\n",
    "    'traffic_light',\n",
    "    'narrow_road',\n",
    "    'dummy',\n",
    "    'bend',\n",
    "    'habituation',\n",
    "    'traffic',\n",
    "    #'hurry',\n",
    "    'frustration',\n",
    "    #'surprise',\n",
    "    'risk_outcome',\n",
    "    'risk_source_env',\n",
    "    'risk_source_other_usr',\n",
    "    'risk_source_driver',\n",
    "    'risk_source_crash',\n",
    "    'violation_roadside_invasion',\n",
    "    'violation_give_the_way',\n",
    "    'violation_road_signs',\n",
    "    'violation_heavy_braking',\n",
    "    'violation_roadside_exit',\n",
    "    'violation_slowdown',\n",
    "    'emotion_na',\n",
    "    'emotion_neutral',\n",
    "    'emotion_surprise',\n",
    "    'emotion_anger',\n",
    "    'emotion_boredom',\n",
    "    'emotion_fear',\n",
    "    'gaze_na',\n",
    "    'gaze_complete_expl',\n",
    "    'gaze_partial_expl',\n",
    "    'gaze_poor_expl',\n",
    "    'distraction_na',\n",
    "    'distraction_no',\n",
    "    'distraction_reduced_attention',\n",
    "    'max_speed',\n",
    "    'avg_speed',\n",
    "    'std_speed',\n",
    "    'yaw',\n",
    "    'yaw_rate',\n",
    "    'roll',\n",
    "    'roll_rate',\n",
    "    'pitch',\n",
    "    'pitch_rate',\n",
    "    'long_acce',\n",
    "    'vert_acce',\n",
    "    'avg_acce_pedal_pos',\n",
    "    'std_acce_pedal_pos',\n",
    "    'std_steer_angle',\n",
    "    'hr',\n",
    "    'hrv_lf',\n",
    "    'hrv_hf',\n",
    "    'hrv_lfhf_ratio',\n",
    "    'gsr_tonic',\n",
    "    'gsr_phasic',\n",
    "    'EBRmean',\n",
    "    'BDmean',\n",
    "    'ThetaFrontal',\n",
    "    'ThetaParietal',\n",
    "    'AlphaFrontal',\n",
    "    'AlphaParietal',\n",
    "    'BetaFrontal',\n",
    "    'BetaParietal',\n",
    "]"
   ]
  },
  {
   "cell_type": "code",
   "execution_count": 455,
   "id": "66be785d-38c1-4bc1-9459-8d6590374058",
   "metadata": {},
   "outputs": [
    {
     "data": {
      "text/plain": [
       "(979, 68)"
      ]
     },
     "execution_count": 455,
     "metadata": {},
     "output_type": "execute_result"
    }
   ],
   "source": [
    "r_data = real_data_nulls_filled[selected_cols]\n",
    "r_data.shape"
   ]
  },
  {
   "cell_type": "code",
   "execution_count": 456,
   "id": "2c359147-90c4-441d-8c01-189f59dad767",
   "metadata": {},
   "outputs": [],
   "source": [
    "X = r_data.drop(['frustration'], axis=1)\n",
    "y = r_data['frustration']"
   ]
  },
  {
   "cell_type": "code",
   "execution_count": 457,
   "id": "8ec987ee-e13a-4868-a44d-1b160fd113e8",
   "metadata": {},
   "outputs": [],
   "source": [
    "target = y.map({1: 1, 2: 0})"
   ]
  },
  {
   "cell_type": "markdown",
   "id": "bb283664-39d1-4774-b6bf-2dccca4b7dc0",
   "metadata": {},
   "source": [
    "### Train-Test-Split"
   ]
  },
  {
   "cell_type": "code",
   "execution_count": 458,
   "id": "f71f0240-6a39-4076-97e2-41eb0b948ec5",
   "metadata": {},
   "outputs": [],
   "source": [
    "X_train, X_test, y_train, y_test = train_test_split(X, target, stratify=target, test_size=0.2, random_state=42)"
   ]
  },
  {
   "cell_type": "markdown",
   "id": "72b4bb4b-cc1d-4b5d-ad38-0e39b4b95581",
   "metadata": {},
   "source": [
    "### Modelling"
   ]
  },
  {
   "cell_type": "code",
   "execution_count": 459,
   "id": "5278012b-9ab5-452c-a1f0-dd445f4ff8e7",
   "metadata": {},
   "outputs": [],
   "source": [
    "xgb_clf = XGBClassifier(eval_metric='logloss')"
   ]
  },
  {
   "cell_type": "code",
   "execution_count": 460,
   "id": "6dab57db-eaf0-4c37-89bb-bebd8b1ad659",
   "metadata": {},
   "outputs": [],
   "source": [
    "# Perform 5-fold cross-validation\n",
    "cv_scores = cross_val_score(xgb_clf, X_train, y_train, cv=5)"
   ]
  },
  {
   "cell_type": "code",
   "execution_count": 461,
   "id": "526ef4d5-3358-4295-9555-a443aeaf9a9b",
   "metadata": {},
   "outputs": [
    {
     "data": {
      "text/html": [
       "<style>#sk-container-id-16 {color: black;}#sk-container-id-16 pre{padding: 0;}#sk-container-id-16 div.sk-toggleable {background-color: white;}#sk-container-id-16 label.sk-toggleable__label {cursor: pointer;display: block;width: 100%;margin-bottom: 0;padding: 0.3em;box-sizing: border-box;text-align: center;}#sk-container-id-16 label.sk-toggleable__label-arrow:before {content: \"▸\";float: left;margin-right: 0.25em;color: #696969;}#sk-container-id-16 label.sk-toggleable__label-arrow:hover:before {color: black;}#sk-container-id-16 div.sk-estimator:hover label.sk-toggleable__label-arrow:before {color: black;}#sk-container-id-16 div.sk-toggleable__content {max-height: 0;max-width: 0;overflow: hidden;text-align: left;background-color: #f0f8ff;}#sk-container-id-16 div.sk-toggleable__content pre {margin: 0.2em;color: black;border-radius: 0.25em;background-color: #f0f8ff;}#sk-container-id-16 input.sk-toggleable__control:checked~div.sk-toggleable__content {max-height: 200px;max-width: 100%;overflow: auto;}#sk-container-id-16 input.sk-toggleable__control:checked~label.sk-toggleable__label-arrow:before {content: \"▾\";}#sk-container-id-16 div.sk-estimator input.sk-toggleable__control:checked~label.sk-toggleable__label {background-color: #d4ebff;}#sk-container-id-16 div.sk-label input.sk-toggleable__control:checked~label.sk-toggleable__label {background-color: #d4ebff;}#sk-container-id-16 input.sk-hidden--visually {border: 0;clip: rect(1px 1px 1px 1px);clip: rect(1px, 1px, 1px, 1px);height: 1px;margin: -1px;overflow: hidden;padding: 0;position: absolute;width: 1px;}#sk-container-id-16 div.sk-estimator {font-family: monospace;background-color: #f0f8ff;border: 1px dotted black;border-radius: 0.25em;box-sizing: border-box;margin-bottom: 0.5em;}#sk-container-id-16 div.sk-estimator:hover {background-color: #d4ebff;}#sk-container-id-16 div.sk-parallel-item::after {content: \"\";width: 100%;border-bottom: 1px solid gray;flex-grow: 1;}#sk-container-id-16 div.sk-label:hover label.sk-toggleable__label {background-color: #d4ebff;}#sk-container-id-16 div.sk-serial::before {content: \"\";position: absolute;border-left: 1px solid gray;box-sizing: border-box;top: 0;bottom: 0;left: 50%;z-index: 0;}#sk-container-id-16 div.sk-serial {display: flex;flex-direction: column;align-items: center;background-color: white;padding-right: 0.2em;padding-left: 0.2em;position: relative;}#sk-container-id-16 div.sk-item {position: relative;z-index: 1;}#sk-container-id-16 div.sk-parallel {display: flex;align-items: stretch;justify-content: center;background-color: white;position: relative;}#sk-container-id-16 div.sk-item::before, #sk-container-id-16 div.sk-parallel-item::before {content: \"\";position: absolute;border-left: 1px solid gray;box-sizing: border-box;top: 0;bottom: 0;left: 50%;z-index: -1;}#sk-container-id-16 div.sk-parallel-item {display: flex;flex-direction: column;z-index: 1;position: relative;background-color: white;}#sk-container-id-16 div.sk-parallel-item:first-child::after {align-self: flex-end;width: 50%;}#sk-container-id-16 div.sk-parallel-item:last-child::after {align-self: flex-start;width: 50%;}#sk-container-id-16 div.sk-parallel-item:only-child::after {width: 0;}#sk-container-id-16 div.sk-dashed-wrapped {border: 1px dashed gray;margin: 0 0.4em 0.5em 0.4em;box-sizing: border-box;padding-bottom: 0.4em;background-color: white;}#sk-container-id-16 div.sk-label label {font-family: monospace;font-weight: bold;display: inline-block;line-height: 1.2em;}#sk-container-id-16 div.sk-label-container {text-align: center;}#sk-container-id-16 div.sk-container {/* jupyter's `normalize.less` sets `[hidden] { display: none; }` but bootstrap.min.css set `[hidden] { display: none !important; }` so we also need the `!important` here to be able to override the default hidden behavior on the sphinx rendered scikit-learn.org. See: https://github.com/scikit-learn/scikit-learn/issues/21755 */display: inline-block !important;position: relative;}#sk-container-id-16 div.sk-text-repr-fallback {display: none;}</style><div id=\"sk-container-id-16\" class=\"sk-top-container\"><div class=\"sk-text-repr-fallback\"><pre>XGBClassifier(base_score=None, booster=None, callbacks=None,\n",
       "              colsample_bylevel=None, colsample_bynode=None,\n",
       "              colsample_bytree=None, early_stopping_rounds=None,\n",
       "              enable_categorical=False, eval_metric=&#x27;logloss&#x27;,\n",
       "              feature_types=None, gamma=None, gpu_id=None, grow_policy=None,\n",
       "              importance_type=None, interaction_constraints=None,\n",
       "              learning_rate=None, max_bin=None, max_cat_threshold=None,\n",
       "              max_cat_to_onehot=None, max_delta_step=None, max_depth=None,\n",
       "              max_leaves=None, min_child_weight=None, missing=nan,\n",
       "              monotone_constraints=None, n_estimators=100, n_jobs=None,\n",
       "              num_parallel_tree=None, predictor=None, random_state=None, ...)</pre><b>In a Jupyter environment, please rerun this cell to show the HTML representation or trust the notebook. <br />On GitHub, the HTML representation is unable to render, please try loading this page with nbviewer.org.</b></div><div class=\"sk-container\" hidden><div class=\"sk-item\"><div class=\"sk-estimator sk-toggleable\"><input class=\"sk-toggleable__control sk-hidden--visually\" id=\"sk-estimator-id-16\" type=\"checkbox\" checked><label for=\"sk-estimator-id-16\" class=\"sk-toggleable__label sk-toggleable__label-arrow\">XGBClassifier</label><div class=\"sk-toggleable__content\"><pre>XGBClassifier(base_score=None, booster=None, callbacks=None,\n",
       "              colsample_bylevel=None, colsample_bynode=None,\n",
       "              colsample_bytree=None, early_stopping_rounds=None,\n",
       "              enable_categorical=False, eval_metric=&#x27;logloss&#x27;,\n",
       "              feature_types=None, gamma=None, gpu_id=None, grow_policy=None,\n",
       "              importance_type=None, interaction_constraints=None,\n",
       "              learning_rate=None, max_bin=None, max_cat_threshold=None,\n",
       "              max_cat_to_onehot=None, max_delta_step=None, max_depth=None,\n",
       "              max_leaves=None, min_child_weight=None, missing=nan,\n",
       "              monotone_constraints=None, n_estimators=100, n_jobs=None,\n",
       "              num_parallel_tree=None, predictor=None, random_state=None, ...)</pre></div></div></div></div></div>"
      ],
      "text/plain": [
       "XGBClassifier(base_score=None, booster=None, callbacks=None,\n",
       "              colsample_bylevel=None, colsample_bynode=None,\n",
       "              colsample_bytree=None, early_stopping_rounds=None,\n",
       "              enable_categorical=False, eval_metric='logloss',\n",
       "              feature_types=None, gamma=None, gpu_id=None, grow_policy=None,\n",
       "              importance_type=None, interaction_constraints=None,\n",
       "              learning_rate=None, max_bin=None, max_cat_threshold=None,\n",
       "              max_cat_to_onehot=None, max_delta_step=None, max_depth=None,\n",
       "              max_leaves=None, min_child_weight=None, missing=nan,\n",
       "              monotone_constraints=None, n_estimators=100, n_jobs=None,\n",
       "              num_parallel_tree=None, predictor=None, random_state=None, ...)"
      ]
     },
     "execution_count": 461,
     "metadata": {},
     "output_type": "execute_result"
    }
   ],
   "source": [
    "xgb_clf.fit(X_train, y_train)"
   ]
  },
  {
   "cell_type": "code",
   "execution_count": 462,
   "id": "7611b7aa-a846-4c6f-97c4-02cc00428213",
   "metadata": {},
   "outputs": [
    {
     "name": "stdout",
     "output_type": "stream",
     "text": [
      "Accuracy scores for each fold:\n",
      "[0.92993631 0.92356688 0.93630573 0.93589744 0.96153846]\n"
     ]
    }
   ],
   "source": [
    "# Print the accuracy for each fold\n",
    "print(\"Accuracy scores for each fold:\")\n",
    "print(cv_scores)"
   ]
  },
  {
   "cell_type": "code",
   "execution_count": 463,
   "id": "c890b603-78b6-4b50-95cd-0c8b37735375",
   "metadata": {},
   "outputs": [
    {
     "data": {
      "text/plain": [
       "array([0.04766164, 0.        , 0.        , 0.        , 0.        ,\n",
       "       0.        , 0.        , 0.00075027, 0.        , 0.03614046,\n",
       "       0.        , 0.        , 0.        , 0.0148737 , 0.22137982,\n",
       "       0.0042936 , 0.        , 0.        , 0.        , 0.        ,\n",
       "       0.        , 0.00440622, 0.        , 0.        , 0.        ,\n",
       "       0.        , 0.        , 0.        , 0.        , 0.        ,\n",
       "       0.        , 0.        , 0.        , 0.        , 0.        ,\n",
       "       0.        , 0.        , 0.        , 0.        , 0.00617463,\n",
       "       0.01438417, 0.01353789, 0.01209367, 0.01508176, 0.01406299,\n",
       "       0.01747365, 0.04828705, 0.00873407, 0.02830798, 0.01732875,\n",
       "       0.04452563, 0.06237828, 0.00930042, 0.04310877, 0.0025696 ,\n",
       "       0.00203873, 0.00346511, 0.01545314, 0.01674925, 0.0183356 ,\n",
       "       0.0107562 , 0.01040529, 0.03436508, 0.02643615, 0.13620211,\n",
       "       0.0222297 , 0.01670857], dtype=float32)"
      ]
     },
     "execution_count": 463,
     "metadata": {},
     "output_type": "execute_result"
    }
   ],
   "source": [
    "feature_importances = xgb_clf.feature_importances_\n",
    "feature_importances"
   ]
  },
  {
   "cell_type": "code",
   "execution_count": 464,
   "id": "a01e6a3e-f71e-4c6b-9d61-eddf93a42a27",
   "metadata": {},
   "outputs": [
    {
     "data": {
      "text/plain": [
       "<Figure size 1000x500 with 0 Axes>"
      ]
     },
     "metadata": {},
     "output_type": "display_data"
    },
    {
     "data": {
      "image/png": "[encoded data removed]",
      "text/plain": [
       "<Figure size 640x480 with 1 Axes>"
      ]
     },
     "metadata": {},
     "output_type": "display_data"
    }
   ],
   "source": [
    "# Plot feature importances\n",
    "plt.figure(figsize=(10, 5))\n",
    "plot_importance(xgb_clf, importance_type='weight', title='Feature Importance')\n",
    "plt.show()"
   ]
  },
  {
   "cell_type": "code",
   "execution_count": 465,
   "id": "1d9a5a96-9e7f-415a-873f-9846ffa5b786",
   "metadata": {},
   "outputs": [],
   "source": [
    "preds = xgb_clf.predict(X_test)"
   ]
  },
  {
   "cell_type": "code",
   "execution_count": 466,
   "id": "82164aa6-215f-4a86-bac8-7f681b6cd12f",
   "metadata": {},
   "outputs": [
    {
     "name": "stdout",
     "output_type": "stream",
     "text": [
      "              precision    recall  f1-score   support\n",
      "\n",
      "           0       0.97      0.96      0.97       163\n",
      "           1       0.82      0.85      0.84        33\n",
      "\n",
      "    accuracy                           0.94       196\n",
      "   macro avg       0.90      0.91      0.90       196\n",
      "weighted avg       0.94      0.94      0.94       196\n",
      "\n"
     ]
    }
   ],
   "source": [
    "print(classification_report(y_test, preds))"
   ]
  },
  {
   "cell_type": "code",
   "execution_count": 467,
   "id": "58e1b1e6-6463-4dc3-9431-3f5b930facca",
   "metadata": {},
   "outputs": [
    {
     "data": {
      "image/png": "[encoded data removed]",
      "text/plain": [
       "<Figure size 640x480 with 2 Axes>"
      ]
     },
     "metadata": {},
     "output_type": "display_data"
    }
   ],
   "source": [
    "cm =confusion_matrix(y_test, preds, labels=xgb_clf.classes_)\n",
    "disp = ConfusionMatrixDisplay(confusion_matrix=cm, display_labels=xgb_clf.classes_)\n",
    "disp.plot()\n",
    "plt.show()"
   ]
  },
  {
   "cell_type": "markdown",
   "id": "e8082997-348a-48e4-a025-0485a9911dde",
   "metadata": {},
   "source": [
    "### Train a set of different ML models and compare how they perform on the real dataset"
   ]
  },
  {
   "cell_type": "code",
   "execution_count": 468,
   "id": "49de0366-e5b9-452d-a826-c0b3ad6cc946",
   "metadata": {},
   "outputs": [],
   "source": [
    "models = {\n",
    "    'LogisticRegression':LogisticRegression(),\n",
    "    'BaggingClassifier': BaggingClassifier(),\n",
    "    'DecisionTreeClassifier': DecisionTreeClassifier(),\n",
    "    'LinearSVC':LinearSVC(),\n",
    "    'SGDClassifier':SGDClassifier(),\n",
    "    'KNeighborsClassifier':KNeighborsClassifier(),\n",
    "    'RandomForestClassifier':RandomForestClassifier(),\n",
    "    'GradientBoostingClassifier':GradientBoostingClassifier(),\n",
    "    \"SVC\":SVC(),\n",
    "    \"GaussianProcessClassifier\": GaussianProcessClassifier(),\n",
    "    \"MLPClassifier\": MLPClassifier(),\n",
    "    \"AdaBoostClassifier\": AdaBoostClassifier(),\n",
    "    \"GaussianNB\":GaussianNB(),\n",
    "    \"QuadraticDiscriminantAnalysis\":QuadraticDiscriminantAnalysis(),\n",
    "    \"XGBOOST\": XGBClassifier()\n",
    "}"
   ]
  },
  {
   "cell_type": "code",
   "execution_count": 469,
   "id": "a9010981-3922-4ec1-819a-8b0c7094022d",
   "metadata": {},
   "outputs": [],
   "source": [
    "real_track_dataset_performance = pd.DataFrame(columns=[\"Train Accuracy\",\"Test Accuracy\"], index=list(models.keys()))"
   ]
  },
  {
   "cell_type": "code",
   "execution_count": 470,
   "id": "cb6aa342-0cde-4205-b003-143eed1deed2",
   "metadata": {},
   "outputs": [],
   "source": [
    "for name, model in models.items():\n",
    "    # Train the model\n",
    "    model.fit(X_train, y_train)\n",
    "\n",
    "    # Make predictions on the test set\n",
    "    y_train_pred = model.predict(X_train)\n",
    "    y_test_pred = model.predict(X_test)\n",
    "\n",
    "    # Calculate evaluation metrics\n",
    "    test_accuracy = accuracy_score(y_test, y_test_pred)\n",
    "    train_accuracy = accuracy_score(y_train, y_train_pred)\n",
    "\n",
    "    #Save Test and Training Accuracies\n",
    "    real_track_dataset_performance.loc[name, :] = [train_accuracy,test_accuracy]"
   ]
  },
  {
   "cell_type": "code",
   "execution_count": 471,
   "id": "22257112-eb39-41cd-91e5-2c15d1e0621b",
   "metadata": {},
   "outputs": [
    {
     "data": {
      "text/html": [
       "<div>\n",
       "<style scoped>\n",
       "    .dataframe tbody tr th:only-of-type {\n",
       "        vertical-align: middle;\n",
       "    }\n",
       "\n",
       "    .dataframe tbody tr th {\n",
       "        vertical-align: top;\n",
       "    }\n",
       "\n",
       "    .dataframe thead th {\n",
       "        text-align: right;\n",
       "    }\n",
       "</style>\n",
       "<table border=\"1\" class=\"dataframe\">\n",
       "  <thead>\n",
       "    <tr style=\"text-align: right;\">\n",
       "      <th></th>\n",
       "      <th>Train Accuracy</th>\n",
       "      <th>Test Accuracy</th>\n",
       "    </tr>\n",
       "  </thead>\n",
       "  <tbody>\n",
       "    <tr>\n",
       "      <th>XGBOOST</th>\n",
       "      <td>1.0</td>\n",
       "      <td>0.943878</td>\n",
       "    </tr>\n",
       "    <tr>\n",
       "      <th>GradientBoostingClassifier</th>\n",
       "      <td>1.0</td>\n",
       "      <td>0.938776</td>\n",
       "    </tr>\n",
       "    <tr>\n",
       "      <th>AdaBoostClassifier</th>\n",
       "      <td>1.0</td>\n",
       "      <td>0.938776</td>\n",
       "    </tr>\n",
       "    <tr>\n",
       "      <th>RandomForestClassifier</th>\n",
       "      <td>1.0</td>\n",
       "      <td>0.923469</td>\n",
       "    </tr>\n",
       "    <tr>\n",
       "      <th>MLPClassifier</th>\n",
       "      <td>0.954023</td>\n",
       "      <td>0.923469</td>\n",
       "    </tr>\n",
       "    <tr>\n",
       "      <th>LogisticRegression</th>\n",
       "      <td>0.916986</td>\n",
       "      <td>0.903061</td>\n",
       "    </tr>\n",
       "    <tr>\n",
       "      <th>BaggingClassifier</th>\n",
       "      <td>0.99106</td>\n",
       "      <td>0.897959</td>\n",
       "    </tr>\n",
       "    <tr>\n",
       "      <th>DecisionTreeClassifier</th>\n",
       "      <td>1.0</td>\n",
       "      <td>0.872449</td>\n",
       "    </tr>\n",
       "    <tr>\n",
       "      <th>LinearSVC</th>\n",
       "      <td>0.90166</td>\n",
       "      <td>0.872449</td>\n",
       "    </tr>\n",
       "    <tr>\n",
       "      <th>QuadraticDiscriminantAnalysis</th>\n",
       "      <td>0.909323</td>\n",
       "      <td>0.857143</td>\n",
       "    </tr>\n",
       "    <tr>\n",
       "      <th>SVC</th>\n",
       "      <td>0.832695</td>\n",
       "      <td>0.831633</td>\n",
       "    </tr>\n",
       "    <tr>\n",
       "      <th>KNeighborsClassifier</th>\n",
       "      <td>0.8659</td>\n",
       "      <td>0.821429</td>\n",
       "    </tr>\n",
       "    <tr>\n",
       "      <th>GaussianProcessClassifier</th>\n",
       "      <td>1.0</td>\n",
       "      <td>0.816327</td>\n",
       "    </tr>\n",
       "    <tr>\n",
       "      <th>GaussianNB</th>\n",
       "      <td>0.794381</td>\n",
       "      <td>0.80102</td>\n",
       "    </tr>\n",
       "    <tr>\n",
       "      <th>SGDClassifier</th>\n",
       "      <td>0.782886</td>\n",
       "      <td>0.77551</td>\n",
       "    </tr>\n",
       "  </tbody>\n",
       "</table>\n",
       "</div>"
      ],
      "text/plain": [
       "                              Train Accuracy Test Accuracy\n",
       "XGBOOST                                  1.0      0.943878\n",
       "GradientBoostingClassifier               1.0      0.938776\n",
       "AdaBoostClassifier                       1.0      0.938776\n",
       "RandomForestClassifier                   1.0      0.923469\n",
       "MLPClassifier                       0.954023      0.923469\n",
       "LogisticRegression                  0.916986      0.903061\n",
       "BaggingClassifier                    0.99106      0.897959\n",
       "DecisionTreeClassifier                   1.0      0.872449\n",
       "LinearSVC                            0.90166      0.872449\n",
       "QuadraticDiscriminantAnalysis       0.909323      0.857143\n",
       "SVC                                 0.832695      0.831633\n",
       "KNeighborsClassifier                  0.8659      0.821429\n",
       "GaussianProcessClassifier                1.0      0.816327\n",
       "GaussianNB                          0.794381       0.80102\n",
       "SGDClassifier                       0.782886       0.77551"
      ]
     },
     "execution_count": 471,
     "metadata": {},
     "output_type": "execute_result"
    }
   ],
   "source": [
    "real_track_dataset_performance.sort_values(by=['Test Accuracy'], ascending=False)"
   ]
  },
  {
   "cell_type": "code",
   "execution_count": 472,
   "id": "1073e527-130a-48bb-a727-e4b898c8ad59",
   "metadata": {},
   "outputs": [],
   "source": [
    "### Modelling on the simulated dataset"
   ]
  },
  {
   "cell_type": "code",
   "execution_count": 477,
   "id": "4d046d4a-5bd2-4b6c-aaf8-ed043915d7c5",
   "metadata": {},
   "outputs": [
    {
     "data": {
      "text/plain": [
       "(1287, 68)"
      ]
     },
     "execution_count": 477,
     "metadata": {},
     "output_type": "execute_result"
    }
   ],
   "source": [
    "s_data = sim_track_data_nulls_filled[selected_cols]\n",
    "s_data.shape"
   ]
  },
  {
   "cell_type": "code",
   "execution_count": 478,
   "id": "85b6414f-4087-4bfc-b736-660c848443f0",
   "metadata": {},
   "outputs": [],
   "source": [
    "S_data = s_data.drop(['frustration'], axis=1)\n",
    "S_y  = s_data[\"frustration\"]\n",
    "s_tartget = S_y.map({1:1, 2:0})"
   ]
  },
  {
   "cell_type": "code",
   "execution_count": 479,
   "id": "b7e53d13-90b8-4247-9615-010318f94402",
   "metadata": {},
   "outputs": [
    {
     "data": {
      "text/plain": [
       "frustration\n",
       "0    1084\n",
       "1     203\n",
       "Name: count, dtype: int64"
      ]
     },
     "execution_count": 479,
     "metadata": {},
     "output_type": "execute_result"
    }
   ],
   "source": [
    "s_tartget.value_counts()"
   ]
  },
  {
   "cell_type": "code",
   "execution_count": 480,
   "id": "582ed0c2-39d7-45f7-9bfb-2a78106992dd",
   "metadata": {},
   "outputs": [],
   "source": [
    "S_train, S_test, y_train_s, y_test_s = train_test_split(S_data, s_tartget, test_size=0.2, random_state=42)"
   ]
  },
  {
   "cell_type": "code",
   "execution_count": 481,
   "id": "ab73b138-3fd1-47d4-b142-a413789ff7ff",
   "metadata": {},
   "outputs": [],
   "source": [
    "xgb_clf_s = XGBClassifier(eval_metric='logloss')"
   ]
  },
  {
   "cell_type": "code",
   "execution_count": 482,
   "id": "f5dd8bfc-7ecc-4563-8036-eb28ea6c80e7",
   "metadata": {},
   "outputs": [
    {
     "data": {
      "text/html": [
       "<style>#sk-container-id-17 {color: black;}#sk-container-id-17 pre{padding: 0;}#sk-container-id-17 div.sk-toggleable {background-color: white;}#sk-container-id-17 label.sk-toggleable__label {cursor: pointer;display: block;width: 100%;margin-bottom: 0;padding: 0.3em;box-sizing: border-box;text-align: center;}#sk-container-id-17 label.sk-toggleable__label-arrow:before {content: \"▸\";float: left;margin-right: 0.25em;color: #696969;}#sk-container-id-17 label.sk-toggleable__label-arrow:hover:before {color: black;}#sk-container-id-17 div.sk-estimator:hover label.sk-toggleable__label-arrow:before {color: black;}#sk-container-id-17 div.sk-toggleable__content {max-height: 0;max-width: 0;overflow: hidden;text-align: left;background-color: #f0f8ff;}#sk-container-id-17 div.sk-toggleable__content pre {margin: 0.2em;color: black;border-radius: 0.25em;background-color: #f0f8ff;}#sk-container-id-17 input.sk-toggleable__control:checked~div.sk-toggleable__content {max-height: 200px;max-width: 100%;overflow: auto;}#sk-container-id-17 input.sk-toggleable__control:checked~label.sk-toggleable__label-arrow:before {content: \"▾\";}#sk-container-id-17 div.sk-estimator input.sk-toggleable__control:checked~label.sk-toggleable__label {background-color: #d4ebff;}#sk-container-id-17 div.sk-label input.sk-toggleable__control:checked~label.sk-toggleable__label {background-color: #d4ebff;}#sk-container-id-17 input.sk-hidden--visually {border: 0;clip: rect(1px 1px 1px 1px);clip: rect(1px, 1px, 1px, 1px);height: 1px;margin: -1px;overflow: hidden;padding: 0;position: absolute;width: 1px;}#sk-container-id-17 div.sk-estimator {font-family: monospace;background-color: #f0f8ff;border: 1px dotted black;border-radius: 0.25em;box-sizing: border-box;margin-bottom: 0.5em;}#sk-container-id-17 div.sk-estimator:hover {background-color: #d4ebff;}#sk-container-id-17 div.sk-parallel-item::after {content: \"\";width: 100%;border-bottom: 1px solid gray;flex-grow: 1;}#sk-container-id-17 div.sk-label:hover label.sk-toggleable__label {background-color: #d4ebff;}#sk-container-id-17 div.sk-serial::before {content: \"\";position: absolute;border-left: 1px solid gray;box-sizing: border-box;top: 0;bottom: 0;left: 50%;z-index: 0;}#sk-container-id-17 div.sk-serial {display: flex;flex-direction: column;align-items: center;background-color: white;padding-right: 0.2em;padding-left: 0.2em;position: relative;}#sk-container-id-17 div.sk-item {position: relative;z-index: 1;}#sk-container-id-17 div.sk-parallel {display: flex;align-items: stretch;justify-content: center;background-color: white;position: relative;}#sk-container-id-17 div.sk-item::before, #sk-container-id-17 div.sk-parallel-item::before {content: \"\";position: absolute;border-left: 1px solid gray;box-sizing: border-box;top: 0;bottom: 0;left: 50%;z-index: -1;}#sk-container-id-17 div.sk-parallel-item {display: flex;flex-direction: column;z-index: 1;position: relative;background-color: white;}#sk-container-id-17 div.sk-parallel-item:first-child::after {align-self: flex-end;width: 50%;}#sk-container-id-17 div.sk-parallel-item:last-child::after {align-self: flex-start;width: 50%;}#sk-container-id-17 div.sk-parallel-item:only-child::after {width: 0;}#sk-container-id-17 div.sk-dashed-wrapped {border: 1px dashed gray;margin: 0 0.4em 0.5em 0.4em;box-sizing: border-box;padding-bottom: 0.4em;background-color: white;}#sk-container-id-17 div.sk-label label {font-family: monospace;font-weight: bold;display: inline-block;line-height: 1.2em;}#sk-container-id-17 div.sk-label-container {text-align: center;}#sk-container-id-17 div.sk-container {/* jupyter's `normalize.less` sets `[hidden] { display: none; }` but bootstrap.min.css set `[hidden] { display: none !important; }` so we also need the `!important` here to be able to override the default hidden behavior on the sphinx rendered scikit-learn.org. See: https://github.com/scikit-learn/scikit-learn/issues/21755 */display: inline-block !important;position: relative;}#sk-container-id-17 div.sk-text-repr-fallback {display: none;}</style><div id=\"sk-container-id-17\" class=\"sk-top-container\"><div class=\"sk-text-repr-fallback\"><pre>XGBClassifier(base_score=None, booster=None, callbacks=None,\n",
       "              colsample_bylevel=None, colsample_bynode=None,\n",
       "              colsample_bytree=None, early_stopping_rounds=None,\n",
       "              enable_categorical=False, eval_metric=&#x27;logloss&#x27;,\n",
       "              feature_types=None, gamma=None, gpu_id=None, grow_policy=None,\n",
       "              importance_type=None, interaction_constraints=None,\n",
       "              learning_rate=None, max_bin=None, max_cat_threshold=None,\n",
       "              max_cat_to_onehot=None, max_delta_step=None, max_depth=None,\n",
       "              max_leaves=None, min_child_weight=None, missing=nan,\n",
       "              monotone_constraints=None, n_estimators=100, n_jobs=None,\n",
       "              num_parallel_tree=None, predictor=None, random_state=None, ...)</pre><b>In a Jupyter environment, please rerun this cell to show the HTML representation or trust the notebook. <br />On GitHub, the HTML representation is unable to render, please try loading this page with nbviewer.org.</b></div><div class=\"sk-container\" hidden><div class=\"sk-item\"><div class=\"sk-estimator sk-toggleable\"><input class=\"sk-toggleable__control sk-hidden--visually\" id=\"sk-estimator-id-17\" type=\"checkbox\" checked><label for=\"sk-estimator-id-17\" class=\"sk-toggleable__label sk-toggleable__label-arrow\">XGBClassifier</label><div class=\"sk-toggleable__content\"><pre>XGBClassifier(base_score=None, booster=None, callbacks=None,\n",
       "              colsample_bylevel=None, colsample_bynode=None,\n",
       "              colsample_bytree=None, early_stopping_rounds=None,\n",
       "              enable_categorical=False, eval_metric=&#x27;logloss&#x27;,\n",
       "              feature_types=None, gamma=None, gpu_id=None, grow_policy=None,\n",
       "              importance_type=None, interaction_constraints=None,\n",
       "              learning_rate=None, max_bin=None, max_cat_threshold=None,\n",
       "              max_cat_to_onehot=None, max_delta_step=None, max_depth=None,\n",
       "              max_leaves=None, min_child_weight=None, missing=nan,\n",
       "              monotone_constraints=None, n_estimators=100, n_jobs=None,\n",
       "              num_parallel_tree=None, predictor=None, random_state=None, ...)</pre></div></div></div></div></div>"
      ],
      "text/plain": [
       "XGBClassifier(base_score=None, booster=None, callbacks=None,\n",
       "              colsample_bylevel=None, colsample_bynode=None,\n",
       "              colsample_bytree=None, early_stopping_rounds=None,\n",
       "              enable_categorical=False, eval_metric='logloss',\n",
       "              feature_types=None, gamma=None, gpu_id=None, grow_policy=None,\n",
       "              importance_type=None, interaction_constraints=None,\n",
       "              learning_rate=None, max_bin=None, max_cat_threshold=None,\n",
       "              max_cat_to_onehot=None, max_delta_step=None, max_depth=None,\n",
       "              max_leaves=None, min_child_weight=None, missing=nan,\n",
       "              monotone_constraints=None, n_estimators=100, n_jobs=None,\n",
       "              num_parallel_tree=None, predictor=None, random_state=None, ...)"
      ]
     },
     "execution_count": 482,
     "metadata": {},
     "output_type": "execute_result"
    }
   ],
   "source": [
    "xgb_clf_s.fit(S_train, y_train_s)\n"
   ]
  },
  {
   "cell_type": "code",
   "execution_count": 483,
   "id": "bc456f87-3ac3-461b-9931-d1c1cf4964bc",
   "metadata": {},
   "outputs": [],
   "source": [
    "preds_s = xgb_clf_s.predict(S_test)"
   ]
  },
  {
   "cell_type": "code",
   "execution_count": 485,
   "id": "35c88952-3a7f-4b27-ba48-d8c2728f8612",
   "metadata": {},
   "outputs": [
    {
     "name": "stdout",
     "output_type": "stream",
     "text": [
      "              precision    recall  f1-score   support\n",
      "\n",
      "           0       0.96      0.99      0.97       217\n",
      "           1       0.94      0.76      0.84        41\n",
      "\n",
      "    accuracy                           0.95       258\n",
      "   macro avg       0.95      0.87      0.91       258\n",
      "weighted avg       0.95      0.95      0.95       258\n",
      "\n"
     ]
    }
   ],
   "source": [
    "print(classification_report(y_test_s, preds_s))"
   ]
  },
  {
   "cell_type": "code",
   "execution_count": 486,
   "id": "d34ef0b4-7bf0-4be4-9db5-3d59d1f5a640",
   "metadata": {},
   "outputs": [
    {
     "data": {
      "image/png": "[encoded data removed]",
      "text/plain": [
       "<Figure size 640x480 with 2 Axes>"
      ]
     },
     "metadata": {},
     "output_type": "display_data"
    }
   ],
   "source": [
    "cm =confusion_matrix(y_test_s, preds_s, labels=xgb_clf_s.classes_)\n",
    "disp = ConfusionMatrixDisplay(confusion_matrix=cm, display_labels=xgb_clf_s.classes_)\n",
    "disp.plot()\n",
    "plt.show()"
   ]
  },
  {
   "cell_type": "code",
   "execution_count": 417,
   "id": "7296b4c0-66c5-4b23-9b99-d04f56fe631c",
   "metadata": {},
   "outputs": [],
   "source": [
    "sim_track_data_performance = pd.DataFrame(columns=[\"Train Accuracy\",\"Test Accuracy\"], index=list(models.keys()))"
   ]
  },
  {
   "cell_type": "code",
   "execution_count": 418,
   "id": "1153f149-1341-4327-9b99-31b9cf790cf9",
   "metadata": {},
   "outputs": [
    {
     "ename": "ValueError",
     "evalue": "Input y contains NaN.",
     "output_type": "error",
     "traceback": [
      "\u001b[1;31m---------------------------------------------------------------------------\u001b[0m",
      "\u001b[1;31mValueError\u001b[0m                                Traceback (most recent call last)",
      "Cell \u001b[1;32mIn[418], line 3\u001b[0m\n\u001b[0;32m      1\u001b[0m \u001b[38;5;28;01mfor\u001b[39;00m name, model \u001b[38;5;129;01min\u001b[39;00m models\u001b[38;5;241m.\u001b[39mitems():\n\u001b[0;32m      2\u001b[0m     \u001b[38;5;66;03m# Train the model\u001b[39;00m\n\u001b[1;32m----> 3\u001b[0m     \u001b[43mmodel\u001b[49m\u001b[38;5;241;43m.\u001b[39;49m\u001b[43mfit\u001b[49m\u001b[43m(\u001b[49m\u001b[43mS_train\u001b[49m\u001b[43m,\u001b[49m\u001b[43m \u001b[49m\u001b[43my_train_s\u001b[49m\u001b[43m)\u001b[49m\n\u001b[0;32m      5\u001b[0m     \u001b[38;5;66;03m# Make predictions on the test set\u001b[39;00m\n\u001b[0;32m      6\u001b[0m     y_train_pred_s \u001b[38;5;241m=\u001b[39m model\u001b[38;5;241m.\u001b[39mpredict(S_train)\n",
      "File \u001b[1;32m~\\AppData\\Roaming\\Python\\Python38\\site-packages\\sklearn\\base.py:1152\u001b[0m, in \u001b[0;36m_fit_context.<locals>.decorator.<locals>.wrapper\u001b[1;34m(estimator, *args, **kwargs)\u001b[0m\n\u001b[0;32m   1145\u001b[0m     estimator\u001b[38;5;241m.\u001b[39m_validate_params()\n\u001b[0;32m   1147\u001b[0m \u001b[38;5;28;01mwith\u001b[39;00m config_context(\n\u001b[0;32m   1148\u001b[0m     skip_parameter_validation\u001b[38;5;241m=\u001b[39m(\n\u001b[0;32m   1149\u001b[0m         prefer_skip_nested_validation \u001b[38;5;129;01mor\u001b[39;00m global_skip_validation\n\u001b[0;32m   1150\u001b[0m     )\n\u001b[0;32m   1151\u001b[0m ):\n\u001b[1;32m-> 1152\u001b[0m     \u001b[38;5;28;01mreturn\u001b[39;00m \u001b[43mfit_method\u001b[49m\u001b[43m(\u001b[49m\u001b[43mestimator\u001b[49m\u001b[43m,\u001b[49m\u001b[43m \u001b[49m\u001b[38;5;241;43m*\u001b[39;49m\u001b[43margs\u001b[49m\u001b[43m,\u001b[49m\u001b[43m \u001b[49m\u001b[38;5;241;43m*\u001b[39;49m\u001b[38;5;241;43m*\u001b[39;49m\u001b[43mkwargs\u001b[49m\u001b[43m)\u001b[49m\n",
      "File \u001b[1;32m~\\AppData\\Roaming\\Python\\Python38\\site-packages\\sklearn\\linear_model\\_logistic.py:1208\u001b[0m, in \u001b[0;36mLogisticRegression.fit\u001b[1;34m(self, X, y, sample_weight)\u001b[0m\n\u001b[0;32m   1205\u001b[0m \u001b[38;5;28;01melse\u001b[39;00m:\n\u001b[0;32m   1206\u001b[0m     _dtype \u001b[38;5;241m=\u001b[39m [np\u001b[38;5;241m.\u001b[39mfloat64, np\u001b[38;5;241m.\u001b[39mfloat32]\n\u001b[1;32m-> 1208\u001b[0m X, y \u001b[38;5;241m=\u001b[39m \u001b[38;5;28;43mself\u001b[39;49m\u001b[38;5;241;43m.\u001b[39;49m\u001b[43m_validate_data\u001b[49m\u001b[43m(\u001b[49m\n\u001b[0;32m   1209\u001b[0m \u001b[43m    \u001b[49m\u001b[43mX\u001b[49m\u001b[43m,\u001b[49m\n\u001b[0;32m   1210\u001b[0m \u001b[43m    \u001b[49m\u001b[43my\u001b[49m\u001b[43m,\u001b[49m\n\u001b[0;32m   1211\u001b[0m \u001b[43m    \u001b[49m\u001b[43maccept_sparse\u001b[49m\u001b[38;5;241;43m=\u001b[39;49m\u001b[38;5;124;43m\"\u001b[39;49m\u001b[38;5;124;43mcsr\u001b[39;49m\u001b[38;5;124;43m\"\u001b[39;49m\u001b[43m,\u001b[49m\n\u001b[0;32m   1212\u001b[0m \u001b[43m    \u001b[49m\u001b[43mdtype\u001b[49m\u001b[38;5;241;43m=\u001b[39;49m\u001b[43m_dtype\u001b[49m\u001b[43m,\u001b[49m\n\u001b[0;32m   1213\u001b[0m \u001b[43m    \u001b[49m\u001b[43morder\u001b[49m\u001b[38;5;241;43m=\u001b[39;49m\u001b[38;5;124;43m\"\u001b[39;49m\u001b[38;5;124;43mC\u001b[39;49m\u001b[38;5;124;43m\"\u001b[39;49m\u001b[43m,\u001b[49m\n\u001b[0;32m   1214\u001b[0m \u001b[43m    \u001b[49m\u001b[43maccept_large_sparse\u001b[49m\u001b[38;5;241;43m=\u001b[39;49m\u001b[43msolver\u001b[49m\u001b[43m \u001b[49m\u001b[38;5;129;43;01mnot\u001b[39;49;00m\u001b[43m \u001b[49m\u001b[38;5;129;43;01min\u001b[39;49;00m\u001b[43m \u001b[49m\u001b[43m[\u001b[49m\u001b[38;5;124;43m\"\u001b[39;49m\u001b[38;5;124;43mliblinear\u001b[39;49m\u001b[38;5;124;43m\"\u001b[39;49m\u001b[43m,\u001b[49m\u001b[43m \u001b[49m\u001b[38;5;124;43m\"\u001b[39;49m\u001b[38;5;124;43msag\u001b[39;49m\u001b[38;5;124;43m\"\u001b[39;49m\u001b[43m,\u001b[49m\u001b[43m \u001b[49m\u001b[38;5;124;43m\"\u001b[39;49m\u001b[38;5;124;43msaga\u001b[39;49m\u001b[38;5;124;43m\"\u001b[39;49m\u001b[43m]\u001b[49m\u001b[43m,\u001b[49m\n\u001b[0;32m   1215\u001b[0m \u001b[43m\u001b[49m\u001b[43m)\u001b[49m\n\u001b[0;32m   1216\u001b[0m check_classification_targets(y)\n\u001b[0;32m   1217\u001b[0m \u001b[38;5;28mself\u001b[39m\u001b[38;5;241m.\u001b[39mclasses_ \u001b[38;5;241m=\u001b[39m np\u001b[38;5;241m.\u001b[39munique(y)\n",
      "File \u001b[1;32m~\\AppData\\Roaming\\Python\\Python38\\site-packages\\sklearn\\base.py:622\u001b[0m, in \u001b[0;36mBaseEstimator._validate_data\u001b[1;34m(self, X, y, reset, validate_separately, cast_to_ndarray, **check_params)\u001b[0m\n\u001b[0;32m    620\u001b[0m         y \u001b[38;5;241m=\u001b[39m check_array(y, input_name\u001b[38;5;241m=\u001b[39m\u001b[38;5;124m\"\u001b[39m\u001b[38;5;124my\u001b[39m\u001b[38;5;124m\"\u001b[39m, \u001b[38;5;241m*\u001b[39m\u001b[38;5;241m*\u001b[39mcheck_y_params)\n\u001b[0;32m    621\u001b[0m     \u001b[38;5;28;01melse\u001b[39;00m:\n\u001b[1;32m--> 622\u001b[0m         X, y \u001b[38;5;241m=\u001b[39m \u001b[43mcheck_X_y\u001b[49m\u001b[43m(\u001b[49m\u001b[43mX\u001b[49m\u001b[43m,\u001b[49m\u001b[43m \u001b[49m\u001b[43my\u001b[49m\u001b[43m,\u001b[49m\u001b[43m \u001b[49m\u001b[38;5;241;43m*\u001b[39;49m\u001b[38;5;241;43m*\u001b[39;49m\u001b[43mcheck_params\u001b[49m\u001b[43m)\u001b[49m\n\u001b[0;32m    623\u001b[0m     out \u001b[38;5;241m=\u001b[39m X, y\n\u001b[0;32m    625\u001b[0m \u001b[38;5;28;01mif\u001b[39;00m \u001b[38;5;129;01mnot\u001b[39;00m no_val_X \u001b[38;5;129;01mand\u001b[39;00m check_params\u001b[38;5;241m.\u001b[39mget(\u001b[38;5;124m\"\u001b[39m\u001b[38;5;124mensure_2d\u001b[39m\u001b[38;5;124m\"\u001b[39m, \u001b[38;5;28;01mTrue\u001b[39;00m):\n",
      "File \u001b[1;32m~\\AppData\\Roaming\\Python\\Python38\\site-packages\\sklearn\\utils\\validation.py:1162\u001b[0m, in \u001b[0;36mcheck_X_y\u001b[1;34m(X, y, accept_sparse, accept_large_sparse, dtype, order, copy, force_all_finite, ensure_2d, allow_nd, multi_output, ensure_min_samples, ensure_min_features, y_numeric, estimator)\u001b[0m\n\u001b[0;32m   1142\u001b[0m     \u001b[38;5;28;01mraise\u001b[39;00m \u001b[38;5;167;01mValueError\u001b[39;00m(\n\u001b[0;32m   1143\u001b[0m         \u001b[38;5;124mf\u001b[39m\u001b[38;5;124m\"\u001b[39m\u001b[38;5;132;01m{\u001b[39;00mestimator_name\u001b[38;5;132;01m}\u001b[39;00m\u001b[38;5;124m requires y to be passed, but the target y is None\u001b[39m\u001b[38;5;124m\"\u001b[39m\n\u001b[0;32m   1144\u001b[0m     )\n\u001b[0;32m   1146\u001b[0m X \u001b[38;5;241m=\u001b[39m check_array(\n\u001b[0;32m   1147\u001b[0m     X,\n\u001b[0;32m   1148\u001b[0m     accept_sparse\u001b[38;5;241m=\u001b[39maccept_sparse,\n\u001b[1;32m   (...)\u001b[0m\n\u001b[0;32m   1159\u001b[0m     input_name\u001b[38;5;241m=\u001b[39m\u001b[38;5;124m\"\u001b[39m\u001b[38;5;124mX\u001b[39m\u001b[38;5;124m\"\u001b[39m,\n\u001b[0;32m   1160\u001b[0m )\n\u001b[1;32m-> 1162\u001b[0m y \u001b[38;5;241m=\u001b[39m \u001b[43m_check_y\u001b[49m\u001b[43m(\u001b[49m\u001b[43my\u001b[49m\u001b[43m,\u001b[49m\u001b[43m \u001b[49m\u001b[43mmulti_output\u001b[49m\u001b[38;5;241;43m=\u001b[39;49m\u001b[43mmulti_output\u001b[49m\u001b[43m,\u001b[49m\u001b[43m \u001b[49m\u001b[43my_numeric\u001b[49m\u001b[38;5;241;43m=\u001b[39;49m\u001b[43my_numeric\u001b[49m\u001b[43m,\u001b[49m\u001b[43m \u001b[49m\u001b[43mestimator\u001b[49m\u001b[38;5;241;43m=\u001b[39;49m\u001b[43mestimator\u001b[49m\u001b[43m)\u001b[49m\n\u001b[0;32m   1164\u001b[0m check_consistent_length(X, y)\n\u001b[0;32m   1166\u001b[0m \u001b[38;5;28;01mreturn\u001b[39;00m X, y\n",
      "File \u001b[1;32m~\\AppData\\Roaming\\Python\\Python38\\site-packages\\sklearn\\utils\\validation.py:1184\u001b[0m, in \u001b[0;36m_check_y\u001b[1;34m(y, multi_output, y_numeric, estimator)\u001b[0m\n\u001b[0;32m   1182\u001b[0m     estimator_name \u001b[38;5;241m=\u001b[39m _check_estimator_name(estimator)\n\u001b[0;32m   1183\u001b[0m     y \u001b[38;5;241m=\u001b[39m column_or_1d(y, warn\u001b[38;5;241m=\u001b[39m\u001b[38;5;28;01mTrue\u001b[39;00m)\n\u001b[1;32m-> 1184\u001b[0m     \u001b[43m_assert_all_finite\u001b[49m\u001b[43m(\u001b[49m\u001b[43my\u001b[49m\u001b[43m,\u001b[49m\u001b[43m \u001b[49m\u001b[43minput_name\u001b[49m\u001b[38;5;241;43m=\u001b[39;49m\u001b[38;5;124;43m\"\u001b[39;49m\u001b[38;5;124;43my\u001b[39;49m\u001b[38;5;124;43m\"\u001b[39;49m\u001b[43m,\u001b[49m\u001b[43m \u001b[49m\u001b[43mestimator_name\u001b[49m\u001b[38;5;241;43m=\u001b[39;49m\u001b[43mestimator_name\u001b[49m\u001b[43m)\u001b[49m\n\u001b[0;32m   1185\u001b[0m     _ensure_no_complex_data(y)\n\u001b[0;32m   1186\u001b[0m \u001b[38;5;28;01mif\u001b[39;00m y_numeric \u001b[38;5;129;01mand\u001b[39;00m y\u001b[38;5;241m.\u001b[39mdtype\u001b[38;5;241m.\u001b[39mkind \u001b[38;5;241m==\u001b[39m \u001b[38;5;124m\"\u001b[39m\u001b[38;5;124mO\u001b[39m\u001b[38;5;124m\"\u001b[39m:\n",
      "File \u001b[1;32m~\\AppData\\Roaming\\Python\\Python38\\site-packages\\sklearn\\utils\\validation.py:122\u001b[0m, in \u001b[0;36m_assert_all_finite\u001b[1;34m(X, allow_nan, msg_dtype, estimator_name, input_name)\u001b[0m\n\u001b[0;32m    119\u001b[0m \u001b[38;5;28;01mif\u001b[39;00m first_pass_isfinite:\n\u001b[0;32m    120\u001b[0m     \u001b[38;5;28;01mreturn\u001b[39;00m\n\u001b[1;32m--> 122\u001b[0m \u001b[43m_assert_all_finite_element_wise\u001b[49m\u001b[43m(\u001b[49m\n\u001b[0;32m    123\u001b[0m \u001b[43m    \u001b[49m\u001b[43mX\u001b[49m\u001b[43m,\u001b[49m\n\u001b[0;32m    124\u001b[0m \u001b[43m    \u001b[49m\u001b[43mxp\u001b[49m\u001b[38;5;241;43m=\u001b[39;49m\u001b[43mxp\u001b[49m\u001b[43m,\u001b[49m\n\u001b[0;32m    125\u001b[0m \u001b[43m    \u001b[49m\u001b[43mallow_nan\u001b[49m\u001b[38;5;241;43m=\u001b[39;49m\u001b[43mallow_nan\u001b[49m\u001b[43m,\u001b[49m\n\u001b[0;32m    126\u001b[0m \u001b[43m    \u001b[49m\u001b[43mmsg_dtype\u001b[49m\u001b[38;5;241;43m=\u001b[39;49m\u001b[43mmsg_dtype\u001b[49m\u001b[43m,\u001b[49m\n\u001b[0;32m    127\u001b[0m \u001b[43m    \u001b[49m\u001b[43mestimator_name\u001b[49m\u001b[38;5;241;43m=\u001b[39;49m\u001b[43mestimator_name\u001b[49m\u001b[43m,\u001b[49m\n\u001b[0;32m    128\u001b[0m \u001b[43m    \u001b[49m\u001b[43minput_name\u001b[49m\u001b[38;5;241;43m=\u001b[39;49m\u001b[43minput_name\u001b[49m\u001b[43m,\u001b[49m\n\u001b[0;32m    129\u001b[0m \u001b[43m\u001b[49m\u001b[43m)\u001b[49m\n",
      "File \u001b[1;32m~\\AppData\\Roaming\\Python\\Python38\\site-packages\\sklearn\\utils\\validation.py:171\u001b[0m, in \u001b[0;36m_assert_all_finite_element_wise\u001b[1;34m(X, xp, allow_nan, msg_dtype, estimator_name, input_name)\u001b[0m\n\u001b[0;32m    154\u001b[0m \u001b[38;5;28;01mif\u001b[39;00m estimator_name \u001b[38;5;129;01mand\u001b[39;00m input_name \u001b[38;5;241m==\u001b[39m \u001b[38;5;124m\"\u001b[39m\u001b[38;5;124mX\u001b[39m\u001b[38;5;124m\"\u001b[39m \u001b[38;5;129;01mand\u001b[39;00m has_nan_error:\n\u001b[0;32m    155\u001b[0m     \u001b[38;5;66;03m# Improve the error message on how to handle missing values in\u001b[39;00m\n\u001b[0;32m    156\u001b[0m     \u001b[38;5;66;03m# scikit-learn.\u001b[39;00m\n\u001b[0;32m    157\u001b[0m     msg_err \u001b[38;5;241m+\u001b[39m\u001b[38;5;241m=\u001b[39m (\n\u001b[0;32m    158\u001b[0m         \u001b[38;5;124mf\u001b[39m\u001b[38;5;124m\"\u001b[39m\u001b[38;5;130;01m\\n\u001b[39;00m\u001b[38;5;132;01m{\u001b[39;00mestimator_name\u001b[38;5;132;01m}\u001b[39;00m\u001b[38;5;124m does not accept missing values\u001b[39m\u001b[38;5;124m\"\u001b[39m\n\u001b[0;32m    159\u001b[0m         \u001b[38;5;124m\"\u001b[39m\u001b[38;5;124m encoded as NaN natively. For supervised learning, you might want\u001b[39m\u001b[38;5;124m\"\u001b[39m\n\u001b[1;32m   (...)\u001b[0m\n\u001b[0;32m    169\u001b[0m         \u001b[38;5;124m\"\u001b[39m\u001b[38;5;124m#estimators-that-handle-nan-values\u001b[39m\u001b[38;5;124m\"\u001b[39m\n\u001b[0;32m    170\u001b[0m     )\n\u001b[1;32m--> 171\u001b[0m \u001b[38;5;28;01mraise\u001b[39;00m \u001b[38;5;167;01mValueError\u001b[39;00m(msg_err)\n",
      "\u001b[1;31mValueError\u001b[0m: Input y contains NaN."
     ]
    }
   ],
   "source": [
    "for name, model in models.items():\n",
    "    # Train the model\n",
    "    model.fit(S_train, y_train_s)\n",
    "\n",
    "    # Make predictions on the test set\n",
    "    y_train_pred_s = model.predict(S_train)\n",
    "    y_test_pred_s = model.predict(S_test)\n",
    "\n",
    "    # Calculate evaluation metrics\n",
    "    test_accuracy = accuracy_score(y_test_s, y_test_pred_s)\n",
    "    train_accuracy = accuracy_score(y_train_s, y_train_pred_s)\n",
    "\n",
    "    #Save Test and Training Accuracies\n",
    "    sim_track_data_performance.loc[name, :] = [train_accuracy,test_accuracy]"
   ]
  },
  {
   "cell_type": "code",
   "execution_count": 330,
   "id": "31314b41-7026-4312-af45-5dde60bfa74e",
   "metadata": {},
   "outputs": [
    {
     "data": {
      "text/html": [
       "<div>\n",
       "<style scoped>\n",
       "    .dataframe tbody tr th:only-of-type {\n",
       "        vertical-align: middle;\n",
       "    }\n",
       "\n",
       "    .dataframe tbody tr th {\n",
       "        vertical-align: top;\n",
       "    }\n",
       "\n",
       "    .dataframe thead th {\n",
       "        text-align: right;\n",
       "    }\n",
       "</style>\n",
       "<table border=\"1\" class=\"dataframe\">\n",
       "  <thead>\n",
       "    <tr style=\"text-align: right;\">\n",
       "      <th></th>\n",
       "      <th>Train Accuracy</th>\n",
       "      <th>Test Accuracy</th>\n",
       "    </tr>\n",
       "  </thead>\n",
       "  <tbody>\n",
       "    <tr>\n",
       "      <th>XGBOOST</th>\n",
       "      <td>1.0</td>\n",
       "      <td>0.953488</td>\n",
       "    </tr>\n",
       "    <tr>\n",
       "      <th>RandomForestClassifier</th>\n",
       "      <td>1.0</td>\n",
       "      <td>0.949612</td>\n",
       "    </tr>\n",
       "    <tr>\n",
       "      <th>GradientBoostingClassifier</th>\n",
       "      <td>0.993197</td>\n",
       "      <td>0.949612</td>\n",
       "    </tr>\n",
       "    <tr>\n",
       "      <th>BaggingClassifier</th>\n",
       "      <td>0.993197</td>\n",
       "      <td>0.945736</td>\n",
       "    </tr>\n",
       "    <tr>\n",
       "      <th>MLPClassifier</th>\n",
       "      <td>0.941691</td>\n",
       "      <td>0.94186</td>\n",
       "    </tr>\n",
       "    <tr>\n",
       "      <th>AdaBoostClassifier</th>\n",
       "      <td>0.972789</td>\n",
       "      <td>0.94186</td>\n",
       "    </tr>\n",
       "    <tr>\n",
       "      <th>LogisticRegression</th>\n",
       "      <td>0.912536</td>\n",
       "      <td>0.937984</td>\n",
       "    </tr>\n",
       "    <tr>\n",
       "      <th>DecisionTreeClassifier</th>\n",
       "      <td>1.0</td>\n",
       "      <td>0.937984</td>\n",
       "    </tr>\n",
       "    <tr>\n",
       "      <th>QuadraticDiscriminantAnalysis</th>\n",
       "      <td>0.840622</td>\n",
       "      <td>0.848837</td>\n",
       "    </tr>\n",
       "    <tr>\n",
       "      <th>SVC</th>\n",
       "      <td>0.842566</td>\n",
       "      <td>0.841085</td>\n",
       "    </tr>\n",
       "    <tr>\n",
       "      <th>GaussianNB</th>\n",
       "      <td>0.856171</td>\n",
       "      <td>0.833333</td>\n",
       "    </tr>\n",
       "    <tr>\n",
       "      <th>KNeighborsClassifier</th>\n",
       "      <td>0.873664</td>\n",
       "      <td>0.825581</td>\n",
       "    </tr>\n",
       "    <tr>\n",
       "      <th>GaussianProcessClassifier</th>\n",
       "      <td>1.0</td>\n",
       "      <td>0.821705</td>\n",
       "    </tr>\n",
       "    <tr>\n",
       "      <th>LinearSVC</th>\n",
       "      <td>0.735666</td>\n",
       "      <td>0.790698</td>\n",
       "    </tr>\n",
       "    <tr>\n",
       "      <th>SGDClassifier</th>\n",
       "      <td>0.713314</td>\n",
       "      <td>0.728682</td>\n",
       "    </tr>\n",
       "  </tbody>\n",
       "</table>\n",
       "</div>"
      ],
      "text/plain": [
       "                              Train Accuracy Test Accuracy\n",
       "XGBOOST                                  1.0      0.953488\n",
       "RandomForestClassifier                   1.0      0.949612\n",
       "GradientBoostingClassifier          0.993197      0.949612\n",
       "BaggingClassifier                   0.993197      0.945736\n",
       "MLPClassifier                       0.941691       0.94186\n",
       "AdaBoostClassifier                  0.972789       0.94186\n",
       "LogisticRegression                  0.912536      0.937984\n",
       "DecisionTreeClassifier                   1.0      0.937984\n",
       "QuadraticDiscriminantAnalysis       0.840622      0.848837\n",
       "SVC                                 0.842566      0.841085\n",
       "GaussianNB                          0.856171      0.833333\n",
       "KNeighborsClassifier                0.873664      0.825581\n",
       "GaussianProcessClassifier                1.0      0.821705\n",
       "LinearSVC                           0.735666      0.790698\n",
       "SGDClassifier                       0.713314      0.728682"
      ]
     },
     "execution_count": 330,
     "metadata": {},
     "output_type": "execute_result"
    }
   ],
   "source": [
    "sim_track_data_performance.sort_values(by=['Test Accuracy'], ascending=False)"
   ]
  },
  {
   "cell_type": "code",
   "execution_count": 331,
   "id": "b219ca45-077d-422b-8bf6-ea11a5c90ece",
   "metadata": {},
   "outputs": [],
   "source": [
    "xgb_clf_s = XGBClassifier(eval_metric='logloss')"
   ]
  },
  {
   "cell_type": "code",
   "execution_count": 332,
   "id": "4a62b221-16f2-4fd4-83d2-3b5c24f1c16f",
   "metadata": {},
   "outputs": [
    {
     "data": {
      "text/html": [
       "<style>#sk-container-id-9 {color: black;}#sk-container-id-9 pre{padding: 0;}#sk-container-id-9 div.sk-toggleable {background-color: white;}#sk-container-id-9 label.sk-toggleable__label {cursor: pointer;display: block;width: 100%;margin-bottom: 0;padding: 0.3em;box-sizing: border-box;text-align: center;}#sk-container-id-9 label.sk-toggleable__label-arrow:before {content: \"▸\";float: left;margin-right: 0.25em;color: #696969;}#sk-container-id-9 label.sk-toggleable__label-arrow:hover:before {color: black;}#sk-container-id-9 div.sk-estimator:hover label.sk-toggleable__label-arrow:before {color: black;}#sk-container-id-9 div.sk-toggleable__content {max-height: 0;max-width: 0;overflow: hidden;text-align: left;background-color: #f0f8ff;}#sk-container-id-9 div.sk-toggleable__content pre {margin: 0.2em;color: black;border-radius: 0.25em;background-color: #f0f8ff;}#sk-container-id-9 input.sk-toggleable__control:checked~div.sk-toggleable__content {max-height: 200px;max-width: 100%;overflow: auto;}#sk-container-id-9 input.sk-toggleable__control:checked~label.sk-toggleable__label-arrow:before {content: \"▾\";}#sk-container-id-9 div.sk-estimator input.sk-toggleable__control:checked~label.sk-toggleable__label {background-color: #d4ebff;}#sk-container-id-9 div.sk-label input.sk-toggleable__control:checked~label.sk-toggleable__label {background-color: #d4ebff;}#sk-container-id-9 input.sk-hidden--visually {border: 0;clip: rect(1px 1px 1px 1px);clip: rect(1px, 1px, 1px, 1px);height: 1px;margin: -1px;overflow: hidden;padding: 0;position: absolute;width: 1px;}#sk-container-id-9 div.sk-estimator {font-family: monospace;background-color: #f0f8ff;border: 1px dotted black;border-radius: 0.25em;box-sizing: border-box;margin-bottom: 0.5em;}#sk-container-id-9 div.sk-estimator:hover {background-color: #d4ebff;}#sk-container-id-9 div.sk-parallel-item::after {content: \"\";width: 100%;border-bottom: 1px solid gray;flex-grow: 1;}#sk-container-id-9 div.sk-label:hover label.sk-toggleable__label {background-color: #d4ebff;}#sk-container-id-9 div.sk-serial::before {content: \"\";position: absolute;border-left: 1px solid gray;box-sizing: border-box;top: 0;bottom: 0;left: 50%;z-index: 0;}#sk-container-id-9 div.sk-serial {display: flex;flex-direction: column;align-items: center;background-color: white;padding-right: 0.2em;padding-left: 0.2em;position: relative;}#sk-container-id-9 div.sk-item {position: relative;z-index: 1;}#sk-container-id-9 div.sk-parallel {display: flex;align-items: stretch;justify-content: center;background-color: white;position: relative;}#sk-container-id-9 div.sk-item::before, #sk-container-id-9 div.sk-parallel-item::before {content: \"\";position: absolute;border-left: 1px solid gray;box-sizing: border-box;top: 0;bottom: 0;left: 50%;z-index: -1;}#sk-container-id-9 div.sk-parallel-item {display: flex;flex-direction: column;z-index: 1;position: relative;background-color: white;}#sk-container-id-9 div.sk-parallel-item:first-child::after {align-self: flex-end;width: 50%;}#sk-container-id-9 div.sk-parallel-item:last-child::after {align-self: flex-start;width: 50%;}#sk-container-id-9 div.sk-parallel-item:only-child::after {width: 0;}#sk-container-id-9 div.sk-dashed-wrapped {border: 1px dashed gray;margin: 0 0.4em 0.5em 0.4em;box-sizing: border-box;padding-bottom: 0.4em;background-color: white;}#sk-container-id-9 div.sk-label label {font-family: monospace;font-weight: bold;display: inline-block;line-height: 1.2em;}#sk-container-id-9 div.sk-label-container {text-align: center;}#sk-container-id-9 div.sk-container {/* jupyter's `normalize.less` sets `[hidden] { display: none; }` but bootstrap.min.css set `[hidden] { display: none !important; }` so we also need the `!important` here to be able to override the default hidden behavior on the sphinx rendered scikit-learn.org. See: https://github.com/scikit-learn/scikit-learn/issues/21755 */display: inline-block !important;position: relative;}#sk-container-id-9 div.sk-text-repr-fallback {display: none;}</style><div id=\"sk-container-id-9\" class=\"sk-top-container\"><div class=\"sk-text-repr-fallback\"><pre>XGBClassifier(base_score=None, booster=None, callbacks=None,\n",
       "              colsample_bylevel=None, colsample_bynode=None,\n",
       "              colsample_bytree=None, early_stopping_rounds=None,\n",
       "              enable_categorical=False, eval_metric=&#x27;logloss&#x27;,\n",
       "              feature_types=None, gamma=None, gpu_id=None, grow_policy=None,\n",
       "              importance_type=None, interaction_constraints=None,\n",
       "              learning_rate=None, max_bin=None, max_cat_threshold=None,\n",
       "              max_cat_to_onehot=None, max_delta_step=None, max_depth=None,\n",
       "              max_leaves=None, min_child_weight=None, missing=nan,\n",
       "              monotone_constraints=None, n_estimators=100, n_jobs=None,\n",
       "              num_parallel_tree=None, predictor=None, random_state=None, ...)</pre><b>In a Jupyter environment, please rerun this cell to show the HTML representation or trust the notebook. <br />On GitHub, the HTML representation is unable to render, please try loading this page with nbviewer.org.</b></div><div class=\"sk-container\" hidden><div class=\"sk-item\"><div class=\"sk-estimator sk-toggleable\"><input class=\"sk-toggleable__control sk-hidden--visually\" id=\"sk-estimator-id-9\" type=\"checkbox\" checked><label for=\"sk-estimator-id-9\" class=\"sk-toggleable__label sk-toggleable__label-arrow\">XGBClassifier</label><div class=\"sk-toggleable__content\"><pre>XGBClassifier(base_score=None, booster=None, callbacks=None,\n",
       "              colsample_bylevel=None, colsample_bynode=None,\n",
       "              colsample_bytree=None, early_stopping_rounds=None,\n",
       "              enable_categorical=False, eval_metric=&#x27;logloss&#x27;,\n",
       "              feature_types=None, gamma=None, gpu_id=None, grow_policy=None,\n",
       "              importance_type=None, interaction_constraints=None,\n",
       "              learning_rate=None, max_bin=None, max_cat_threshold=None,\n",
       "              max_cat_to_onehot=None, max_delta_step=None, max_depth=None,\n",
       "              max_leaves=None, min_child_weight=None, missing=nan,\n",
       "              monotone_constraints=None, n_estimators=100, n_jobs=None,\n",
       "              num_parallel_tree=None, predictor=None, random_state=None, ...)</pre></div></div></div></div></div>"
      ],
      "text/plain": [
       "XGBClassifier(base_score=None, booster=None, callbacks=None,\n",
       "              colsample_bylevel=None, colsample_bynode=None,\n",
       "              colsample_bytree=None, early_stopping_rounds=None,\n",
       "              enable_categorical=False, eval_metric='logloss',\n",
       "              feature_types=None, gamma=None, gpu_id=None, grow_policy=None,\n",
       "              importance_type=None, interaction_constraints=None,\n",
       "              learning_rate=None, max_bin=None, max_cat_threshold=None,\n",
       "              max_cat_to_onehot=None, max_delta_step=None, max_depth=None,\n",
       "              max_leaves=None, min_child_weight=None, missing=nan,\n",
       "              monotone_constraints=None, n_estimators=100, n_jobs=None,\n",
       "              num_parallel_tree=None, predictor=None, random_state=None, ...)"
      ]
     },
     "execution_count": 332,
     "metadata": {},
     "output_type": "execute_result"
    }
   ],
   "source": [
    "xgb_clf_s.fit(S_train, y_train_s)"
   ]
  },
  {
   "cell_type": "code",
   "execution_count": 336,
   "id": "cbc65528-4124-42b1-ae36-cd1fbe937fe2",
   "metadata": {},
   "outputs": [
    {
     "data": {
      "text/plain": [
       "<Figure size 1000x500 with 0 Axes>"
      ]
     },
     "metadata": {},
     "output_type": "display_data"
    },
    {
     "data": {
      "image/png": "[encoded data removed]",
      "text/plain": [
       "<Figure size 640x480 with 1 Axes>"
      ]
     },
     "metadata": {},
     "output_type": "display_data"
    }
   ],
   "source": [
    "# Plot feature importances\n",
    "plt.figure(figsize=(10, 5))\n",
    "plot_importance(xgb_clf_s, importance_type='weight', title='Feature Importance for simulated dataset')\n",
    "plt.show()"
   ]
  },
  {
   "cell_type": "code",
   "execution_count": 335,
   "id": "2648babf-ec4c-4e0f-b11d-e11d6c0a910e",
   "metadata": {},
   "outputs": [
    {
     "data": {
      "text/plain": [
       "<Figure size 1000x500 with 0 Axes>"
      ]
     },
     "metadata": {},
     "output_type": "display_data"
    },
    {
     "data": {
      "image/png": "[encoded data removed]",
      "text/plain": [
       "<Figure size 640x480 with 1 Axes>"
      ]
     },
     "metadata": {},
     "output_type": "display_data"
    }
   ],
   "source": [
    "# Plot feature importances\n",
    "plt.figure(figsize=(10, 5))\n",
    "plot_importance(xgb_clf, importance_type='weight', title='Feature Importance for real track dataset')\n",
    "plt.show()"
   ]
  },
  {
   "cell_type": "markdown",
   "id": "f5944426-b3aa-4265-b05e-182d147e3559",
   "metadata": {},
   "source": [
    "### Retraining without the Neurophysiological featurees"
   ]
  },
  {
   "cell_type": "code",
   "execution_count": 350,
   "id": "a668a77f-bf25-4c9d-ada9-da120ff967b4",
   "metadata": {},
   "outputs": [],
   "source": [
    "# Features to train model on\n",
    "sld_cols = [\n",
    "    #'lap',\n",
    "    #'start_time',\n",
    "    'straight',\n",
    "    'roundabout_entry',\n",
    "    'roundabout_exit',\n",
    "    'zebra_crossing',\n",
    "    'left_turn',\n",
    "    'u_turn',\n",
    "    'bypass_dummy',\n",
    "    'car',\n",
    "    'pedestrian',\n",
    "    'traffic_light',\n",
    "    'narrow_road',\n",
    "    'dummy',\n",
    "    'bend',\n",
    "    'habituation',\n",
    "    'traffic',\n",
    "    #'hurry',\n",
    "    'frustration',\n",
    "    #'surprise',\n",
    "    'risk_outcome',\n",
    "    'risk_source_env',\n",
    "    'risk_source_other_usr',\n",
    "    'risk_source_driver',\n",
    "    'risk_source_crash',\n",
    "    'violation_roadside_invasion',\n",
    "    'violation_give_the_way',\n",
    "    'violation_road_signs',\n",
    "    'violation_heavy_braking',\n",
    "    'violation_roadside_exit',\n",
    "    'violation_slowdown',\n",
    "    'emotion_na',\n",
    "    'emotion_neutral',\n",
    "    'emotion_surprise',\n",
    "    'emotion_anger',\n",
    "    'emotion_boredom',\n",
    "    'emotion_fear',\n",
    "    'gaze_na',\n",
    "    'gaze_complete_expl',\n",
    "    'gaze_partial_expl',\n",
    "    'gaze_poor_expl',\n",
    "    'distraction_na',\n",
    "    'distraction_no',\n",
    "    'distraction_reduced_attention',\n",
    "    'max_speed',\n",
    "    'avg_speed',\n",
    "    'std_speed',\n",
    "    'yaw',\n",
    "    'yaw_rate',\n",
    "    'roll',\n",
    "    'roll_rate',\n",
    "    'pitch',\n",
    "    'pitch_rate',\n",
    "    'long_acce',\n",
    "    'vert_acce',\n",
    "    'avg_acce_pedal_pos',\n",
    "    'std_acce_pedal_pos',\n",
    "    'std_steer_angle'\n",
    "]"
   ]
  },
  {
   "cell_type": "code",
   "execution_count": 351,
   "id": "7ee4ebc3-fe7c-432b-a2db-62565d98c84f",
   "metadata": {},
   "outputs": [],
   "source": [
    "r_data2 = real_data_nulls_filled[sld_cols]"
   ]
  },
  {
   "cell_type": "code",
   "execution_count": 352,
   "id": "52b7045d-4a50-488e-9973-1d2cbcaf5cd3",
   "metadata": {},
   "outputs": [],
   "source": [
    "X2 = r_data2.drop(['frustration'], axis=1)"
   ]
  },
  {
   "cell_type": "code",
   "execution_count": 353,
   "id": "6bacdb09-70ef-446b-8655-9c37f6870670",
   "metadata": {},
   "outputs": [],
   "source": [
    "X_train2, X_test2, y_train, y_test = train_test_split(X2, target, stratify=target, test_size=0.2, random_state=42)"
   ]
  },
  {
   "cell_type": "code",
   "execution_count": 354,
   "id": "f766e9c8-d0aa-4cf3-81af-306a1464049f",
   "metadata": {},
   "outputs": [
    {
     "data": {
      "text/html": [
       "<style>#sk-container-id-12 {color: black;}#sk-container-id-12 pre{padding: 0;}#sk-container-id-12 div.sk-toggleable {background-color: white;}#sk-container-id-12 label.sk-toggleable__label {cursor: pointer;display: block;width: 100%;margin-bottom: 0;padding: 0.3em;box-sizing: border-box;text-align: center;}#sk-container-id-12 label.sk-toggleable__label-arrow:before {content: \"▸\";float: left;margin-right: 0.25em;color: #696969;}#sk-container-id-12 label.sk-toggleable__label-arrow:hover:before {color: black;}#sk-container-id-12 div.sk-estimator:hover label.sk-toggleable__label-arrow:before {color: black;}#sk-container-id-12 div.sk-toggleable__content {max-height: 0;max-width: 0;overflow: hidden;text-align: left;background-color: #f0f8ff;}#sk-container-id-12 div.sk-toggleable__content pre {margin: 0.2em;color: black;border-radius: 0.25em;background-color: #f0f8ff;}#sk-container-id-12 input.sk-toggleable__control:checked~div.sk-toggleable__content {max-height: 200px;max-width: 100%;overflow: auto;}#sk-container-id-12 input.sk-toggleable__control:checked~label.sk-toggleable__label-arrow:before {content: \"▾\";}#sk-container-id-12 div.sk-estimator input.sk-toggleable__control:checked~label.sk-toggleable__label {background-color: #d4ebff;}#sk-container-id-12 div.sk-label input.sk-toggleable__control:checked~label.sk-toggleable__label {background-color: #d4ebff;}#sk-container-id-12 input.sk-hidden--visually {border: 0;clip: rect(1px 1px 1px 1px);clip: rect(1px, 1px, 1px, 1px);height: 1px;margin: -1px;overflow: hidden;padding: 0;position: absolute;width: 1px;}#sk-container-id-12 div.sk-estimator {font-family: monospace;background-color: #f0f8ff;border: 1px dotted black;border-radius: 0.25em;box-sizing: border-box;margin-bottom: 0.5em;}#sk-container-id-12 div.sk-estimator:hover {background-color: #d4ebff;}#sk-container-id-12 div.sk-parallel-item::after {content: \"\";width: 100%;border-bottom: 1px solid gray;flex-grow: 1;}#sk-container-id-12 div.sk-label:hover label.sk-toggleable__label {background-color: #d4ebff;}#sk-container-id-12 div.sk-serial::before {content: \"\";position: absolute;border-left: 1px solid gray;box-sizing: border-box;top: 0;bottom: 0;left: 50%;z-index: 0;}#sk-container-id-12 div.sk-serial {display: flex;flex-direction: column;align-items: center;background-color: white;padding-right: 0.2em;padding-left: 0.2em;position: relative;}#sk-container-id-12 div.sk-item {position: relative;z-index: 1;}#sk-container-id-12 div.sk-parallel {display: flex;align-items: stretch;justify-content: center;background-color: white;position: relative;}#sk-container-id-12 div.sk-item::before, #sk-container-id-12 div.sk-parallel-item::before {content: \"\";position: absolute;border-left: 1px solid gray;box-sizing: border-box;top: 0;bottom: 0;left: 50%;z-index: -1;}#sk-container-id-12 div.sk-parallel-item {display: flex;flex-direction: column;z-index: 1;position: relative;background-color: white;}#sk-container-id-12 div.sk-parallel-item:first-child::after {align-self: flex-end;width: 50%;}#sk-container-id-12 div.sk-parallel-item:last-child::after {align-self: flex-start;width: 50%;}#sk-container-id-12 div.sk-parallel-item:only-child::after {width: 0;}#sk-container-id-12 div.sk-dashed-wrapped {border: 1px dashed gray;margin: 0 0.4em 0.5em 0.4em;box-sizing: border-box;padding-bottom: 0.4em;background-color: white;}#sk-container-id-12 div.sk-label label {font-family: monospace;font-weight: bold;display: inline-block;line-height: 1.2em;}#sk-container-id-12 div.sk-label-container {text-align: center;}#sk-container-id-12 div.sk-container {/* jupyter's `normalize.less` sets `[hidden] { display: none; }` but bootstrap.min.css set `[hidden] { display: none !important; }` so we also need the `!important` here to be able to override the default hidden behavior on the sphinx rendered scikit-learn.org. See: https://github.com/scikit-learn/scikit-learn/issues/21755 */display: inline-block !important;position: relative;}#sk-container-id-12 div.sk-text-repr-fallback {display: none;}</style><div id=\"sk-container-id-12\" class=\"sk-top-container\"><div class=\"sk-text-repr-fallback\"><pre>XGBClassifier(base_score=None, booster=None, callbacks=None,\n",
       "              colsample_bylevel=None, colsample_bynode=None,\n",
       "              colsample_bytree=None, early_stopping_rounds=None,\n",
       "              enable_categorical=False, eval_metric=&#x27;logloss&#x27;,\n",
       "              feature_types=None, gamma=None, gpu_id=None, grow_policy=None,\n",
       "              importance_type=None, interaction_constraints=None,\n",
       "              learning_rate=None, max_bin=None, max_cat_threshold=None,\n",
       "              max_cat_to_onehot=None, max_delta_step=None, max_depth=None,\n",
       "              max_leaves=None, min_child_weight=None, missing=nan,\n",
       "              monotone_constraints=None, n_estimators=100, n_jobs=None,\n",
       "              num_parallel_tree=None, predictor=None, random_state=None, ...)</pre><b>In a Jupyter environment, please rerun this cell to show the HTML representation or trust the notebook. <br />On GitHub, the HTML representation is unable to render, please try loading this page with nbviewer.org.</b></div><div class=\"sk-container\" hidden><div class=\"sk-item\"><div class=\"sk-estimator sk-toggleable\"><input class=\"sk-toggleable__control sk-hidden--visually\" id=\"sk-estimator-id-12\" type=\"checkbox\" checked><label for=\"sk-estimator-id-12\" class=\"sk-toggleable__label sk-toggleable__label-arrow\">XGBClassifier</label><div class=\"sk-toggleable__content\"><pre>XGBClassifier(base_score=None, booster=None, callbacks=None,\n",
       "              colsample_bylevel=None, colsample_bynode=None,\n",
       "              colsample_bytree=None, early_stopping_rounds=None,\n",
       "              enable_categorical=False, eval_metric=&#x27;logloss&#x27;,\n",
       "              feature_types=None, gamma=None, gpu_id=None, grow_policy=None,\n",
       "              importance_type=None, interaction_constraints=None,\n",
       "              learning_rate=None, max_bin=None, max_cat_threshold=None,\n",
       "              max_cat_to_onehot=None, max_delta_step=None, max_depth=None,\n",
       "              max_leaves=None, min_child_weight=None, missing=nan,\n",
       "              monotone_constraints=None, n_estimators=100, n_jobs=None,\n",
       "              num_parallel_tree=None, predictor=None, random_state=None, ...)</pre></div></div></div></div></div>"
      ],
      "text/plain": [
       "XGBClassifier(base_score=None, booster=None, callbacks=None,\n",
       "              colsample_bylevel=None, colsample_bynode=None,\n",
       "              colsample_bytree=None, early_stopping_rounds=None,\n",
       "              enable_categorical=False, eval_metric='logloss',\n",
       "              feature_types=None, gamma=None, gpu_id=None, grow_policy=None,\n",
       "              importance_type=None, interaction_constraints=None,\n",
       "              learning_rate=None, max_bin=None, max_cat_threshold=None,\n",
       "              max_cat_to_onehot=None, max_delta_step=None, max_depth=None,\n",
       "              max_leaves=None, min_child_weight=None, missing=nan,\n",
       "              monotone_constraints=None, n_estimators=100, n_jobs=None,\n",
       "              num_parallel_tree=None, predictor=None, random_state=None, ...)"
      ]
     },
     "execution_count": 354,
     "metadata": {},
     "output_type": "execute_result"
    }
   ],
   "source": [
    "xgb_clf2 = XGBClassifier(eval_metric='logloss')\n",
    "xgb_clf2.fit(X_train2, y_train)"
   ]
  },
  {
   "cell_type": "code",
   "execution_count": 355,
   "id": "37817db1-5e94-4a60-9bc9-2a038cec6ffd",
   "metadata": {},
   "outputs": [],
   "source": [
    "preds2 = xgb_clf2.predict(X_test2)"
   ]
  },
  {
   "cell_type": "code",
   "execution_count": 356,
   "id": "7cd88136-ff68-46db-bf6c-0a2d93cea1d6",
   "metadata": {},
   "outputs": [
    {
     "name": "stdout",
     "output_type": "stream",
     "text": [
      "              precision    recall  f1-score   support\n",
      "\n",
      "           0       0.97      0.98      0.98       163\n",
      "           1       0.90      0.85      0.88        33\n",
      "\n",
      "    accuracy                           0.96       196\n",
      "   macro avg       0.94      0.92      0.93       196\n",
      "weighted avg       0.96      0.96      0.96       196\n",
      "\n"
     ]
    }
   ],
   "source": [
    "print(classification_report(y_test, preds2))"
   ]
  },
  {
   "cell_type": "code",
   "execution_count": 357,
   "id": "234fc7fb-c945-4095-b86e-f75d276ee176",
   "metadata": {},
   "outputs": [
    {
     "data": {
      "image/png": "[encoded data removed]",
      "text/plain": [
       "<Figure size 640x480 with 2 Axes>"
      ]
     },
     "metadata": {},
     "output_type": "display_data"
    }
   ],
   "source": [
    "cm =confusion_matrix(y_test, preds2, labels=xgb_clf2.classes_)\n",
    "disp = ConfusionMatrixDisplay(confusion_matrix=cm, display_labels=xgb_clf2.classes_)\n",
    "disp.plot()\n",
    "plt.show()"
   ]
  },
  {
   "cell_type": "code",
   "execution_count": 359,
   "id": "f01f03da-6896-4129-b3e3-b1088a1a0e10",
   "metadata": {},
   "outputs": [],
   "source": [
    "s_data3 = sim_data_nulls_filled[sld_cols]"
   ]
  },
  {
   "cell_type": "code",
   "execution_count": 360,
   "id": "ca363e37-2b9a-49b7-9557-0bb23d7ec783",
   "metadata": {},
   "outputs": [],
   "source": [
    "X3 = s_data3.drop(['frustration'], axis=1)"
   ]
  },
  {
   "cell_type": "code",
   "execution_count": 363,
   "id": "c62467c5-e828-47c6-9d62-e7f3f8d06c3c",
   "metadata": {},
   "outputs": [],
   "source": [
    "X_train3, X_test3, y_train, y_test = train_test_split(X3, s_tartget, stratify=s_tartget, test_size=0.2, random_state=42)"
   ]
  },
  {
   "cell_type": "code",
   "execution_count": 364,
   "id": "78fc60c3-a0c4-46ee-a5ad-f5d716f89020",
   "metadata": {},
   "outputs": [
    {
     "data": {
      "text/html": [
       "<style>#sk-container-id-13 {color: black;}#sk-container-id-13 pre{padding: 0;}#sk-container-id-13 div.sk-toggleable {background-color: white;}#sk-container-id-13 label.sk-toggleable__label {cursor: pointer;display: block;width: 100%;margin-bottom: 0;padding: 0.3em;box-sizing: border-box;text-align: center;}#sk-container-id-13 label.sk-toggleable__label-arrow:before {content: \"▸\";float: left;margin-right: 0.25em;color: #696969;}#sk-container-id-13 label.sk-toggleable__label-arrow:hover:before {color: black;}#sk-container-id-13 div.sk-estimator:hover label.sk-toggleable__label-arrow:before {color: black;}#sk-container-id-13 div.sk-toggleable__content {max-height: 0;max-width: 0;overflow: hidden;text-align: left;background-color: #f0f8ff;}#sk-container-id-13 div.sk-toggleable__content pre {margin: 0.2em;color: black;border-radius: 0.25em;background-color: #f0f8ff;}#sk-container-id-13 input.sk-toggleable__control:checked~div.sk-toggleable__content {max-height: 200px;max-width: 100%;overflow: auto;}#sk-container-id-13 input.sk-toggleable__control:checked~label.sk-toggleable__label-arrow:before {content: \"▾\";}#sk-container-id-13 div.sk-estimator input.sk-toggleable__control:checked~label.sk-toggleable__label {background-color: #d4ebff;}#sk-container-id-13 div.sk-label input.sk-toggleable__control:checked~label.sk-toggleable__label {background-color: #d4ebff;}#sk-container-id-13 input.sk-hidden--visually {border: 0;clip: rect(1px 1px 1px 1px);clip: rect(1px, 1px, 1px, 1px);height: 1px;margin: -1px;overflow: hidden;padding: 0;position: absolute;width: 1px;}#sk-container-id-13 div.sk-estimator {font-family: monospace;background-color: #f0f8ff;border: 1px dotted black;border-radius: 0.25em;box-sizing: border-box;margin-bottom: 0.5em;}#sk-container-id-13 div.sk-estimator:hover {background-color: #d4ebff;}#sk-container-id-13 div.sk-parallel-item::after {content: \"\";width: 100%;border-bottom: 1px solid gray;flex-grow: 1;}#sk-container-id-13 div.sk-label:hover label.sk-toggleable__label {background-color: #d4ebff;}#sk-container-id-13 div.sk-serial::before {content: \"\";position: absolute;border-left: 1px solid gray;box-sizing: border-box;top: 0;bottom: 0;left: 50%;z-index: 0;}#sk-container-id-13 div.sk-serial {display: flex;flex-direction: column;align-items: center;background-color: white;padding-right: 0.2em;padding-left: 0.2em;position: relative;}#sk-container-id-13 div.sk-item {position: relative;z-index: 1;}#sk-container-id-13 div.sk-parallel {display: flex;align-items: stretch;justify-content: center;background-color: white;position: relative;}#sk-container-id-13 div.sk-item::before, #sk-container-id-13 div.sk-parallel-item::before {content: \"\";position: absolute;border-left: 1px solid gray;box-sizing: border-box;top: 0;bottom: 0;left: 50%;z-index: -1;}#sk-container-id-13 div.sk-parallel-item {display: flex;flex-direction: column;z-index: 1;position: relative;background-color: white;}#sk-container-id-13 div.sk-parallel-item:first-child::after {align-self: flex-end;width: 50%;}#sk-container-id-13 div.sk-parallel-item:last-child::after {align-self: flex-start;width: 50%;}#sk-container-id-13 div.sk-parallel-item:only-child::after {width: 0;}#sk-container-id-13 div.sk-dashed-wrapped {border: 1px dashed gray;margin: 0 0.4em 0.5em 0.4em;box-sizing: border-box;padding-bottom: 0.4em;background-color: white;}#sk-container-id-13 div.sk-label label {font-family: monospace;font-weight: bold;display: inline-block;line-height: 1.2em;}#sk-container-id-13 div.sk-label-container {text-align: center;}#sk-container-id-13 div.sk-container {/* jupyter's `normalize.less` sets `[hidden] { display: none; }` but bootstrap.min.css set `[hidden] { display: none !important; }` so we also need the `!important` here to be able to override the default hidden behavior on the sphinx rendered scikit-learn.org. See: https://github.com/scikit-learn/scikit-learn/issues/21755 */display: inline-block !important;position: relative;}#sk-container-id-13 div.sk-text-repr-fallback {display: none;}</style><div id=\"sk-container-id-13\" class=\"sk-top-container\"><div class=\"sk-text-repr-fallback\"><pre>XGBClassifier(base_score=None, booster=None, callbacks=None,\n",
       "              colsample_bylevel=None, colsample_bynode=None,\n",
       "              colsample_bytree=None, early_stopping_rounds=None,\n",
       "              enable_categorical=False, eval_metric=&#x27;logloss&#x27;,\n",
       "              feature_types=None, gamma=None, gpu_id=None, grow_policy=None,\n",
       "              importance_type=None, interaction_constraints=None,\n",
       "              learning_rate=None, max_bin=None, max_cat_threshold=None,\n",
       "              max_cat_to_onehot=None, max_delta_step=None, max_depth=None,\n",
       "              max_leaves=None, min_child_weight=None, missing=nan,\n",
       "              monotone_constraints=None, n_estimators=100, n_jobs=None,\n",
       "              num_parallel_tree=None, predictor=None, random_state=None, ...)</pre><b>In a Jupyter environment, please rerun this cell to show the HTML representation or trust the notebook. <br />On GitHub, the HTML representation is unable to render, please try loading this page with nbviewer.org.</b></div><div class=\"sk-container\" hidden><div class=\"sk-item\"><div class=\"sk-estimator sk-toggleable\"><input class=\"sk-toggleable__control sk-hidden--visually\" id=\"sk-estimator-id-13\" type=\"checkbox\" checked><label for=\"sk-estimator-id-13\" class=\"sk-toggleable__label sk-toggleable__label-arrow\">XGBClassifier</label><div class=\"sk-toggleable__content\"><pre>XGBClassifier(base_score=None, booster=None, callbacks=None,\n",
       "              colsample_bylevel=None, colsample_bynode=None,\n",
       "              colsample_bytree=None, early_stopping_rounds=None,\n",
       "              enable_categorical=False, eval_metric=&#x27;logloss&#x27;,\n",
       "              feature_types=None, gamma=None, gpu_id=None, grow_policy=None,\n",
       "              importance_type=None, interaction_constraints=None,\n",
       "              learning_rate=None, max_bin=None, max_cat_threshold=None,\n",
       "              max_cat_to_onehot=None, max_delta_step=None, max_depth=None,\n",
       "              max_leaves=None, min_child_weight=None, missing=nan,\n",
       "              monotone_constraints=None, n_estimators=100, n_jobs=None,\n",
       "              num_parallel_tree=None, predictor=None, random_state=None, ...)</pre></div></div></div></div></div>"
      ],
      "text/plain": [
       "XGBClassifier(base_score=None, booster=None, callbacks=None,\n",
       "              colsample_bylevel=None, colsample_bynode=None,\n",
       "              colsample_bytree=None, early_stopping_rounds=None,\n",
       "              enable_categorical=False, eval_metric='logloss',\n",
       "              feature_types=None, gamma=None, gpu_id=None, grow_policy=None,\n",
       "              importance_type=None, interaction_constraints=None,\n",
       "              learning_rate=None, max_bin=None, max_cat_threshold=None,\n",
       "              max_cat_to_onehot=None, max_delta_step=None, max_depth=None,\n",
       "              max_leaves=None, min_child_weight=None, missing=nan,\n",
       "              monotone_constraints=None, n_estimators=100, n_jobs=None,\n",
       "              num_parallel_tree=None, predictor=None, random_state=None, ...)"
      ]
     },
     "execution_count": 364,
     "metadata": {},
     "output_type": "execute_result"
    }
   ],
   "source": [
    "xgb_clf3 = XGBClassifier(eval_metric='logloss')\n",
    "xgb_clf3.fit(X_train3, y_train)"
   ]
  },
  {
   "cell_type": "code",
   "execution_count": 365,
   "id": "dce9b883-d567-4717-b44e-40986eeef6e8",
   "metadata": {},
   "outputs": [],
   "source": [
    "preds3 = xgb_clf3.predict(X_test3)"
   ]
  },
  {
   "cell_type": "code",
   "execution_count": 366,
   "id": "94882bfa-402c-499b-a950-b50d43aaa2d4",
   "metadata": {},
   "outputs": [
    {
     "name": "stdout",
     "output_type": "stream",
     "text": [
      "              precision    recall  f1-score   support\n",
      "\n",
      "           0       0.93      0.97      0.95       217\n",
      "           1       0.81      0.61      0.69        41\n",
      "\n",
      "    accuracy                           0.91       258\n",
      "   macro avg       0.87      0.79      0.82       258\n",
      "weighted avg       0.91      0.91      0.91       258\n",
      "\n"
     ]
    }
   ],
   "source": [
    "print(classification_report(y_test, preds3))"
   ]
  },
  {
   "cell_type": "code",
   "execution_count": 367,
   "id": "d87d0a2f-532c-43de-973a-910685f344b4",
   "metadata": {},
   "outputs": [
    {
     "data": {
      "image/png": "[encoded data removed]",
      "text/plain": [
       "<Figure size 640x480 with 2 Axes>"
      ]
     },
     "metadata": {},
     "output_type": "display_data"
    }
   ],
   "source": [
    "cm =confusion_matrix(y_test, preds3, labels=xgb_clf3.classes_)\n",
    "disp = ConfusionMatrixDisplay(confusion_matrix=cm, display_labels=xgb_clf3.classes_)\n",
    "disp.plot()\n",
    "plt.show()"
   ]
  },
  {
   "cell_type": "code",
   "execution_count": null,
   "id": "5e7e19d9-824e-4121-b9fc-09083a6e216e",
   "metadata": {},
   "outputs": [],
   "source": []
  }
 ],
 "metadata": {
  "kernelspec": {
   "display_name": "Python 3 (ipykernel)",
   "language": "python",
   "name": "python3"
  },
  "language_info": {
   "codemirror_mode": {
    "name": "ipython",
    "version": 3
   },
   "file_extension": ".py",
   "mimetype": "text/x-python",
   "name": "python",
   "nbconvert_exporter": "python",
   "pygments_lexer": "ipython3",
   "version": "3.8.18"
  }
 },
 "nbformat": 4,
 "nbformat_minor": 5
}
